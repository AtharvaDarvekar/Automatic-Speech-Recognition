{
  "metadata": {
    "kernelspec": {
      "display_name": "Python 3",
      "name": "python3"
    },
    "language_info": {
      "name": "python",
      "version": "3.10.14",
      "mimetype": "text/x-python",
      "codemirror_mode": {
        "name": "ipython",
        "version": 3
      },
      "pygments_lexer": "ipython3",
      "nbconvert_exporter": "python",
      "file_extension": ".py"
    },
    "kaggle": {
      "accelerator": "gpu",
      "dataSources": [],
      "dockerImageVersionId": 30776,
      "isInternetEnabled": true,
      "language": "python",
      "sourceType": "notebook",
      "isGpuEnabled": true
    },
    "colab": {
      "provenance": [],
      "gpuType": "T4"
    },
    "accelerator": "GPU",
    "widgets": {
      "application/vnd.jupyter.widget-state+json": {
        "99702c72cfa849358fb8e005115f2f52": {
          "model_module": "@jupyter-widgets/controls",
          "model_name": "HBoxModel",
          "model_module_version": "1.5.0",
          "state": {
            "_dom_classes": [],
            "_model_module": "@jupyter-widgets/controls",
            "_model_module_version": "1.5.0",
            "_model_name": "HBoxModel",
            "_view_count": null,
            "_view_module": "@jupyter-widgets/controls",
            "_view_module_version": "1.5.0",
            "_view_name": "HBoxView",
            "box_style": "",
            "children": [
              "IPY_MODEL_6bc0ccaaab5448e39d96ef5d3c0d49e5",
              "IPY_MODEL_7a20c4fd94584e26859479487fb59536",
              "IPY_MODEL_f3b3f7b201e545b094b2b2bbadaa9f9c"
            ],
            "layout": "IPY_MODEL_857b0115b99c44fbb4b0550e52cce710"
          }
        },
        "6bc0ccaaab5448e39d96ef5d3c0d49e5": {
          "model_module": "@jupyter-widgets/controls",
          "model_name": "HTMLModel",
          "model_module_version": "1.5.0",
          "state": {
            "_dom_classes": [],
            "_model_module": "@jupyter-widgets/controls",
            "_model_module_version": "1.5.0",
            "_model_name": "HTMLModel",
            "_view_count": null,
            "_view_module": "@jupyter-widgets/controls",
            "_view_module_version": "1.5.0",
            "_view_name": "HTMLView",
            "description": "",
            "description_tooltip": null,
            "layout": "IPY_MODEL_343ec35bede3462d8f164ee79191e067",
            "placeholder": "​",
            "style": "IPY_MODEL_80587c93f72a410aad200f1a75d99e99",
            "value": "Map: 100%"
          }
        },
        "7a20c4fd94584e26859479487fb59536": {
          "model_module": "@jupyter-widgets/controls",
          "model_name": "FloatProgressModel",
          "model_module_version": "1.5.0",
          "state": {
            "_dom_classes": [],
            "_model_module": "@jupyter-widgets/controls",
            "_model_module_version": "1.5.0",
            "_model_name": "FloatProgressModel",
            "_view_count": null,
            "_view_module": "@jupyter-widgets/controls",
            "_view_module_version": "1.5.0",
            "_view_name": "ProgressView",
            "bar_style": "success",
            "description": "",
            "description_tooltip": null,
            "layout": "IPY_MODEL_89bec64fc2ed47c68d410dafa17766b2",
            "max": 469,
            "min": 0,
            "orientation": "horizontal",
            "style": "IPY_MODEL_ad46db40987045e4bc6acc4faccff00f",
            "value": 469
          }
        },
        "f3b3f7b201e545b094b2b2bbadaa9f9c": {
          "model_module": "@jupyter-widgets/controls",
          "model_name": "HTMLModel",
          "model_module_version": "1.5.0",
          "state": {
            "_dom_classes": [],
            "_model_module": "@jupyter-widgets/controls",
            "_model_module_version": "1.5.0",
            "_model_name": "HTMLModel",
            "_view_count": null,
            "_view_module": "@jupyter-widgets/controls",
            "_view_module_version": "1.5.0",
            "_view_name": "HTMLView",
            "description": "",
            "description_tooltip": null,
            "layout": "IPY_MODEL_57fdcc5a960f448093ce4fcf4b81c6b4",
            "placeholder": "​",
            "style": "IPY_MODEL_0bd4ffa2fa9a41fdb5ad6e55e3b7f435",
            "value": " 469/469 [00:00&lt;00:00, 2114.16 examples/s]"
          }
        },
        "857b0115b99c44fbb4b0550e52cce710": {
          "model_module": "@jupyter-widgets/base",
          "model_name": "LayoutModel",
          "model_module_version": "1.2.0",
          "state": {
            "_model_module": "@jupyter-widgets/base",
            "_model_module_version": "1.2.0",
            "_model_name": "LayoutModel",
            "_view_count": null,
            "_view_module": "@jupyter-widgets/base",
            "_view_module_version": "1.2.0",
            "_view_name": "LayoutView",
            "align_content": null,
            "align_items": null,
            "align_self": null,
            "border": null,
            "bottom": null,
            "display": null,
            "flex": null,
            "flex_flow": null,
            "grid_area": null,
            "grid_auto_columns": null,
            "grid_auto_flow": null,
            "grid_auto_rows": null,
            "grid_column": null,
            "grid_gap": null,
            "grid_row": null,
            "grid_template_areas": null,
            "grid_template_columns": null,
            "grid_template_rows": null,
            "height": null,
            "justify_content": null,
            "justify_items": null,
            "left": null,
            "margin": null,
            "max_height": null,
            "max_width": null,
            "min_height": null,
            "min_width": null,
            "object_fit": null,
            "object_position": null,
            "order": null,
            "overflow": null,
            "overflow_x": null,
            "overflow_y": null,
            "padding": null,
            "right": null,
            "top": null,
            "visibility": null,
            "width": null
          }
        },
        "343ec35bede3462d8f164ee79191e067": {
          "model_module": "@jupyter-widgets/base",
          "model_name": "LayoutModel",
          "model_module_version": "1.2.0",
          "state": {
            "_model_module": "@jupyter-widgets/base",
            "_model_module_version": "1.2.0",
            "_model_name": "LayoutModel",
            "_view_count": null,
            "_view_module": "@jupyter-widgets/base",
            "_view_module_version": "1.2.0",
            "_view_name": "LayoutView",
            "align_content": null,
            "align_items": null,
            "align_self": null,
            "border": null,
            "bottom": null,
            "display": null,
            "flex": null,
            "flex_flow": null,
            "grid_area": null,
            "grid_auto_columns": null,
            "grid_auto_flow": null,
            "grid_auto_rows": null,
            "grid_column": null,
            "grid_gap": null,
            "grid_row": null,
            "grid_template_areas": null,
            "grid_template_columns": null,
            "grid_template_rows": null,
            "height": null,
            "justify_content": null,
            "justify_items": null,
            "left": null,
            "margin": null,
            "max_height": null,
            "max_width": null,
            "min_height": null,
            "min_width": null,
            "object_fit": null,
            "object_position": null,
            "order": null,
            "overflow": null,
            "overflow_x": null,
            "overflow_y": null,
            "padding": null,
            "right": null,
            "top": null,
            "visibility": null,
            "width": null
          }
        },
        "80587c93f72a410aad200f1a75d99e99": {
          "model_module": "@jupyter-widgets/controls",
          "model_name": "DescriptionStyleModel",
          "model_module_version": "1.5.0",
          "state": {
            "_model_module": "@jupyter-widgets/controls",
            "_model_module_version": "1.5.0",
            "_model_name": "DescriptionStyleModel",
            "_view_count": null,
            "_view_module": "@jupyter-widgets/base",
            "_view_module_version": "1.2.0",
            "_view_name": "StyleView",
            "description_width": ""
          }
        },
        "89bec64fc2ed47c68d410dafa17766b2": {
          "model_module": "@jupyter-widgets/base",
          "model_name": "LayoutModel",
          "model_module_version": "1.2.0",
          "state": {
            "_model_module": "@jupyter-widgets/base",
            "_model_module_version": "1.2.0",
            "_model_name": "LayoutModel",
            "_view_count": null,
            "_view_module": "@jupyter-widgets/base",
            "_view_module_version": "1.2.0",
            "_view_name": "LayoutView",
            "align_content": null,
            "align_items": null,
            "align_self": null,
            "border": null,
            "bottom": null,
            "display": null,
            "flex": null,
            "flex_flow": null,
            "grid_area": null,
            "grid_auto_columns": null,
            "grid_auto_flow": null,
            "grid_auto_rows": null,
            "grid_column": null,
            "grid_gap": null,
            "grid_row": null,
            "grid_template_areas": null,
            "grid_template_columns": null,
            "grid_template_rows": null,
            "height": null,
            "justify_content": null,
            "justify_items": null,
            "left": null,
            "margin": null,
            "max_height": null,
            "max_width": null,
            "min_height": null,
            "min_width": null,
            "object_fit": null,
            "object_position": null,
            "order": null,
            "overflow": null,
            "overflow_x": null,
            "overflow_y": null,
            "padding": null,
            "right": null,
            "top": null,
            "visibility": null,
            "width": null
          }
        },
        "ad46db40987045e4bc6acc4faccff00f": {
          "model_module": "@jupyter-widgets/controls",
          "model_name": "ProgressStyleModel",
          "model_module_version": "1.5.0",
          "state": {
            "_model_module": "@jupyter-widgets/controls",
            "_model_module_version": "1.5.0",
            "_model_name": "ProgressStyleModel",
            "_view_count": null,
            "_view_module": "@jupyter-widgets/base",
            "_view_module_version": "1.2.0",
            "_view_name": "StyleView",
            "bar_color": null,
            "description_width": ""
          }
        },
        "57fdcc5a960f448093ce4fcf4b81c6b4": {
          "model_module": "@jupyter-widgets/base",
          "model_name": "LayoutModel",
          "model_module_version": "1.2.0",
          "state": {
            "_model_module": "@jupyter-widgets/base",
            "_model_module_version": "1.2.0",
            "_model_name": "LayoutModel",
            "_view_count": null,
            "_view_module": "@jupyter-widgets/base",
            "_view_module_version": "1.2.0",
            "_view_name": "LayoutView",
            "align_content": null,
            "align_items": null,
            "align_self": null,
            "border": null,
            "bottom": null,
            "display": null,
            "flex": null,
            "flex_flow": null,
            "grid_area": null,
            "grid_auto_columns": null,
            "grid_auto_flow": null,
            "grid_auto_rows": null,
            "grid_column": null,
            "grid_gap": null,
            "grid_row": null,
            "grid_template_areas": null,
            "grid_template_columns": null,
            "grid_template_rows": null,
            "height": null,
            "justify_content": null,
            "justify_items": null,
            "left": null,
            "margin": null,
            "max_height": null,
            "max_width": null,
            "min_height": null,
            "min_width": null,
            "object_fit": null,
            "object_position": null,
            "order": null,
            "overflow": null,
            "overflow_x": null,
            "overflow_y": null,
            "padding": null,
            "right": null,
            "top": null,
            "visibility": null,
            "width": null
          }
        },
        "0bd4ffa2fa9a41fdb5ad6e55e3b7f435": {
          "model_module": "@jupyter-widgets/controls",
          "model_name": "DescriptionStyleModel",
          "model_module_version": "1.5.0",
          "state": {
            "_model_module": "@jupyter-widgets/controls",
            "_model_module_version": "1.5.0",
            "_model_name": "DescriptionStyleModel",
            "_view_count": null,
            "_view_module": "@jupyter-widgets/base",
            "_view_module_version": "1.2.0",
            "_view_name": "StyleView",
            "description_width": ""
          }
        },
        "8870f66e91574032b23c3e35b672ac07": {
          "model_module": "@jupyter-widgets/controls",
          "model_name": "HBoxModel",
          "model_module_version": "1.5.0",
          "state": {
            "_dom_classes": [],
            "_model_module": "@jupyter-widgets/controls",
            "_model_module_version": "1.5.0",
            "_model_name": "HBoxModel",
            "_view_count": null,
            "_view_module": "@jupyter-widgets/controls",
            "_view_module_version": "1.5.0",
            "_view_name": "HBoxView",
            "box_style": "",
            "children": [
              "IPY_MODEL_b9716088cc674bf8ae4a2c0b3b69f1e6",
              "IPY_MODEL_2023e67eab6d4323aefc70f28e7efe3e",
              "IPY_MODEL_7c07931cb9b04a47971cb6e4aab36bd9"
            ],
            "layout": "IPY_MODEL_ac451d0274b14687a1ac9363e9bd1f8c"
          }
        },
        "b9716088cc674bf8ae4a2c0b3b69f1e6": {
          "model_module": "@jupyter-widgets/controls",
          "model_name": "HTMLModel",
          "model_module_version": "1.5.0",
          "state": {
            "_dom_classes": [],
            "_model_module": "@jupyter-widgets/controls",
            "_model_module_version": "1.5.0",
            "_model_name": "HTMLModel",
            "_view_count": null,
            "_view_module": "@jupyter-widgets/controls",
            "_view_module_version": "1.5.0",
            "_view_name": "HTMLView",
            "description": "",
            "description_tooltip": null,
            "layout": "IPY_MODEL_f67684e7eb2c43e492dce4192e43d922",
            "placeholder": "​",
            "style": "IPY_MODEL_996f18bb19de4b61aa3e50e8641d0477",
            "value": "Map: 100%"
          }
        },
        "2023e67eab6d4323aefc70f28e7efe3e": {
          "model_module": "@jupyter-widgets/controls",
          "model_name": "FloatProgressModel",
          "model_module_version": "1.5.0",
          "state": {
            "_dom_classes": [],
            "_model_module": "@jupyter-widgets/controls",
            "_model_module_version": "1.5.0",
            "_model_name": "FloatProgressModel",
            "_view_count": null,
            "_view_module": "@jupyter-widgets/controls",
            "_view_module_version": "1.5.0",
            "_view_name": "ProgressView",
            "bar_style": "success",
            "description": "",
            "description_tooltip": null,
            "layout": "IPY_MODEL_021ead7a8e704a1dac57bed3f40f09ef",
            "max": 315,
            "min": 0,
            "orientation": "horizontal",
            "style": "IPY_MODEL_21fbe7c96c234e5fb2743434164f354a",
            "value": 315
          }
        },
        "7c07931cb9b04a47971cb6e4aab36bd9": {
          "model_module": "@jupyter-widgets/controls",
          "model_name": "HTMLModel",
          "model_module_version": "1.5.0",
          "state": {
            "_dom_classes": [],
            "_model_module": "@jupyter-widgets/controls",
            "_model_module_version": "1.5.0",
            "_model_name": "HTMLModel",
            "_view_count": null,
            "_view_module": "@jupyter-widgets/controls",
            "_view_module_version": "1.5.0",
            "_view_name": "HTMLView",
            "description": "",
            "description_tooltip": null,
            "layout": "IPY_MODEL_dc225b6357d44975a6ffae011246ab40",
            "placeholder": "​",
            "style": "IPY_MODEL_746f7a16d3be42e1b1d65346e639b1b5",
            "value": " 315/315 [00:00&lt;00:00, 2959.40 examples/s]"
          }
        },
        "ac451d0274b14687a1ac9363e9bd1f8c": {
          "model_module": "@jupyter-widgets/base",
          "model_name": "LayoutModel",
          "model_module_version": "1.2.0",
          "state": {
            "_model_module": "@jupyter-widgets/base",
            "_model_module_version": "1.2.0",
            "_model_name": "LayoutModel",
            "_view_count": null,
            "_view_module": "@jupyter-widgets/base",
            "_view_module_version": "1.2.0",
            "_view_name": "LayoutView",
            "align_content": null,
            "align_items": null,
            "align_self": null,
            "border": null,
            "bottom": null,
            "display": null,
            "flex": null,
            "flex_flow": null,
            "grid_area": null,
            "grid_auto_columns": null,
            "grid_auto_flow": null,
            "grid_auto_rows": null,
            "grid_column": null,
            "grid_gap": null,
            "grid_row": null,
            "grid_template_areas": null,
            "grid_template_columns": null,
            "grid_template_rows": null,
            "height": null,
            "justify_content": null,
            "justify_items": null,
            "left": null,
            "margin": null,
            "max_height": null,
            "max_width": null,
            "min_height": null,
            "min_width": null,
            "object_fit": null,
            "object_position": null,
            "order": null,
            "overflow": null,
            "overflow_x": null,
            "overflow_y": null,
            "padding": null,
            "right": null,
            "top": null,
            "visibility": null,
            "width": null
          }
        },
        "f67684e7eb2c43e492dce4192e43d922": {
          "model_module": "@jupyter-widgets/base",
          "model_name": "LayoutModel",
          "model_module_version": "1.2.0",
          "state": {
            "_model_module": "@jupyter-widgets/base",
            "_model_module_version": "1.2.0",
            "_model_name": "LayoutModel",
            "_view_count": null,
            "_view_module": "@jupyter-widgets/base",
            "_view_module_version": "1.2.0",
            "_view_name": "LayoutView",
            "align_content": null,
            "align_items": null,
            "align_self": null,
            "border": null,
            "bottom": null,
            "display": null,
            "flex": null,
            "flex_flow": null,
            "grid_area": null,
            "grid_auto_columns": null,
            "grid_auto_flow": null,
            "grid_auto_rows": null,
            "grid_column": null,
            "grid_gap": null,
            "grid_row": null,
            "grid_template_areas": null,
            "grid_template_columns": null,
            "grid_template_rows": null,
            "height": null,
            "justify_content": null,
            "justify_items": null,
            "left": null,
            "margin": null,
            "max_height": null,
            "max_width": null,
            "min_height": null,
            "min_width": null,
            "object_fit": null,
            "object_position": null,
            "order": null,
            "overflow": null,
            "overflow_x": null,
            "overflow_y": null,
            "padding": null,
            "right": null,
            "top": null,
            "visibility": null,
            "width": null
          }
        },
        "996f18bb19de4b61aa3e50e8641d0477": {
          "model_module": "@jupyter-widgets/controls",
          "model_name": "DescriptionStyleModel",
          "model_module_version": "1.5.0",
          "state": {
            "_model_module": "@jupyter-widgets/controls",
            "_model_module_version": "1.5.0",
            "_model_name": "DescriptionStyleModel",
            "_view_count": null,
            "_view_module": "@jupyter-widgets/base",
            "_view_module_version": "1.2.0",
            "_view_name": "StyleView",
            "description_width": ""
          }
        },
        "021ead7a8e704a1dac57bed3f40f09ef": {
          "model_module": "@jupyter-widgets/base",
          "model_name": "LayoutModel",
          "model_module_version": "1.2.0",
          "state": {
            "_model_module": "@jupyter-widgets/base",
            "_model_module_version": "1.2.0",
            "_model_name": "LayoutModel",
            "_view_count": null,
            "_view_module": "@jupyter-widgets/base",
            "_view_module_version": "1.2.0",
            "_view_name": "LayoutView",
            "align_content": null,
            "align_items": null,
            "align_self": null,
            "border": null,
            "bottom": null,
            "display": null,
            "flex": null,
            "flex_flow": null,
            "grid_area": null,
            "grid_auto_columns": null,
            "grid_auto_flow": null,
            "grid_auto_rows": null,
            "grid_column": null,
            "grid_gap": null,
            "grid_row": null,
            "grid_template_areas": null,
            "grid_template_columns": null,
            "grid_template_rows": null,
            "height": null,
            "justify_content": null,
            "justify_items": null,
            "left": null,
            "margin": null,
            "max_height": null,
            "max_width": null,
            "min_height": null,
            "min_width": null,
            "object_fit": null,
            "object_position": null,
            "order": null,
            "overflow": null,
            "overflow_x": null,
            "overflow_y": null,
            "padding": null,
            "right": null,
            "top": null,
            "visibility": null,
            "width": null
          }
        },
        "21fbe7c96c234e5fb2743434164f354a": {
          "model_module": "@jupyter-widgets/controls",
          "model_name": "ProgressStyleModel",
          "model_module_version": "1.5.0",
          "state": {
            "_model_module": "@jupyter-widgets/controls",
            "_model_module_version": "1.5.0",
            "_model_name": "ProgressStyleModel",
            "_view_count": null,
            "_view_module": "@jupyter-widgets/base",
            "_view_module_version": "1.2.0",
            "_view_name": "StyleView",
            "bar_color": null,
            "description_width": ""
          }
        },
        "dc225b6357d44975a6ffae011246ab40": {
          "model_module": "@jupyter-widgets/base",
          "model_name": "LayoutModel",
          "model_module_version": "1.2.0",
          "state": {
            "_model_module": "@jupyter-widgets/base",
            "_model_module_version": "1.2.0",
            "_model_name": "LayoutModel",
            "_view_count": null,
            "_view_module": "@jupyter-widgets/base",
            "_view_module_version": "1.2.0",
            "_view_name": "LayoutView",
            "align_content": null,
            "align_items": null,
            "align_self": null,
            "border": null,
            "bottom": null,
            "display": null,
            "flex": null,
            "flex_flow": null,
            "grid_area": null,
            "grid_auto_columns": null,
            "grid_auto_flow": null,
            "grid_auto_rows": null,
            "grid_column": null,
            "grid_gap": null,
            "grid_row": null,
            "grid_template_areas": null,
            "grid_template_columns": null,
            "grid_template_rows": null,
            "height": null,
            "justify_content": null,
            "justify_items": null,
            "left": null,
            "margin": null,
            "max_height": null,
            "max_width": null,
            "min_height": null,
            "min_width": null,
            "object_fit": null,
            "object_position": null,
            "order": null,
            "overflow": null,
            "overflow_x": null,
            "overflow_y": null,
            "padding": null,
            "right": null,
            "top": null,
            "visibility": null,
            "width": null
          }
        },
        "746f7a16d3be42e1b1d65346e639b1b5": {
          "model_module": "@jupyter-widgets/controls",
          "model_name": "DescriptionStyleModel",
          "model_module_version": "1.5.0",
          "state": {
            "_model_module": "@jupyter-widgets/controls",
            "_model_module_version": "1.5.0",
            "_model_name": "DescriptionStyleModel",
            "_view_count": null,
            "_view_module": "@jupyter-widgets/base",
            "_view_module_version": "1.2.0",
            "_view_name": "StyleView",
            "description_width": ""
          }
        },
        "41175f508b224d7eb37e02b39df199bc": {
          "model_module": "@jupyter-widgets/controls",
          "model_name": "HBoxModel",
          "model_module_version": "1.5.0",
          "state": {
            "_dom_classes": [],
            "_model_module": "@jupyter-widgets/controls",
            "_model_module_version": "1.5.0",
            "_model_name": "HBoxModel",
            "_view_count": null,
            "_view_module": "@jupyter-widgets/controls",
            "_view_module_version": "1.5.0",
            "_view_name": "HBoxView",
            "box_style": "",
            "children": [
              "IPY_MODEL_b3506057a6164920a6da88cefddaa6ed",
              "IPY_MODEL_558885d016de4bd695ffe70665524f34",
              "IPY_MODEL_66656a01298141dc9e7e376d664d001b"
            ],
            "layout": "IPY_MODEL_407812d5c8234f31afbe7e489df970ea"
          }
        },
        "b3506057a6164920a6da88cefddaa6ed": {
          "model_module": "@jupyter-widgets/controls",
          "model_name": "HTMLModel",
          "model_module_version": "1.5.0",
          "state": {
            "_dom_classes": [],
            "_model_module": "@jupyter-widgets/controls",
            "_model_module_version": "1.5.0",
            "_model_name": "HTMLModel",
            "_view_count": null,
            "_view_module": "@jupyter-widgets/controls",
            "_view_module_version": "1.5.0",
            "_view_name": "HTMLView",
            "description": "",
            "description_tooltip": null,
            "layout": "IPY_MODEL_0a125ba6fbf54c15a5178ad5029736ae",
            "placeholder": "​",
            "style": "IPY_MODEL_f44ecf839d3a4dc48df8d015d2f64a2e",
            "value": "Map: 100%"
          }
        },
        "558885d016de4bd695ffe70665524f34": {
          "model_module": "@jupyter-widgets/controls",
          "model_name": "FloatProgressModel",
          "model_module_version": "1.5.0",
          "state": {
            "_dom_classes": [],
            "_model_module": "@jupyter-widgets/controls",
            "_model_module_version": "1.5.0",
            "_model_name": "FloatProgressModel",
            "_view_count": null,
            "_view_module": "@jupyter-widgets/controls",
            "_view_module_version": "1.5.0",
            "_view_name": "ProgressView",
            "bar_style": "success",
            "description": "",
            "description_tooltip": null,
            "layout": "IPY_MODEL_42fdf89355a1468aa044785154165dd2",
            "max": 469,
            "min": 0,
            "orientation": "horizontal",
            "style": "IPY_MODEL_37655f51057f43f59cc88f29c2b46807",
            "value": 469
          }
        },
        "66656a01298141dc9e7e376d664d001b": {
          "model_module": "@jupyter-widgets/controls",
          "model_name": "HTMLModel",
          "model_module_version": "1.5.0",
          "state": {
            "_dom_classes": [],
            "_model_module": "@jupyter-widgets/controls",
            "_model_module_version": "1.5.0",
            "_model_name": "HTMLModel",
            "_view_count": null,
            "_view_module": "@jupyter-widgets/controls",
            "_view_module_version": "1.5.0",
            "_view_name": "HTMLView",
            "description": "",
            "description_tooltip": null,
            "layout": "IPY_MODEL_f0885c60b2f748c6be77a2b27560acf8",
            "placeholder": "​",
            "style": "IPY_MODEL_377ae30f89eb45ec8ed7938f4882e8bd",
            "value": " 469/469 [00:00&lt;00:00, 4697.81 examples/s]"
          }
        },
        "407812d5c8234f31afbe7e489df970ea": {
          "model_module": "@jupyter-widgets/base",
          "model_name": "LayoutModel",
          "model_module_version": "1.2.0",
          "state": {
            "_model_module": "@jupyter-widgets/base",
            "_model_module_version": "1.2.0",
            "_model_name": "LayoutModel",
            "_view_count": null,
            "_view_module": "@jupyter-widgets/base",
            "_view_module_version": "1.2.0",
            "_view_name": "LayoutView",
            "align_content": null,
            "align_items": null,
            "align_self": null,
            "border": null,
            "bottom": null,
            "display": null,
            "flex": null,
            "flex_flow": null,
            "grid_area": null,
            "grid_auto_columns": null,
            "grid_auto_flow": null,
            "grid_auto_rows": null,
            "grid_column": null,
            "grid_gap": null,
            "grid_row": null,
            "grid_template_areas": null,
            "grid_template_columns": null,
            "grid_template_rows": null,
            "height": null,
            "justify_content": null,
            "justify_items": null,
            "left": null,
            "margin": null,
            "max_height": null,
            "max_width": null,
            "min_height": null,
            "min_width": null,
            "object_fit": null,
            "object_position": null,
            "order": null,
            "overflow": null,
            "overflow_x": null,
            "overflow_y": null,
            "padding": null,
            "right": null,
            "top": null,
            "visibility": null,
            "width": null
          }
        },
        "0a125ba6fbf54c15a5178ad5029736ae": {
          "model_module": "@jupyter-widgets/base",
          "model_name": "LayoutModel",
          "model_module_version": "1.2.0",
          "state": {
            "_model_module": "@jupyter-widgets/base",
            "_model_module_version": "1.2.0",
            "_model_name": "LayoutModel",
            "_view_count": null,
            "_view_module": "@jupyter-widgets/base",
            "_view_module_version": "1.2.0",
            "_view_name": "LayoutView",
            "align_content": null,
            "align_items": null,
            "align_self": null,
            "border": null,
            "bottom": null,
            "display": null,
            "flex": null,
            "flex_flow": null,
            "grid_area": null,
            "grid_auto_columns": null,
            "grid_auto_flow": null,
            "grid_auto_rows": null,
            "grid_column": null,
            "grid_gap": null,
            "grid_row": null,
            "grid_template_areas": null,
            "grid_template_columns": null,
            "grid_template_rows": null,
            "height": null,
            "justify_content": null,
            "justify_items": null,
            "left": null,
            "margin": null,
            "max_height": null,
            "max_width": null,
            "min_height": null,
            "min_width": null,
            "object_fit": null,
            "object_position": null,
            "order": null,
            "overflow": null,
            "overflow_x": null,
            "overflow_y": null,
            "padding": null,
            "right": null,
            "top": null,
            "visibility": null,
            "width": null
          }
        },
        "f44ecf839d3a4dc48df8d015d2f64a2e": {
          "model_module": "@jupyter-widgets/controls",
          "model_name": "DescriptionStyleModel",
          "model_module_version": "1.5.0",
          "state": {
            "_model_module": "@jupyter-widgets/controls",
            "_model_module_version": "1.5.0",
            "_model_name": "DescriptionStyleModel",
            "_view_count": null,
            "_view_module": "@jupyter-widgets/base",
            "_view_module_version": "1.2.0",
            "_view_name": "StyleView",
            "description_width": ""
          }
        },
        "42fdf89355a1468aa044785154165dd2": {
          "model_module": "@jupyter-widgets/base",
          "model_name": "LayoutModel",
          "model_module_version": "1.2.0",
          "state": {
            "_model_module": "@jupyter-widgets/base",
            "_model_module_version": "1.2.0",
            "_model_name": "LayoutModel",
            "_view_count": null,
            "_view_module": "@jupyter-widgets/base",
            "_view_module_version": "1.2.0",
            "_view_name": "LayoutView",
            "align_content": null,
            "align_items": null,
            "align_self": null,
            "border": null,
            "bottom": null,
            "display": null,
            "flex": null,
            "flex_flow": null,
            "grid_area": null,
            "grid_auto_columns": null,
            "grid_auto_flow": null,
            "grid_auto_rows": null,
            "grid_column": null,
            "grid_gap": null,
            "grid_row": null,
            "grid_template_areas": null,
            "grid_template_columns": null,
            "grid_template_rows": null,
            "height": null,
            "justify_content": null,
            "justify_items": null,
            "left": null,
            "margin": null,
            "max_height": null,
            "max_width": null,
            "min_height": null,
            "min_width": null,
            "object_fit": null,
            "object_position": null,
            "order": null,
            "overflow": null,
            "overflow_x": null,
            "overflow_y": null,
            "padding": null,
            "right": null,
            "top": null,
            "visibility": null,
            "width": null
          }
        },
        "37655f51057f43f59cc88f29c2b46807": {
          "model_module": "@jupyter-widgets/controls",
          "model_name": "ProgressStyleModel",
          "model_module_version": "1.5.0",
          "state": {
            "_model_module": "@jupyter-widgets/controls",
            "_model_module_version": "1.5.0",
            "_model_name": "ProgressStyleModel",
            "_view_count": null,
            "_view_module": "@jupyter-widgets/base",
            "_view_module_version": "1.2.0",
            "_view_name": "StyleView",
            "bar_color": null,
            "description_width": ""
          }
        },
        "f0885c60b2f748c6be77a2b27560acf8": {
          "model_module": "@jupyter-widgets/base",
          "model_name": "LayoutModel",
          "model_module_version": "1.2.0",
          "state": {
            "_model_module": "@jupyter-widgets/base",
            "_model_module_version": "1.2.0",
            "_model_name": "LayoutModel",
            "_view_count": null,
            "_view_module": "@jupyter-widgets/base",
            "_view_module_version": "1.2.0",
            "_view_name": "LayoutView",
            "align_content": null,
            "align_items": null,
            "align_self": null,
            "border": null,
            "bottom": null,
            "display": null,
            "flex": null,
            "flex_flow": null,
            "grid_area": null,
            "grid_auto_columns": null,
            "grid_auto_flow": null,
            "grid_auto_rows": null,
            "grid_column": null,
            "grid_gap": null,
            "grid_row": null,
            "grid_template_areas": null,
            "grid_template_columns": null,
            "grid_template_rows": null,
            "height": null,
            "justify_content": null,
            "justify_items": null,
            "left": null,
            "margin": null,
            "max_height": null,
            "max_width": null,
            "min_height": null,
            "min_width": null,
            "object_fit": null,
            "object_position": null,
            "order": null,
            "overflow": null,
            "overflow_x": null,
            "overflow_y": null,
            "padding": null,
            "right": null,
            "top": null,
            "visibility": null,
            "width": null
          }
        },
        "377ae30f89eb45ec8ed7938f4882e8bd": {
          "model_module": "@jupyter-widgets/controls",
          "model_name": "DescriptionStyleModel",
          "model_module_version": "1.5.0",
          "state": {
            "_model_module": "@jupyter-widgets/controls",
            "_model_module_version": "1.5.0",
            "_model_name": "DescriptionStyleModel",
            "_view_count": null,
            "_view_module": "@jupyter-widgets/base",
            "_view_module_version": "1.2.0",
            "_view_name": "StyleView",
            "description_width": ""
          }
        },
        "da6fd1f2320a437ab64b747cdfa77733": {
          "model_module": "@jupyter-widgets/controls",
          "model_name": "HBoxModel",
          "model_module_version": "1.5.0",
          "state": {
            "_dom_classes": [],
            "_model_module": "@jupyter-widgets/controls",
            "_model_module_version": "1.5.0",
            "_model_name": "HBoxModel",
            "_view_count": null,
            "_view_module": "@jupyter-widgets/controls",
            "_view_module_version": "1.5.0",
            "_view_name": "HBoxView",
            "box_style": "",
            "children": [
              "IPY_MODEL_eb281880208d474a99b19b2f6fb91143",
              "IPY_MODEL_f1adb5ad4bc0422ea52e1897f5d87b4a",
              "IPY_MODEL_e0fbe2d65f6e4208a9da240b57a59272"
            ],
            "layout": "IPY_MODEL_1af1d275f38e4a83a81386d560036934"
          }
        },
        "eb281880208d474a99b19b2f6fb91143": {
          "model_module": "@jupyter-widgets/controls",
          "model_name": "HTMLModel",
          "model_module_version": "1.5.0",
          "state": {
            "_dom_classes": [],
            "_model_module": "@jupyter-widgets/controls",
            "_model_module_version": "1.5.0",
            "_model_name": "HTMLModel",
            "_view_count": null,
            "_view_module": "@jupyter-widgets/controls",
            "_view_module_version": "1.5.0",
            "_view_name": "HTMLView",
            "description": "",
            "description_tooltip": null,
            "layout": "IPY_MODEL_22c3c837dab84e4886391cc39940b709",
            "placeholder": "​",
            "style": "IPY_MODEL_f7b73d8f71054783ba63a0af4a36eca9",
            "value": "Map: 100%"
          }
        },
        "f1adb5ad4bc0422ea52e1897f5d87b4a": {
          "model_module": "@jupyter-widgets/controls",
          "model_name": "FloatProgressModel",
          "model_module_version": "1.5.0",
          "state": {
            "_dom_classes": [],
            "_model_module": "@jupyter-widgets/controls",
            "_model_module_version": "1.5.0",
            "_model_name": "FloatProgressModel",
            "_view_count": null,
            "_view_module": "@jupyter-widgets/controls",
            "_view_module_version": "1.5.0",
            "_view_name": "ProgressView",
            "bar_style": "success",
            "description": "",
            "description_tooltip": null,
            "layout": "IPY_MODEL_fdaace2c4af34c89b1187672a5ca791f",
            "max": 315,
            "min": 0,
            "orientation": "horizontal",
            "style": "IPY_MODEL_8f0c8705b8364963a771492d322fbfa9",
            "value": 315
          }
        },
        "e0fbe2d65f6e4208a9da240b57a59272": {
          "model_module": "@jupyter-widgets/controls",
          "model_name": "HTMLModel",
          "model_module_version": "1.5.0",
          "state": {
            "_dom_classes": [],
            "_model_module": "@jupyter-widgets/controls",
            "_model_module_version": "1.5.0",
            "_model_name": "HTMLModel",
            "_view_count": null,
            "_view_module": "@jupyter-widgets/controls",
            "_view_module_version": "1.5.0",
            "_view_name": "HTMLView",
            "description": "",
            "description_tooltip": null,
            "layout": "IPY_MODEL_ce2d432fdf194f9899b2b4f5ce31f57f",
            "placeholder": "​",
            "style": "IPY_MODEL_573122dcde9a4889b66f9d266d9919a6",
            "value": " 315/315 [00:00&lt;00:00, 4335.60 examples/s]"
          }
        },
        "1af1d275f38e4a83a81386d560036934": {
          "model_module": "@jupyter-widgets/base",
          "model_name": "LayoutModel",
          "model_module_version": "1.2.0",
          "state": {
            "_model_module": "@jupyter-widgets/base",
            "_model_module_version": "1.2.0",
            "_model_name": "LayoutModel",
            "_view_count": null,
            "_view_module": "@jupyter-widgets/base",
            "_view_module_version": "1.2.0",
            "_view_name": "LayoutView",
            "align_content": null,
            "align_items": null,
            "align_self": null,
            "border": null,
            "bottom": null,
            "display": null,
            "flex": null,
            "flex_flow": null,
            "grid_area": null,
            "grid_auto_columns": null,
            "grid_auto_flow": null,
            "grid_auto_rows": null,
            "grid_column": null,
            "grid_gap": null,
            "grid_row": null,
            "grid_template_areas": null,
            "grid_template_columns": null,
            "grid_template_rows": null,
            "height": null,
            "justify_content": null,
            "justify_items": null,
            "left": null,
            "margin": null,
            "max_height": null,
            "max_width": null,
            "min_height": null,
            "min_width": null,
            "object_fit": null,
            "object_position": null,
            "order": null,
            "overflow": null,
            "overflow_x": null,
            "overflow_y": null,
            "padding": null,
            "right": null,
            "top": null,
            "visibility": null,
            "width": null
          }
        },
        "22c3c837dab84e4886391cc39940b709": {
          "model_module": "@jupyter-widgets/base",
          "model_name": "LayoutModel",
          "model_module_version": "1.2.0",
          "state": {
            "_model_module": "@jupyter-widgets/base",
            "_model_module_version": "1.2.0",
            "_model_name": "LayoutModel",
            "_view_count": null,
            "_view_module": "@jupyter-widgets/base",
            "_view_module_version": "1.2.0",
            "_view_name": "LayoutView",
            "align_content": null,
            "align_items": null,
            "align_self": null,
            "border": null,
            "bottom": null,
            "display": null,
            "flex": null,
            "flex_flow": null,
            "grid_area": null,
            "grid_auto_columns": null,
            "grid_auto_flow": null,
            "grid_auto_rows": null,
            "grid_column": null,
            "grid_gap": null,
            "grid_row": null,
            "grid_template_areas": null,
            "grid_template_columns": null,
            "grid_template_rows": null,
            "height": null,
            "justify_content": null,
            "justify_items": null,
            "left": null,
            "margin": null,
            "max_height": null,
            "max_width": null,
            "min_height": null,
            "min_width": null,
            "object_fit": null,
            "object_position": null,
            "order": null,
            "overflow": null,
            "overflow_x": null,
            "overflow_y": null,
            "padding": null,
            "right": null,
            "top": null,
            "visibility": null,
            "width": null
          }
        },
        "f7b73d8f71054783ba63a0af4a36eca9": {
          "model_module": "@jupyter-widgets/controls",
          "model_name": "DescriptionStyleModel",
          "model_module_version": "1.5.0",
          "state": {
            "_model_module": "@jupyter-widgets/controls",
            "_model_module_version": "1.5.0",
            "_model_name": "DescriptionStyleModel",
            "_view_count": null,
            "_view_module": "@jupyter-widgets/base",
            "_view_module_version": "1.2.0",
            "_view_name": "StyleView",
            "description_width": ""
          }
        },
        "fdaace2c4af34c89b1187672a5ca791f": {
          "model_module": "@jupyter-widgets/base",
          "model_name": "LayoutModel",
          "model_module_version": "1.2.0",
          "state": {
            "_model_module": "@jupyter-widgets/base",
            "_model_module_version": "1.2.0",
            "_model_name": "LayoutModel",
            "_view_count": null,
            "_view_module": "@jupyter-widgets/base",
            "_view_module_version": "1.2.0",
            "_view_name": "LayoutView",
            "align_content": null,
            "align_items": null,
            "align_self": null,
            "border": null,
            "bottom": null,
            "display": null,
            "flex": null,
            "flex_flow": null,
            "grid_area": null,
            "grid_auto_columns": null,
            "grid_auto_flow": null,
            "grid_auto_rows": null,
            "grid_column": null,
            "grid_gap": null,
            "grid_row": null,
            "grid_template_areas": null,
            "grid_template_columns": null,
            "grid_template_rows": null,
            "height": null,
            "justify_content": null,
            "justify_items": null,
            "left": null,
            "margin": null,
            "max_height": null,
            "max_width": null,
            "min_height": null,
            "min_width": null,
            "object_fit": null,
            "object_position": null,
            "order": null,
            "overflow": null,
            "overflow_x": null,
            "overflow_y": null,
            "padding": null,
            "right": null,
            "top": null,
            "visibility": null,
            "width": null
          }
        },
        "8f0c8705b8364963a771492d322fbfa9": {
          "model_module": "@jupyter-widgets/controls",
          "model_name": "ProgressStyleModel",
          "model_module_version": "1.5.0",
          "state": {
            "_model_module": "@jupyter-widgets/controls",
            "_model_module_version": "1.5.0",
            "_model_name": "ProgressStyleModel",
            "_view_count": null,
            "_view_module": "@jupyter-widgets/base",
            "_view_module_version": "1.2.0",
            "_view_name": "StyleView",
            "bar_color": null,
            "description_width": ""
          }
        },
        "ce2d432fdf194f9899b2b4f5ce31f57f": {
          "model_module": "@jupyter-widgets/base",
          "model_name": "LayoutModel",
          "model_module_version": "1.2.0",
          "state": {
            "_model_module": "@jupyter-widgets/base",
            "_model_module_version": "1.2.0",
            "_model_name": "LayoutModel",
            "_view_count": null,
            "_view_module": "@jupyter-widgets/base",
            "_view_module_version": "1.2.0",
            "_view_name": "LayoutView",
            "align_content": null,
            "align_items": null,
            "align_self": null,
            "border": null,
            "bottom": null,
            "display": null,
            "flex": null,
            "flex_flow": null,
            "grid_area": null,
            "grid_auto_columns": null,
            "grid_auto_flow": null,
            "grid_auto_rows": null,
            "grid_column": null,
            "grid_gap": null,
            "grid_row": null,
            "grid_template_areas": null,
            "grid_template_columns": null,
            "grid_template_rows": null,
            "height": null,
            "justify_content": null,
            "justify_items": null,
            "left": null,
            "margin": null,
            "max_height": null,
            "max_width": null,
            "min_height": null,
            "min_width": null,
            "object_fit": null,
            "object_position": null,
            "order": null,
            "overflow": null,
            "overflow_x": null,
            "overflow_y": null,
            "padding": null,
            "right": null,
            "top": null,
            "visibility": null,
            "width": null
          }
        },
        "573122dcde9a4889b66f9d266d9919a6": {
          "model_module": "@jupyter-widgets/controls",
          "model_name": "DescriptionStyleModel",
          "model_module_version": "1.5.0",
          "state": {
            "_model_module": "@jupyter-widgets/controls",
            "_model_module_version": "1.5.0",
            "_model_name": "DescriptionStyleModel",
            "_view_count": null,
            "_view_module": "@jupyter-widgets/base",
            "_view_module_version": "1.2.0",
            "_view_name": "StyleView",
            "description_width": ""
          }
        },
        "3eee6903de714769a681c99b2eb7fb31": {
          "model_module": "@jupyter-widgets/controls",
          "model_name": "HBoxModel",
          "model_module_version": "1.5.0",
          "state": {
            "_dom_classes": [],
            "_model_module": "@jupyter-widgets/controls",
            "_model_module_version": "1.5.0",
            "_model_name": "HBoxModel",
            "_view_count": null,
            "_view_module": "@jupyter-widgets/controls",
            "_view_module_version": "1.5.0",
            "_view_name": "HBoxView",
            "box_style": "",
            "children": [
              "IPY_MODEL_33701e914c6b4023b9b6942ff1c8a1b2",
              "IPY_MODEL_aca2e4419d124d28853483f595099496",
              "IPY_MODEL_aac54c8c9827480bbb9beaa0ac8e3605"
            ],
            "layout": "IPY_MODEL_e7b2b2096e0144a3b172c4b4ed0cd06f"
          }
        },
        "33701e914c6b4023b9b6942ff1c8a1b2": {
          "model_module": "@jupyter-widgets/controls",
          "model_name": "HTMLModel",
          "model_module_version": "1.5.0",
          "state": {
            "_dom_classes": [],
            "_model_module": "@jupyter-widgets/controls",
            "_model_module_version": "1.5.0",
            "_model_name": "HTMLModel",
            "_view_count": null,
            "_view_module": "@jupyter-widgets/controls",
            "_view_module_version": "1.5.0",
            "_view_name": "HTMLView",
            "description": "",
            "description_tooltip": null,
            "layout": "IPY_MODEL_589009ecbea4467699c694d395ddbbd9",
            "placeholder": "​",
            "style": "IPY_MODEL_b27b5b99662646e6ae8ce59f97f54850",
            "value": "Map: 100%"
          }
        },
        "aca2e4419d124d28853483f595099496": {
          "model_module": "@jupyter-widgets/controls",
          "model_name": "FloatProgressModel",
          "model_module_version": "1.5.0",
          "state": {
            "_dom_classes": [],
            "_model_module": "@jupyter-widgets/controls",
            "_model_module_version": "1.5.0",
            "_model_name": "FloatProgressModel",
            "_view_count": null,
            "_view_module": "@jupyter-widgets/controls",
            "_view_module_version": "1.5.0",
            "_view_name": "ProgressView",
            "bar_style": "success",
            "description": "",
            "description_tooltip": null,
            "layout": "IPY_MODEL_27d0513bb703422fbc8b3761ad3cad70",
            "max": 469,
            "min": 0,
            "orientation": "horizontal",
            "style": "IPY_MODEL_278c7b30ab8f4bd48d3178c6e5c8ea38",
            "value": 469
          }
        },
        "aac54c8c9827480bbb9beaa0ac8e3605": {
          "model_module": "@jupyter-widgets/controls",
          "model_name": "HTMLModel",
          "model_module_version": "1.5.0",
          "state": {
            "_dom_classes": [],
            "_model_module": "@jupyter-widgets/controls",
            "_model_module_version": "1.5.0",
            "_model_name": "HTMLModel",
            "_view_count": null,
            "_view_module": "@jupyter-widgets/controls",
            "_view_module_version": "1.5.0",
            "_view_name": "HTMLView",
            "description": "",
            "description_tooltip": null,
            "layout": "IPY_MODEL_b44d2df9a469461695197df0ffd658bf",
            "placeholder": "​",
            "style": "IPY_MODEL_7a7a3197dc534f38a6f47ccacdd405ec",
            "value": " 469/469 [00:14&lt;00:00, 12.05 examples/s]"
          }
        },
        "e7b2b2096e0144a3b172c4b4ed0cd06f": {
          "model_module": "@jupyter-widgets/base",
          "model_name": "LayoutModel",
          "model_module_version": "1.2.0",
          "state": {
            "_model_module": "@jupyter-widgets/base",
            "_model_module_version": "1.2.0",
            "_model_name": "LayoutModel",
            "_view_count": null,
            "_view_module": "@jupyter-widgets/base",
            "_view_module_version": "1.2.0",
            "_view_name": "LayoutView",
            "align_content": null,
            "align_items": null,
            "align_self": null,
            "border": null,
            "bottom": null,
            "display": null,
            "flex": null,
            "flex_flow": null,
            "grid_area": null,
            "grid_auto_columns": null,
            "grid_auto_flow": null,
            "grid_auto_rows": null,
            "grid_column": null,
            "grid_gap": null,
            "grid_row": null,
            "grid_template_areas": null,
            "grid_template_columns": null,
            "grid_template_rows": null,
            "height": null,
            "justify_content": null,
            "justify_items": null,
            "left": null,
            "margin": null,
            "max_height": null,
            "max_width": null,
            "min_height": null,
            "min_width": null,
            "object_fit": null,
            "object_position": null,
            "order": null,
            "overflow": null,
            "overflow_x": null,
            "overflow_y": null,
            "padding": null,
            "right": null,
            "top": null,
            "visibility": null,
            "width": null
          }
        },
        "589009ecbea4467699c694d395ddbbd9": {
          "model_module": "@jupyter-widgets/base",
          "model_name": "LayoutModel",
          "model_module_version": "1.2.0",
          "state": {
            "_model_module": "@jupyter-widgets/base",
            "_model_module_version": "1.2.0",
            "_model_name": "LayoutModel",
            "_view_count": null,
            "_view_module": "@jupyter-widgets/base",
            "_view_module_version": "1.2.0",
            "_view_name": "LayoutView",
            "align_content": null,
            "align_items": null,
            "align_self": null,
            "border": null,
            "bottom": null,
            "display": null,
            "flex": null,
            "flex_flow": null,
            "grid_area": null,
            "grid_auto_columns": null,
            "grid_auto_flow": null,
            "grid_auto_rows": null,
            "grid_column": null,
            "grid_gap": null,
            "grid_row": null,
            "grid_template_areas": null,
            "grid_template_columns": null,
            "grid_template_rows": null,
            "height": null,
            "justify_content": null,
            "justify_items": null,
            "left": null,
            "margin": null,
            "max_height": null,
            "max_width": null,
            "min_height": null,
            "min_width": null,
            "object_fit": null,
            "object_position": null,
            "order": null,
            "overflow": null,
            "overflow_x": null,
            "overflow_y": null,
            "padding": null,
            "right": null,
            "top": null,
            "visibility": null,
            "width": null
          }
        },
        "b27b5b99662646e6ae8ce59f97f54850": {
          "model_module": "@jupyter-widgets/controls",
          "model_name": "DescriptionStyleModel",
          "model_module_version": "1.5.0",
          "state": {
            "_model_module": "@jupyter-widgets/controls",
            "_model_module_version": "1.5.0",
            "_model_name": "DescriptionStyleModel",
            "_view_count": null,
            "_view_module": "@jupyter-widgets/base",
            "_view_module_version": "1.2.0",
            "_view_name": "StyleView",
            "description_width": ""
          }
        },
        "27d0513bb703422fbc8b3761ad3cad70": {
          "model_module": "@jupyter-widgets/base",
          "model_name": "LayoutModel",
          "model_module_version": "1.2.0",
          "state": {
            "_model_module": "@jupyter-widgets/base",
            "_model_module_version": "1.2.0",
            "_model_name": "LayoutModel",
            "_view_count": null,
            "_view_module": "@jupyter-widgets/base",
            "_view_module_version": "1.2.0",
            "_view_name": "LayoutView",
            "align_content": null,
            "align_items": null,
            "align_self": null,
            "border": null,
            "bottom": null,
            "display": null,
            "flex": null,
            "flex_flow": null,
            "grid_area": null,
            "grid_auto_columns": null,
            "grid_auto_flow": null,
            "grid_auto_rows": null,
            "grid_column": null,
            "grid_gap": null,
            "grid_row": null,
            "grid_template_areas": null,
            "grid_template_columns": null,
            "grid_template_rows": null,
            "height": null,
            "justify_content": null,
            "justify_items": null,
            "left": null,
            "margin": null,
            "max_height": null,
            "max_width": null,
            "min_height": null,
            "min_width": null,
            "object_fit": null,
            "object_position": null,
            "order": null,
            "overflow": null,
            "overflow_x": null,
            "overflow_y": null,
            "padding": null,
            "right": null,
            "top": null,
            "visibility": null,
            "width": null
          }
        },
        "278c7b30ab8f4bd48d3178c6e5c8ea38": {
          "model_module": "@jupyter-widgets/controls",
          "model_name": "ProgressStyleModel",
          "model_module_version": "1.5.0",
          "state": {
            "_model_module": "@jupyter-widgets/controls",
            "_model_module_version": "1.5.0",
            "_model_name": "ProgressStyleModel",
            "_view_count": null,
            "_view_module": "@jupyter-widgets/base",
            "_view_module_version": "1.2.0",
            "_view_name": "StyleView",
            "bar_color": null,
            "description_width": ""
          }
        },
        "b44d2df9a469461695197df0ffd658bf": {
          "model_module": "@jupyter-widgets/base",
          "model_name": "LayoutModel",
          "model_module_version": "1.2.0",
          "state": {
            "_model_module": "@jupyter-widgets/base",
            "_model_module_version": "1.2.0",
            "_model_name": "LayoutModel",
            "_view_count": null,
            "_view_module": "@jupyter-widgets/base",
            "_view_module_version": "1.2.0",
            "_view_name": "LayoutView",
            "align_content": null,
            "align_items": null,
            "align_self": null,
            "border": null,
            "bottom": null,
            "display": null,
            "flex": null,
            "flex_flow": null,
            "grid_area": null,
            "grid_auto_columns": null,
            "grid_auto_flow": null,
            "grid_auto_rows": null,
            "grid_column": null,
            "grid_gap": null,
            "grid_row": null,
            "grid_template_areas": null,
            "grid_template_columns": null,
            "grid_template_rows": null,
            "height": null,
            "justify_content": null,
            "justify_items": null,
            "left": null,
            "margin": null,
            "max_height": null,
            "max_width": null,
            "min_height": null,
            "min_width": null,
            "object_fit": null,
            "object_position": null,
            "order": null,
            "overflow": null,
            "overflow_x": null,
            "overflow_y": null,
            "padding": null,
            "right": null,
            "top": null,
            "visibility": null,
            "width": null
          }
        },
        "7a7a3197dc534f38a6f47ccacdd405ec": {
          "model_module": "@jupyter-widgets/controls",
          "model_name": "DescriptionStyleModel",
          "model_module_version": "1.5.0",
          "state": {
            "_model_module": "@jupyter-widgets/controls",
            "_model_module_version": "1.5.0",
            "_model_name": "DescriptionStyleModel",
            "_view_count": null,
            "_view_module": "@jupyter-widgets/base",
            "_view_module_version": "1.2.0",
            "_view_name": "StyleView",
            "description_width": ""
          }
        },
        "8df01b5d71164905b7401a74c93f7e4d": {
          "model_module": "@jupyter-widgets/controls",
          "model_name": "HBoxModel",
          "model_module_version": "1.5.0",
          "state": {
            "_dom_classes": [],
            "_model_module": "@jupyter-widgets/controls",
            "_model_module_version": "1.5.0",
            "_model_name": "HBoxModel",
            "_view_count": null,
            "_view_module": "@jupyter-widgets/controls",
            "_view_module_version": "1.5.0",
            "_view_name": "HBoxView",
            "box_style": "",
            "children": [
              "IPY_MODEL_aaf1091d4617416aa99c219c3a7cb30f",
              "IPY_MODEL_52f4dad7e7b64fec917adb16e90b509e",
              "IPY_MODEL_bbdd3525cd8f42d4802f8a7fab122144"
            ],
            "layout": "IPY_MODEL_3f3094300edc49ef8fdbb24876d35806"
          }
        },
        "aaf1091d4617416aa99c219c3a7cb30f": {
          "model_module": "@jupyter-widgets/controls",
          "model_name": "HTMLModel",
          "model_module_version": "1.5.0",
          "state": {
            "_dom_classes": [],
            "_model_module": "@jupyter-widgets/controls",
            "_model_module_version": "1.5.0",
            "_model_name": "HTMLModel",
            "_view_count": null,
            "_view_module": "@jupyter-widgets/controls",
            "_view_module_version": "1.5.0",
            "_view_name": "HTMLView",
            "description": "",
            "description_tooltip": null,
            "layout": "IPY_MODEL_45b0d9ee358b4c349b071af43e0bc6db",
            "placeholder": "​",
            "style": "IPY_MODEL_d4dc04dbc3224cf9b235e3ef0474b861",
            "value": "Map: 100%"
          }
        },
        "52f4dad7e7b64fec917adb16e90b509e": {
          "model_module": "@jupyter-widgets/controls",
          "model_name": "FloatProgressModel",
          "model_module_version": "1.5.0",
          "state": {
            "_dom_classes": [],
            "_model_module": "@jupyter-widgets/controls",
            "_model_module_version": "1.5.0",
            "_model_name": "FloatProgressModel",
            "_view_count": null,
            "_view_module": "@jupyter-widgets/controls",
            "_view_module_version": "1.5.0",
            "_view_name": "ProgressView",
            "bar_style": "success",
            "description": "",
            "description_tooltip": null,
            "layout": "IPY_MODEL_c122b214c9b24c82b803899103328480",
            "max": 315,
            "min": 0,
            "orientation": "horizontal",
            "style": "IPY_MODEL_44dfc79a49c34f1b8bd0a40aa6af6f9c",
            "value": 315
          }
        },
        "bbdd3525cd8f42d4802f8a7fab122144": {
          "model_module": "@jupyter-widgets/controls",
          "model_name": "HTMLModel",
          "model_module_version": "1.5.0",
          "state": {
            "_dom_classes": [],
            "_model_module": "@jupyter-widgets/controls",
            "_model_module_version": "1.5.0",
            "_model_name": "HTMLModel",
            "_view_count": null,
            "_view_module": "@jupyter-widgets/controls",
            "_view_module_version": "1.5.0",
            "_view_name": "HTMLView",
            "description": "",
            "description_tooltip": null,
            "layout": "IPY_MODEL_bd16d6ad79af40f8817bd4988d347b42",
            "placeholder": "​",
            "style": "IPY_MODEL_9bbfe273bded4e65820bd30f9346fb2c",
            "value": " 315/315 [00:03&lt;00:00, 72.12 examples/s]"
          }
        },
        "3f3094300edc49ef8fdbb24876d35806": {
          "model_module": "@jupyter-widgets/base",
          "model_name": "LayoutModel",
          "model_module_version": "1.2.0",
          "state": {
            "_model_module": "@jupyter-widgets/base",
            "_model_module_version": "1.2.0",
            "_model_name": "LayoutModel",
            "_view_count": null,
            "_view_module": "@jupyter-widgets/base",
            "_view_module_version": "1.2.0",
            "_view_name": "LayoutView",
            "align_content": null,
            "align_items": null,
            "align_self": null,
            "border": null,
            "bottom": null,
            "display": null,
            "flex": null,
            "flex_flow": null,
            "grid_area": null,
            "grid_auto_columns": null,
            "grid_auto_flow": null,
            "grid_auto_rows": null,
            "grid_column": null,
            "grid_gap": null,
            "grid_row": null,
            "grid_template_areas": null,
            "grid_template_columns": null,
            "grid_template_rows": null,
            "height": null,
            "justify_content": null,
            "justify_items": null,
            "left": null,
            "margin": null,
            "max_height": null,
            "max_width": null,
            "min_height": null,
            "min_width": null,
            "object_fit": null,
            "object_position": null,
            "order": null,
            "overflow": null,
            "overflow_x": null,
            "overflow_y": null,
            "padding": null,
            "right": null,
            "top": null,
            "visibility": null,
            "width": null
          }
        },
        "45b0d9ee358b4c349b071af43e0bc6db": {
          "model_module": "@jupyter-widgets/base",
          "model_name": "LayoutModel",
          "model_module_version": "1.2.0",
          "state": {
            "_model_module": "@jupyter-widgets/base",
            "_model_module_version": "1.2.0",
            "_model_name": "LayoutModel",
            "_view_count": null,
            "_view_module": "@jupyter-widgets/base",
            "_view_module_version": "1.2.0",
            "_view_name": "LayoutView",
            "align_content": null,
            "align_items": null,
            "align_self": null,
            "border": null,
            "bottom": null,
            "display": null,
            "flex": null,
            "flex_flow": null,
            "grid_area": null,
            "grid_auto_columns": null,
            "grid_auto_flow": null,
            "grid_auto_rows": null,
            "grid_column": null,
            "grid_gap": null,
            "grid_row": null,
            "grid_template_areas": null,
            "grid_template_columns": null,
            "grid_template_rows": null,
            "height": null,
            "justify_content": null,
            "justify_items": null,
            "left": null,
            "margin": null,
            "max_height": null,
            "max_width": null,
            "min_height": null,
            "min_width": null,
            "object_fit": null,
            "object_position": null,
            "order": null,
            "overflow": null,
            "overflow_x": null,
            "overflow_y": null,
            "padding": null,
            "right": null,
            "top": null,
            "visibility": null,
            "width": null
          }
        },
        "d4dc04dbc3224cf9b235e3ef0474b861": {
          "model_module": "@jupyter-widgets/controls",
          "model_name": "DescriptionStyleModel",
          "model_module_version": "1.5.0",
          "state": {
            "_model_module": "@jupyter-widgets/controls",
            "_model_module_version": "1.5.0",
            "_model_name": "DescriptionStyleModel",
            "_view_count": null,
            "_view_module": "@jupyter-widgets/base",
            "_view_module_version": "1.2.0",
            "_view_name": "StyleView",
            "description_width": ""
          }
        },
        "c122b214c9b24c82b803899103328480": {
          "model_module": "@jupyter-widgets/base",
          "model_name": "LayoutModel",
          "model_module_version": "1.2.0",
          "state": {
            "_model_module": "@jupyter-widgets/base",
            "_model_module_version": "1.2.0",
            "_model_name": "LayoutModel",
            "_view_count": null,
            "_view_module": "@jupyter-widgets/base",
            "_view_module_version": "1.2.0",
            "_view_name": "LayoutView",
            "align_content": null,
            "align_items": null,
            "align_self": null,
            "border": null,
            "bottom": null,
            "display": null,
            "flex": null,
            "flex_flow": null,
            "grid_area": null,
            "grid_auto_columns": null,
            "grid_auto_flow": null,
            "grid_auto_rows": null,
            "grid_column": null,
            "grid_gap": null,
            "grid_row": null,
            "grid_template_areas": null,
            "grid_template_columns": null,
            "grid_template_rows": null,
            "height": null,
            "justify_content": null,
            "justify_items": null,
            "left": null,
            "margin": null,
            "max_height": null,
            "max_width": null,
            "min_height": null,
            "min_width": null,
            "object_fit": null,
            "object_position": null,
            "order": null,
            "overflow": null,
            "overflow_x": null,
            "overflow_y": null,
            "padding": null,
            "right": null,
            "top": null,
            "visibility": null,
            "width": null
          }
        },
        "44dfc79a49c34f1b8bd0a40aa6af6f9c": {
          "model_module": "@jupyter-widgets/controls",
          "model_name": "ProgressStyleModel",
          "model_module_version": "1.5.0",
          "state": {
            "_model_module": "@jupyter-widgets/controls",
            "_model_module_version": "1.5.0",
            "_model_name": "ProgressStyleModel",
            "_view_count": null,
            "_view_module": "@jupyter-widgets/base",
            "_view_module_version": "1.2.0",
            "_view_name": "StyleView",
            "bar_color": null,
            "description_width": ""
          }
        },
        "bd16d6ad79af40f8817bd4988d347b42": {
          "model_module": "@jupyter-widgets/base",
          "model_name": "LayoutModel",
          "model_module_version": "1.2.0",
          "state": {
            "_model_module": "@jupyter-widgets/base",
            "_model_module_version": "1.2.0",
            "_model_name": "LayoutModel",
            "_view_count": null,
            "_view_module": "@jupyter-widgets/base",
            "_view_module_version": "1.2.0",
            "_view_name": "LayoutView",
            "align_content": null,
            "align_items": null,
            "align_self": null,
            "border": null,
            "bottom": null,
            "display": null,
            "flex": null,
            "flex_flow": null,
            "grid_area": null,
            "grid_auto_columns": null,
            "grid_auto_flow": null,
            "grid_auto_rows": null,
            "grid_column": null,
            "grid_gap": null,
            "grid_row": null,
            "grid_template_areas": null,
            "grid_template_columns": null,
            "grid_template_rows": null,
            "height": null,
            "justify_content": null,
            "justify_items": null,
            "left": null,
            "margin": null,
            "max_height": null,
            "max_width": null,
            "min_height": null,
            "min_width": null,
            "object_fit": null,
            "object_position": null,
            "order": null,
            "overflow": null,
            "overflow_x": null,
            "overflow_y": null,
            "padding": null,
            "right": null,
            "top": null,
            "visibility": null,
            "width": null
          }
        },
        "9bbfe273bded4e65820bd30f9346fb2c": {
          "model_module": "@jupyter-widgets/controls",
          "model_name": "DescriptionStyleModel",
          "model_module_version": "1.5.0",
          "state": {
            "_model_module": "@jupyter-widgets/controls",
            "_model_module_version": "1.5.0",
            "_model_name": "DescriptionStyleModel",
            "_view_count": null,
            "_view_module": "@jupyter-widgets/base",
            "_view_module_version": "1.2.0",
            "_view_name": "StyleView",
            "description_width": ""
          }
        }
      }
    }
  },
  "nbformat_minor": 0,
  "nbformat": 4,
  "cells": [
    {
      "cell_type": "markdown",
      "source": [
        "# Fine-Tuning Wav2Vec XLSR on Common Voice Hindi Dataset\n",
        "\n",
        "In this notebook, we will fine-tune the **Wav2Vec XLSR** model on the **Common Voice Hindi** dataset. Wav2Vec XLSR is a powerful speech representation model that can be adapted for various speech recognition tasks. By fine-tuning it on a specific dataset, we aim to improve its performance on Hindi language speech recognition."
      ],
      "metadata": {
        "id": "s_X_qL9aE8uZ"
      }
    },
    {
      "cell_type": "markdown",
      "source": [
        "## Getting Started\n",
        "\n",
        "In this section, we will:\n",
        "\n",
        "1. **Login to Hugging Face**: Authenticate our session to access models and datasets.\n",
        "\n",
        "2. **Download the Common Voice Hindi Dataset**: Acquire the dataset necessary for fine-tuning the Wav2Vec model.\n",
        "\n",
        "### Step 1: Login to Hugging Face\n",
        "\n",
        "To access Hugging Face resources, log in using your access token.\n",
        "\n",
        "### Step 2: Download the Common Voice Hindi Dataset\n",
        "\n",
        "Next, we will download the Common Voice Hindi dataset, which contains audio samples of spoken Hindi, essential for our fine-tuning process."
      ],
      "metadata": {
        "id": "FaOlI2XSE8ua"
      }
    },
    {
      "cell_type": "code",
      "source": [
        "!pip install datasets"
      ],
      "metadata": {
        "colab": {
          "base_uri": "https://localhost:8080/"
        },
        "id": "4JQ-fItrHYsQ",
        "outputId": "8f086a61-ff92-48c8-bfaa-ef689cb035fd"
      },
      "execution_count": null,
      "outputs": [
        {
          "output_type": "stream",
          "name": "stdout",
          "text": [
            "Requirement already satisfied: datasets in /usr/local/lib/python3.11/dist-packages (3.2.0)\n",
            "Requirement already satisfied: filelock in /usr/local/lib/python3.11/dist-packages (from datasets) (3.17.0)\n",
            "Requirement already satisfied: numpy>=1.17 in /usr/local/lib/python3.11/dist-packages (from datasets) (1.26.4)\n",
            "Requirement already satisfied: pyarrow>=15.0.0 in /usr/local/lib/python3.11/dist-packages (from datasets) (17.0.0)\n",
            "Requirement already satisfied: dill<0.3.9,>=0.3.0 in /usr/local/lib/python3.11/dist-packages (from datasets) (0.3.8)\n",
            "Requirement already satisfied: pandas in /usr/local/lib/python3.11/dist-packages (from datasets) (2.2.2)\n",
            "Requirement already satisfied: requests>=2.32.2 in /usr/local/lib/python3.11/dist-packages (from datasets) (2.32.3)\n",
            "Requirement already satisfied: tqdm>=4.66.3 in /usr/local/lib/python3.11/dist-packages (from datasets) (4.67.1)\n",
            "Requirement already satisfied: xxhash in /usr/local/lib/python3.11/dist-packages (from datasets) (3.5.0)\n",
            "Requirement already satisfied: multiprocess<0.70.17 in /usr/local/lib/python3.11/dist-packages (from datasets) (0.70.16)\n",
            "Requirement already satisfied: fsspec<=2024.9.0,>=2023.1.0 in /usr/local/lib/python3.11/dist-packages (from fsspec[http]<=2024.9.0,>=2023.1.0->datasets) (2024.9.0)\n",
            "Requirement already satisfied: aiohttp in /usr/local/lib/python3.11/dist-packages (from datasets) (3.11.11)\n",
            "Requirement already satisfied: huggingface-hub>=0.23.0 in /usr/local/lib/python3.11/dist-packages (from datasets) (0.27.1)\n",
            "Requirement already satisfied: packaging in /usr/local/lib/python3.11/dist-packages (from datasets) (24.2)\n",
            "Requirement already satisfied: pyyaml>=5.1 in /usr/local/lib/python3.11/dist-packages (from datasets) (6.0.2)\n",
            "Requirement already satisfied: aiohappyeyeballs>=2.3.0 in /usr/local/lib/python3.11/dist-packages (from aiohttp->datasets) (2.4.4)\n",
            "Requirement already satisfied: aiosignal>=1.1.2 in /usr/local/lib/python3.11/dist-packages (from aiohttp->datasets) (1.3.2)\n",
            "Requirement already satisfied: attrs>=17.3.0 in /usr/local/lib/python3.11/dist-packages (from aiohttp->datasets) (25.1.0)\n",
            "Requirement already satisfied: frozenlist>=1.1.1 in /usr/local/lib/python3.11/dist-packages (from aiohttp->datasets) (1.5.0)\n",
            "Requirement already satisfied: multidict<7.0,>=4.5 in /usr/local/lib/python3.11/dist-packages (from aiohttp->datasets) (6.1.0)\n",
            "Requirement already satisfied: propcache>=0.2.0 in /usr/local/lib/python3.11/dist-packages (from aiohttp->datasets) (0.2.1)\n",
            "Requirement already satisfied: yarl<2.0,>=1.17.0 in /usr/local/lib/python3.11/dist-packages (from aiohttp->datasets) (1.18.3)\n",
            "Requirement already satisfied: typing-extensions>=3.7.4.3 in /usr/local/lib/python3.11/dist-packages (from huggingface-hub>=0.23.0->datasets) (4.12.2)\n",
            "Requirement already satisfied: charset-normalizer<4,>=2 in /usr/local/lib/python3.11/dist-packages (from requests>=2.32.2->datasets) (3.4.1)\n",
            "Requirement already satisfied: idna<4,>=2.5 in /usr/local/lib/python3.11/dist-packages (from requests>=2.32.2->datasets) (3.10)\n",
            "Requirement already satisfied: urllib3<3,>=1.21.1 in /usr/local/lib/python3.11/dist-packages (from requests>=2.32.2->datasets) (2.3.0)\n",
            "Requirement already satisfied: certifi>=2017.4.17 in /usr/local/lib/python3.11/dist-packages (from requests>=2.32.2->datasets) (2024.12.14)\n",
            "Requirement already satisfied: python-dateutil>=2.8.2 in /usr/local/lib/python3.11/dist-packages (from pandas->datasets) (2.8.2)\n",
            "Requirement already satisfied: pytz>=2020.1 in /usr/local/lib/python3.11/dist-packages (from pandas->datasets) (2024.2)\n",
            "Requirement already satisfied: tzdata>=2022.7 in /usr/local/lib/python3.11/dist-packages (from pandas->datasets) (2025.1)\n",
            "Requirement already satisfied: six>=1.5 in /usr/local/lib/python3.11/dist-packages (from python-dateutil>=2.8.2->pandas->datasets) (1.17.0)\n"
          ]
        }
      ]
    },
    {
      "cell_type": "code",
      "source": [
        "from huggingface_hub import login\n",
        "\n",
        "# write your own secret key or token\n",
        "login('token')"
      ],
      "metadata": {
        "execution": {
          "iopub.status.busy": "2024-09-28T03:26:03.616039Z",
          "iopub.execute_input": "2024-09-28T03:26:03.616461Z",
          "iopub.status.idle": "2024-09-28T03:26:03.939384Z",
          "shell.execute_reply.started": "2024-09-28T03:26:03.616421Z",
          "shell.execute_reply": "2024-09-28T03:26:03.937983Z"
        },
        "trusted": true,
        "id": "FE5UDgNYE8ub"
      },
      "execution_count": null,
      "outputs": []
    },
    {
      "cell_type": "code",
      "source": [
        "# download dataset\n",
        "\n",
        "from datasets import load_dataset, Audio\n",
        "\n",
        "common_voice = {}\n",
        "\n",
        "common_voice['train'] = load_dataset(\"mozilla-foundation/common_voice_17_0\", \"hi\", split=\"train[:10%]\",trust_remote_code=True)\n",
        "common_voice['test'] = load_dataset(\"mozilla-foundation/common_voice_17_0\", \"hi\", split=\"test[:10%]\",trust_remote_code=True)\n"
      ],
      "metadata": {
        "execution": {
          "iopub.status.busy": "2024-09-28T03:26:05.167281Z",
          "iopub.execute_input": "2024-09-28T03:26:05.168363Z",
          "iopub.status.idle": "2024-09-28T03:26:47.145625Z",
          "shell.execute_reply.started": "2024-09-28T03:26:05.16831Z",
          "shell.execute_reply": "2024-09-28T03:26:47.144314Z"
        },
        "trusted": true,
        "id": "zvKR0SRcE8ub",
        "colab": {
          "base_uri": "https://localhost:8080/"
        },
        "outputId": "aaa81572-fe1d-4f83-d8da-df33ac45cf7a"
      },
      "execution_count": null,
      "outputs": [
        {
          "output_type": "stream",
          "name": "stderr",
          "text": [
            "/usr/local/lib/python3.11/dist-packages/huggingface_hub/utils/_auth.py:94: UserWarning: \n",
            "The secret `HF_TOKEN` does not exist in your Colab secrets.\n",
            "To authenticate with the Hugging Face Hub, create a token in your settings tab (https://huggingface.co/settings/tokens), set it as secret in your Google Colab and restart your session.\n",
            "You will be able to reuse this secret in all of your notebooks.\n",
            "Please note that authentication is recommended but still optional to access public models or datasets.\n",
            "  warnings.warn(\n"
          ]
        }
      ]
    },
    {
      "cell_type": "code",
      "source": [
        "print(common_voice)"
      ],
      "metadata": {
        "execution": {
          "iopub.status.busy": "2024-09-28T03:27:12.5308Z",
          "iopub.execute_input": "2024-09-28T03:27:12.531289Z",
          "iopub.status.idle": "2024-09-28T03:27:12.538373Z",
          "shell.execute_reply.started": "2024-09-28T03:27:12.531241Z",
          "shell.execute_reply": "2024-09-28T03:27:12.536832Z"
        },
        "trusted": true,
        "id": "U80veW-IE8ub",
        "colab": {
          "base_uri": "https://localhost:8080/"
        },
        "outputId": "42601640-8eb5-4005-e731-bed769ac224f"
      },
      "execution_count": null,
      "outputs": [
        {
          "output_type": "stream",
          "name": "stdout",
          "text": [
            "{'train': Dataset({\n",
            "    features: ['client_id', 'path', 'audio', 'sentence', 'up_votes', 'down_votes', 'age', 'gender', 'accent', 'locale', 'segment', 'variant'],\n",
            "    num_rows: 469\n",
            "}), 'test': Dataset({\n",
            "    features: ['client_id', 'path', 'audio', 'sentence', 'up_votes', 'down_votes', 'age', 'gender', 'accent', 'locale', 'segment', 'variant'],\n",
            "    num_rows: 315\n",
            "})}\n"
          ]
        }
      ]
    },
    {
      "cell_type": "markdown",
      "source": [
        "## Preprocessing and Exploring the Dataset\n",
        "\n",
        "In this section, we will preprocess the Common Voice Hindi dataset by removing unnecessary columns and exploring the transcripts. This step is crucial for preparing the data for training our Wav2Vec model.\n",
        "\n",
        "### Steps:\n",
        "\n",
        "1. **Remove Unnecessary Columns**: We will identify and drop any columns that are not needed for our speech recognition task. This will help streamline the dataset and reduce processing time.\n",
        "\n",
        "2. **Explore Transcripts**: We will take a closer look at the transcripts in the dataset, examining their content, length, and any notable characteristics. This exploration will help us understand the data better and inform our training strategy.\n",
        "\n",
        "### Step 1: Remove Unnecessary Columns\n",
        "\n",
        "We'll start by examining the dataset structure and removing any columns that do not contribute to our model training.\n",
        "\n",
        "### Step 2: Explore Transcripts\n",
        "\n",
        "Next, we will explore the transcripts to gain insights into the language patterns, vocabulary, and overall dataset characteristics. This exploration will be valuable for evaluating the quality of our data and preparing for effective model training.\n",
        "\n",
        "By completing these steps, we will have a cleaner dataset that is ready for further processing and model training."
      ],
      "metadata": {
        "id": "gR3kd8gFE8ub"
      }
    },
    {
      "cell_type": "code",
      "source": [
        "# remove unnecessary columns\n",
        "common_voice['train'] = common_voice['train'].remove_columns([\"accent\", \"age\", \"client_id\", \"down_votes\", \"gender\", \"locale\", \"segment\", \"up_votes\"])\n",
        "common_voice['test'] = common_voice['test'].remove_columns([\"accent\", \"age\", \"client_id\", \"down_votes\", \"gender\", \"locale\", \"segment\", \"up_votes\"])"
      ],
      "metadata": {
        "execution": {
          "iopub.status.busy": "2024-09-28T03:27:16.419293Z",
          "iopub.execute_input": "2024-09-28T03:27:16.420467Z",
          "iopub.status.idle": "2024-09-28T03:27:16.435342Z",
          "shell.execute_reply.started": "2024-09-28T03:27:16.420413Z",
          "shell.execute_reply": "2024-09-28T03:27:16.433905Z"
        },
        "trusted": true,
        "id": "PIn-7gKAE8ub"
      },
      "execution_count": null,
      "outputs": []
    },
    {
      "cell_type": "code",
      "source": [
        "print(f\"Columns in train: {common_voice['train'].column_names}\")\n",
        "print(f\"Columns in test: {common_voice['test'].column_names}\")"
      ],
      "metadata": {
        "execution": {
          "iopub.status.busy": "2024-09-28T03:27:16.740063Z",
          "iopub.execute_input": "2024-09-28T03:27:16.741214Z",
          "iopub.status.idle": "2024-09-28T03:27:16.748199Z",
          "shell.execute_reply.started": "2024-09-28T03:27:16.741143Z",
          "shell.execute_reply": "2024-09-28T03:27:16.746573Z"
        },
        "trusted": true,
        "id": "1hxaUUfpE8ub",
        "colab": {
          "base_uri": "https://localhost:8080/"
        },
        "outputId": "b970cadf-ca87-4a82-db8f-516f469900c5"
      },
      "execution_count": null,
      "outputs": [
        {
          "output_type": "stream",
          "name": "stdout",
          "text": [
            "Columns in train: ['path', 'audio', 'sentence', 'variant']\n",
            "Columns in test: ['path', 'audio', 'sentence', 'variant']\n"
          ]
        }
      ]
    },
    {
      "cell_type": "code",
      "source": [
        "import random\n",
        "import pandas as pd\n",
        "from IPython.display import display, HTML\n",
        "\n",
        "def show_random_elements(dataset, num_examples=10):\n",
        "    assert num_examples <= len(dataset), \"Can't pick more elements than there are in the dataset.\"\n",
        "\n",
        "    # Randomly sample unique indices\n",
        "    picks = random.sample(range(len(dataset)), num_examples)\n",
        "\n",
        "    # Create a DataFrame with a new 'id' column and 'sentence' column\n",
        "    df = pd.DataFrame({\n",
        "        'id': picks,  # Use the sampled indices as IDs\n",
        "        'sentence': [dataset[i]['sentence'] for i in picks]  # Extract sentences\n",
        "    })\n",
        "\n",
        "    # Display the DataFrame without the default index\n",
        "    display(HTML(df.to_html(index=False)))"
      ],
      "metadata": {
        "execution": {
          "iopub.status.busy": "2024-09-28T03:27:19.02794Z",
          "iopub.execute_input": "2024-09-28T03:27:19.029176Z",
          "iopub.status.idle": "2024-09-28T03:27:19.038014Z",
          "shell.execute_reply.started": "2024-09-28T03:27:19.029083Z",
          "shell.execute_reply": "2024-09-28T03:27:19.036095Z"
        },
        "trusted": true,
        "id": "xdUU0I8qE8uc"
      },
      "execution_count": null,
      "outputs": []
    },
    {
      "cell_type": "code",
      "source": [
        "show_random_elements(common_voice['train'], num_examples=10)"
      ],
      "metadata": {
        "execution": {
          "iopub.status.busy": "2024-09-28T03:27:19.569785Z",
          "iopub.execute_input": "2024-09-28T03:27:19.571252Z",
          "iopub.status.idle": "2024-09-28T03:27:37.002493Z",
          "shell.execute_reply.started": "2024-09-28T03:27:19.571188Z",
          "shell.execute_reply": "2024-09-28T03:27:37.001315Z"
        },
        "trusted": true,
        "id": "7K1cz9rfE8uc",
        "colab": {
          "base_uri": "https://localhost:8080/",
          "height": 363
        },
        "outputId": "d7aa8384-9148-454c-c8f3-7499c7d80b80"
      },
      "execution_count": null,
      "outputs": [
        {
          "output_type": "display_data",
          "data": {
            "text/plain": [
              "<IPython.core.display.HTML object>"
            ],
            "text/html": [
              "<table border=\"1\" class=\"dataframe\">\n",
              "  <thead>\n",
              "    <tr style=\"text-align: right;\">\n",
              "      <th>id</th>\n",
              "      <th>sentence</th>\n",
              "    </tr>\n",
              "  </thead>\n",
              "  <tbody>\n",
              "    <tr>\n",
              "      <td>181</td>\n",
              "      <td>भारत-पाक वार्ता के लिए महत्वपूर्ण है आतंकवाद का खात्मा: अमेरिका</td>\n",
              "    </tr>\n",
              "    <tr>\n",
              "      <td>393</td>\n",
              "      <td>उसने दरवाज़े के पास एक कुत्ता देखा।</td>\n",
              "    </tr>\n",
              "    <tr>\n",
              "      <td>68</td>\n",
              "      <td>वह सोमवार को न्यूयॉर्क चला गया।</td>\n",
              "    </tr>\n",
              "    <tr>\n",
              "      <td>187</td>\n",
              "      <td>वह तो हसीना है।</td>\n",
              "    </tr>\n",
              "    <tr>\n",
              "      <td>357</td>\n",
              "      <td>मैं तुम्हें फ़ोन करूँगा।</td>\n",
              "    </tr>\n",
              "    <tr>\n",
              "      <td>216</td>\n",
              "      <td>बिहार: बिना हेलमेट घूम रहा था पुलिसवाला, युवक ने पूछा तो हो गई झड़प</td>\n",
              "    </tr>\n",
              "    <tr>\n",
              "      <td>302</td>\n",
              "      <td>मैं आपके अच्छेपन को कभी नहीं भूलूँगा।</td>\n",
              "    </tr>\n",
              "    <tr>\n",
              "      <td>11</td>\n",
              "      <td>संसद का शीतकालीन सत्र शुरू, पीएम मोदी ने विपक्ष से मांगा सहयोग</td>\n",
              "    </tr>\n",
              "    <tr>\n",
              "      <td>223</td>\n",
              "      <td>पहले खाएंगे, फिर जाएंगे।</td>\n",
              "    </tr>\n",
              "    <tr>\n",
              "      <td>412</td>\n",
              "      <td>अपनी अंग्रेज़ी सुधारने की कोशिश करो।</td>\n",
              "    </tr>\n",
              "  </tbody>\n",
              "</table>"
            ]
          },
          "metadata": {}
        }
      ]
    },
    {
      "cell_type": "code",
      "source": [
        "show_random_elements(common_voice['test'], num_examples=10)"
      ],
      "metadata": {
        "execution": {
          "iopub.status.busy": "2024-09-28T03:27:37.004587Z",
          "iopub.execute_input": "2024-09-28T03:27:37.005321Z",
          "iopub.status.idle": "2024-09-28T03:27:37.117664Z",
          "shell.execute_reply.started": "2024-09-28T03:27:37.005274Z",
          "shell.execute_reply": "2024-09-28T03:27:37.116276Z"
        },
        "trusted": true,
        "id": "qOdz4mHcE8uc",
        "colab": {
          "base_uri": "https://localhost:8080/",
          "height": 363
        },
        "outputId": "8a38d8d9-cfcd-4c65-c4f9-2ad6e3c58b22"
      },
      "execution_count": null,
      "outputs": [
        {
          "output_type": "display_data",
          "data": {
            "text/plain": [
              "<IPython.core.display.HTML object>"
            ],
            "text/html": [
              "<table border=\"1\" class=\"dataframe\">\n",
              "  <thead>\n",
              "    <tr style=\"text-align: right;\">\n",
              "      <th>id</th>\n",
              "      <th>sentence</th>\n",
              "    </tr>\n",
              "  </thead>\n",
              "  <tbody>\n",
              "    <tr>\n",
              "      <td>160</td>\n",
              "      <td>सोनाक्षी ने सलमान को कुछ इस अंदाज में कहा शुक्रिया</td>\n",
              "    </tr>\n",
              "    <tr>\n",
              "      <td>131</td>\n",
              "      <td>मिस वर्ल्ड ऑस्ट्रेलिया एलिस मिलर-केनेडी की सड़क दुर्घटना में मौत</td>\n",
              "    </tr>\n",
              "    <tr>\n",
              "      <td>172</td>\n",
              "      <td>तारीखों पर दुबारा विचार करे आईपीएल: गृह मंत्रालय</td>\n",
              "    </tr>\n",
              "    <tr>\n",
              "      <td>232</td>\n",
              "      <td>जांच में सहायता के लिए टीम भेजेगी बोइंग कंपनी</td>\n",
              "    </tr>\n",
              "    <tr>\n",
              "      <td>194</td>\n",
              "      <td>वह थोड़ी देर में ही वापस आ जाएगी।</td>\n",
              "    </tr>\n",
              "    <tr>\n",
              "      <td>86</td>\n",
              "      <td>शीतकालीन सत्र से पहले सर्वदलीय बैठक, उठा फारूक अब्दुल्ला की हिरासत का मुद्दा</td>\n",
              "    </tr>\n",
              "    <tr>\n",
              "      <td>79</td>\n",
              "      <td>मचल रहे हैं अरमान</td>\n",
              "    </tr>\n",
              "    <tr>\n",
              "      <td>32</td>\n",
              "      <td>विक्की कौशल नहीं, राकेश शर्मा की बायोपिक में दिखेंगे रणबीर कपूर!</td>\n",
              "    </tr>\n",
              "    <tr>\n",
              "      <td>66</td>\n",
              "      <td>दरवाज़ा खोलिए।</td>\n",
              "    </tr>\n",
              "    <tr>\n",
              "      <td>18</td>\n",
              "      <td>तोहफे के रूप में लोगों की पहली पंसद है चॉकलेट</td>\n",
              "    </tr>\n",
              "  </tbody>\n",
              "</table>"
            ]
          },
          "metadata": {}
        }
      ]
    },
    {
      "cell_type": "markdown",
      "source": [
        "## Preprocessing Transcripts\n",
        "\n",
        "In this section, we will focus on cleaning the transcripts from the Common Voice Hindi dataset. Specifically, we will remove special characters that are not relevant to the Hindi language. This preprocessing step is crucial for improving the quality of the data and enhancing the model's performance during training.\n",
        "\n",
        "### Objectives:\n",
        "\n",
        "1. **Identify Special Characters**: We'll define a set of special characters that need to be removed from the transcripts. This may include punctuation, digits, and any non-Hindi characters.\n",
        "\n",
        "2. **Clean the Transcripts**: We will implement a function to process each transcript, removing the identified special characters and ensuring that the text is in a format suitable for training.\n",
        "\n",
        "3. **Verify the Cleaned Data**: After cleaning, we'll take a look at a few samples to confirm that the preprocessing has been executed correctly.\n",
        "\n",
        "By the end of this section, we will have a set of clean transcripts that are better suited for training the Wav2Vec model, thereby enhancing the overall performance of our speech recognition system."
      ],
      "metadata": {
        "id": "_pElBYBNE8uc"
      }
    },
    {
      "cell_type": "code",
      "source": [
        "import re\n",
        "\n",
        "# Define the characters to remove (only English letters and specific punctuation)\n",
        "chars_to_remove_regex = r'[a-zA-Z!\"#$%&\\'()*+,./:;<=>?@[\\\\\\]^_`{|}~]'\n",
        "\n",
        "def remove_special_characters(batch):\n",
        "    # Remove English alphabets and specified punctuation\n",
        "    batch[\"sentence\"] = re.sub(chars_to_remove_regex, '', batch[\"sentence\"])\n",
        "    return batch"
      ],
      "metadata": {
        "execution": {
          "iopub.status.busy": "2024-09-28T03:27:40.71076Z",
          "iopub.execute_input": "2024-09-28T03:27:40.711461Z",
          "iopub.status.idle": "2024-09-28T03:27:40.720717Z",
          "shell.execute_reply.started": "2024-09-28T03:27:40.711399Z",
          "shell.execute_reply": "2024-09-28T03:27:40.719098Z"
        },
        "trusted": true,
        "id": "In8hiiopE8uc"
      },
      "execution_count": null,
      "outputs": []
    },
    {
      "cell_type": "code",
      "source": [
        "common_voice['train'] = common_voice['train'].map(remove_special_characters)\n",
        "common_voice['test'] = common_voice['test'].map(remove_special_characters)"
      ],
      "metadata": {
        "execution": {
          "iopub.status.busy": "2024-09-28T03:27:41.683983Z",
          "iopub.execute_input": "2024-09-28T03:27:41.684452Z",
          "iopub.status.idle": "2024-09-28T03:27:42.616654Z",
          "shell.execute_reply.started": "2024-09-28T03:27:41.684411Z",
          "shell.execute_reply": "2024-09-28T03:27:42.615343Z"
        },
        "trusted": true,
        "id": "4DWmCi8KE8uc",
        "colab": {
          "base_uri": "https://localhost:8080/",
          "height": 81,
          "referenced_widgets": [
            "99702c72cfa849358fb8e005115f2f52",
            "6bc0ccaaab5448e39d96ef5d3c0d49e5",
            "7a20c4fd94584e26859479487fb59536",
            "f3b3f7b201e545b094b2b2bbadaa9f9c",
            "857b0115b99c44fbb4b0550e52cce710",
            "343ec35bede3462d8f164ee79191e067",
            "80587c93f72a410aad200f1a75d99e99",
            "89bec64fc2ed47c68d410dafa17766b2",
            "ad46db40987045e4bc6acc4faccff00f",
            "57fdcc5a960f448093ce4fcf4b81c6b4",
            "0bd4ffa2fa9a41fdb5ad6e55e3b7f435",
            "8870f66e91574032b23c3e35b672ac07",
            "b9716088cc674bf8ae4a2c0b3b69f1e6",
            "2023e67eab6d4323aefc70f28e7efe3e",
            "7c07931cb9b04a47971cb6e4aab36bd9",
            "ac451d0274b14687a1ac9363e9bd1f8c",
            "f67684e7eb2c43e492dce4192e43d922",
            "996f18bb19de4b61aa3e50e8641d0477",
            "021ead7a8e704a1dac57bed3f40f09ef",
            "21fbe7c96c234e5fb2743434164f354a",
            "dc225b6357d44975a6ffae011246ab40",
            "746f7a16d3be42e1b1d65346e639b1b5"
          ]
        },
        "outputId": "7f32fa25-f217-4c7a-952d-375f5f36d989"
      },
      "execution_count": null,
      "outputs": [
        {
          "output_type": "display_data",
          "data": {
            "text/plain": [
              "Map:   0%|          | 0/469 [00:00<?, ? examples/s]"
            ],
            "application/vnd.jupyter.widget-view+json": {
              "version_major": 2,
              "version_minor": 0,
              "model_id": "99702c72cfa849358fb8e005115f2f52"
            }
          },
          "metadata": {}
        },
        {
          "output_type": "display_data",
          "data": {
            "text/plain": [
              "Map:   0%|          | 0/315 [00:00<?, ? examples/s]"
            ],
            "application/vnd.jupyter.widget-view+json": {
              "version_major": 2,
              "version_minor": 0,
              "model_id": "8870f66e91574032b23c3e35b672ac07"
            }
          },
          "metadata": {}
        }
      ]
    },
    {
      "cell_type": "code",
      "source": [
        "show_random_elements(common_voice['train'], num_examples=10)"
      ],
      "metadata": {
        "execution": {
          "iopub.status.busy": "2024-09-28T03:27:43.540369Z",
          "iopub.execute_input": "2024-09-28T03:27:43.54086Z",
          "iopub.status.idle": "2024-09-28T03:27:43.636977Z",
          "shell.execute_reply.started": "2024-09-28T03:27:43.540811Z",
          "shell.execute_reply": "2024-09-28T03:27:43.635628Z"
        },
        "trusted": true,
        "id": "OPAW7EpkE8uc",
        "colab": {
          "base_uri": "https://localhost:8080/",
          "height": 363
        },
        "outputId": "ece6fe7e-421d-417c-8b46-91055dc93cfa"
      },
      "execution_count": null,
      "outputs": [
        {
          "output_type": "display_data",
          "data": {
            "text/plain": [
              "<IPython.core.display.HTML object>"
            ],
            "text/html": [
              "<table border=\"1\" class=\"dataframe\">\n",
              "  <thead>\n",
              "    <tr style=\"text-align: right;\">\n",
              "      <th>id</th>\n",
              "      <th>sentence</th>\n",
              "    </tr>\n",
              "  </thead>\n",
              "  <tbody>\n",
              "    <tr>\n",
              "      <td>276</td>\n",
              "      <td>हमने टिलापिया और चावल खाया।</td>\n",
              "    </tr>\n",
              "    <tr>\n",
              "      <td>282</td>\n",
              "      <td>राहुल गांधी से मिले शत्रुघ्न सिन्हा लेकिन लालू के कारण टली कांग्रेस में एंट्री</td>\n",
              "    </tr>\n",
              "    <tr>\n",
              "      <td>439</td>\n",
              "      <td>इन लक्षणों को अनदेखा न करें ये चिकनगुनिया भी हो सकता है</td>\n",
              "    </tr>\n",
              "    <tr>\n",
              "      <td>74</td>\n",
              "      <td>लाल छत वाला वह टॉम का घर है।</td>\n",
              "    </tr>\n",
              "    <tr>\n",
              "      <td>361</td>\n",
              "      <td>तुम्हारे जैसे लोग कभी भी खुश नहीं होते।</td>\n",
              "    </tr>\n",
              "    <tr>\n",
              "      <td>80</td>\n",
              "      <td>तुम्हारे पास शिकायत करने के लिए को भी वजह नहीं है।</td>\n",
              "    </tr>\n",
              "    <tr>\n",
              "      <td>299</td>\n",
              "      <td>तुम्हारे हिसाब से उसे किस विषय में दिलचस्पी होगी</td>\n",
              "    </tr>\n",
              "    <tr>\n",
              "      <td>375</td>\n",
              "      <td>हिमाचल के कई इलाकों में भूकंप के तगड़े झटके</td>\n",
              "    </tr>\n",
              "    <tr>\n",
              "      <td>6</td>\n",
              "      <td>मुझे और वक़्त दो।</td>\n",
              "    </tr>\n",
              "    <tr>\n",
              "      <td>22</td>\n",
              "      <td>मेरे पास एक बंदूक है।</td>\n",
              "    </tr>\n",
              "  </tbody>\n",
              "</table>"
            ]
          },
          "metadata": {}
        }
      ]
    },
    {
      "cell_type": "code",
      "source": [
        "show_random_elements(common_voice['test'], num_examples=10)"
      ],
      "metadata": {
        "execution": {
          "iopub.status.busy": "2024-09-28T03:27:47.957037Z",
          "iopub.execute_input": "2024-09-28T03:27:47.957528Z",
          "iopub.status.idle": "2024-09-28T03:27:48.055137Z",
          "shell.execute_reply.started": "2024-09-28T03:27:47.957487Z",
          "shell.execute_reply": "2024-09-28T03:27:48.053559Z"
        },
        "trusted": true,
        "id": "dNYjRwzgE8ud",
        "colab": {
          "base_uri": "https://localhost:8080/",
          "height": 363
        },
        "outputId": "ad273869-7097-44d9-d9cb-b2f34f7cd9a3"
      },
      "execution_count": null,
      "outputs": [
        {
          "output_type": "display_data",
          "data": {
            "text/plain": [
              "<IPython.core.display.HTML object>"
            ],
            "text/html": [
              "<table border=\"1\" class=\"dataframe\">\n",
              "  <thead>\n",
              "    <tr style=\"text-align: right;\">\n",
              "      <th>id</th>\n",
              "      <th>sentence</th>\n",
              "    </tr>\n",
              "  </thead>\n",
              "  <tbody>\n",
              "    <tr>\n",
              "      <td>57</td>\n",
              "      <td>हेगड़े ने पुरी व बेदी के खिलाफ विशेषाधिकार हनन प्रस्ताव लाने का विरोध किया</td>\n",
              "    </tr>\n",
              "    <tr>\n",
              "      <td>287</td>\n",
              "      <td>मुझे आपके जैसी अड़चने कभी नहीं आईं।</td>\n",
              "    </tr>\n",
              "    <tr>\n",
              "      <td>163</td>\n",
              "      <td>तुम गाड़ी चला सकते हो क्या</td>\n",
              "    </tr>\n",
              "    <tr>\n",
              "      <td>52</td>\n",
              "      <td>चिंता तो में करती ही हूँ।</td>\n",
              "    </tr>\n",
              "    <tr>\n",
              "      <td>189</td>\n",
              "      <td>वह रोया और और रोया।</td>\n",
              "    </tr>\n",
              "    <tr>\n",
              "      <td>283</td>\n",
              "      <td>तुम्हें अभी बहुत कुछ सीखना है।</td>\n",
              "    </tr>\n",
              "    <tr>\n",
              "      <td>271</td>\n",
              "      <td>इन पांच हथियारों से ममता बनर्जी ने काट दिया नारदा-शारदा का जाल</td>\n",
              "    </tr>\n",
              "    <tr>\n",
              "      <td>294</td>\n",
              "      <td>मुझे बस सोने दो।</td>\n",
              "    </tr>\n",
              "    <tr>\n",
              "      <td>156</td>\n",
              "      <td>लेनोवो ने फेस्टिव सीजन के मौके पर लॉन्च की लैपटॉप की नई रेंज</td>\n",
              "    </tr>\n",
              "    <tr>\n",
              "      <td>10</td>\n",
              "      <td>एक्सीडेंट में बाल-बाल बचे अमिताभ कार का पिछला पहिया निकलने से हुआ हादसा</td>\n",
              "    </tr>\n",
              "  </tbody>\n",
              "</table>"
            ]
          },
          "metadata": {}
        }
      ]
    },
    {
      "cell_type": "markdown",
      "source": [
        "## Character Extraction and Vocabulary Creation\n",
        "\n",
        "In this section, we will extract characters from the cleaned transcripts and create a vocabulary for the Hindi language. This vocabulary will be essential for training our Wav2Vec model, as it defines the set of symbols the model will recognize during speech recognition tasks.\n",
        "\n",
        "### Objectives:\n",
        "\n",
        "1. **Extract Unique Characters**: We will analyze the cleaned transcripts to identify all unique characters used in the Hindi language. This will include vowels, consonants, and any relevant symbols.\n",
        "\n",
        "2. **Create Vocabulary**: Based on the unique characters extracted, we will construct a vocabulary list. This vocabulary will serve as the foundation for our model, enabling it to map audio features to corresponding textual representations.\n",
        "\n",
        "3. **Save Vocabulary for Future Use**: Finally, we will save the created vocabulary to a file for easy access during model training and evaluation.\n",
        "\n",
        "### Importance:\n",
        "\n",
        "Having a well-defined vocabulary is crucial for effective speech recognition. It not only helps in accurately mapping audio to text but also ensures that the model understands the structure and nuances of the Hindi language."
      ],
      "metadata": {
        "id": "Qv_w2QK5E8ud"
      }
    },
    {
      "cell_type": "code",
      "source": [
        "def extract_all_chars(batch):\n",
        "  all_text = \" \".join(batch[\"sentence\"])\n",
        "  vocab = list(set(all_text))\n",
        "  return {\"vocab\": [vocab], \"all_text\": [all_text]}"
      ],
      "metadata": {
        "execution": {
          "iopub.status.busy": "2024-09-28T03:27:51.253204Z",
          "iopub.execute_input": "2024-09-28T03:27:51.25363Z",
          "iopub.status.idle": "2024-09-28T03:27:51.260049Z",
          "shell.execute_reply.started": "2024-09-28T03:27:51.253592Z",
          "shell.execute_reply": "2024-09-28T03:27:51.258722Z"
        },
        "trusted": true,
        "id": "A3Lho7lKE8ud"
      },
      "execution_count": null,
      "outputs": []
    },
    {
      "cell_type": "code",
      "source": [
        "vocab_train = common_voice['train'].map(extract_all_chars, batched=True, batch_size=-1, keep_in_memory=True, remove_columns=common_voice['train'].column_names)\n",
        "vocab_test = common_voice['test'].map(extract_all_chars, batched=True, batch_size=-1, keep_in_memory=True, remove_columns=common_voice['test'].column_names)"
      ],
      "metadata": {
        "execution": {
          "iopub.status.busy": "2024-09-28T03:27:52.083917Z",
          "iopub.execute_input": "2024-09-28T03:27:52.084387Z",
          "iopub.status.idle": "2024-09-28T03:27:52.202352Z",
          "shell.execute_reply.started": "2024-09-28T03:27:52.084345Z",
          "shell.execute_reply": "2024-09-28T03:27:52.201112Z"
        },
        "trusted": true,
        "id": "JXGGdn3OE8ud",
        "colab": {
          "base_uri": "https://localhost:8080/",
          "height": 81,
          "referenced_widgets": [
            "41175f508b224d7eb37e02b39df199bc",
            "b3506057a6164920a6da88cefddaa6ed",
            "558885d016de4bd695ffe70665524f34",
            "66656a01298141dc9e7e376d664d001b",
            "407812d5c8234f31afbe7e489df970ea",
            "0a125ba6fbf54c15a5178ad5029736ae",
            "f44ecf839d3a4dc48df8d015d2f64a2e",
            "42fdf89355a1468aa044785154165dd2",
            "37655f51057f43f59cc88f29c2b46807",
            "f0885c60b2f748c6be77a2b27560acf8",
            "377ae30f89eb45ec8ed7938f4882e8bd",
            "da6fd1f2320a437ab64b747cdfa77733",
            "eb281880208d474a99b19b2f6fb91143",
            "f1adb5ad4bc0422ea52e1897f5d87b4a",
            "e0fbe2d65f6e4208a9da240b57a59272",
            "1af1d275f38e4a83a81386d560036934",
            "22c3c837dab84e4886391cc39940b709",
            "f7b73d8f71054783ba63a0af4a36eca9",
            "fdaace2c4af34c89b1187672a5ca791f",
            "8f0c8705b8364963a771492d322fbfa9",
            "ce2d432fdf194f9899b2b4f5ce31f57f",
            "573122dcde9a4889b66f9d266d9919a6"
          ]
        },
        "outputId": "64eef9fb-9057-4e17-b767-bd5c1da0fcb3"
      },
      "execution_count": null,
      "outputs": [
        {
          "output_type": "display_data",
          "data": {
            "text/plain": [
              "Map:   0%|          | 0/469 [00:00<?, ? examples/s]"
            ],
            "application/vnd.jupyter.widget-view+json": {
              "version_major": 2,
              "version_minor": 0,
              "model_id": "41175f508b224d7eb37e02b39df199bc"
            }
          },
          "metadata": {}
        },
        {
          "output_type": "display_data",
          "data": {
            "text/plain": [
              "Map:   0%|          | 0/315 [00:00<?, ? examples/s]"
            ],
            "application/vnd.jupyter.widget-view+json": {
              "version_major": 2,
              "version_minor": 0,
              "model_id": "da6fd1f2320a437ab64b747cdfa77733"
            }
          },
          "metadata": {}
        }
      ]
    },
    {
      "cell_type": "code",
      "source": [
        "vocab_list = list(set(vocab_train[\"vocab\"][0]) | set(vocab_test[\"vocab\"][0]))"
      ],
      "metadata": {
        "execution": {
          "iopub.status.busy": "2024-09-28T03:27:53.492138Z",
          "iopub.execute_input": "2024-09-28T03:27:53.492627Z",
          "iopub.status.idle": "2024-09-28T03:27:53.501639Z",
          "shell.execute_reply.started": "2024-09-28T03:27:53.492584Z",
          "shell.execute_reply": "2024-09-28T03:27:53.500026Z"
        },
        "trusted": true,
        "id": "_rGqAvOIE8ud"
      },
      "execution_count": null,
      "outputs": []
    },
    {
      "cell_type": "code",
      "source": [
        "vocab_dict = {v: k for k, v in enumerate(sorted(vocab_list))}\n",
        "vocab_dict\n"
      ],
      "metadata": {
        "execution": {
          "iopub.status.busy": "2024-09-28T03:27:54.419239Z",
          "iopub.execute_input": "2024-09-28T03:27:54.419712Z",
          "iopub.status.idle": "2024-09-28T03:27:54.432483Z",
          "shell.execute_reply.started": "2024-09-28T03:27:54.419667Z",
          "shell.execute_reply": "2024-09-28T03:27:54.430993Z"
        },
        "trusted": true,
        "id": "c2oy0_D-E8ud",
        "colab": {
          "base_uri": "https://localhost:8080/"
        },
        "outputId": "131d8539-bf1f-444d-f05a-86408b67fe1f"
      },
      "execution_count": null,
      "outputs": [
        {
          "output_type": "execute_result",
          "data": {
            "text/plain": [
              "{' ': 0,\n",
              " '-': 1,\n",
              " 'ँ': 2,\n",
              " 'ं': 3,\n",
              " 'ः': 4,\n",
              " 'अ': 5,\n",
              " 'आ': 6,\n",
              " 'इ': 7,\n",
              " 'ई': 8,\n",
              " 'उ': 9,\n",
              " 'ऊ': 10,\n",
              " 'ए': 11,\n",
              " 'ऐ': 12,\n",
              " 'ऑ': 13,\n",
              " 'ओ': 14,\n",
              " 'औ': 15,\n",
              " 'क': 16,\n",
              " 'ख': 17,\n",
              " 'ग': 18,\n",
              " 'घ': 19,\n",
              " 'च': 20,\n",
              " 'छ': 21,\n",
              " 'ज': 22,\n",
              " 'झ': 23,\n",
              " 'ञ': 24,\n",
              " 'ट': 25,\n",
              " 'ठ': 26,\n",
              " 'ड': 27,\n",
              " 'ढ': 28,\n",
              " 'ण': 29,\n",
              " 'त': 30,\n",
              " 'थ': 31,\n",
              " 'द': 32,\n",
              " 'ध': 33,\n",
              " 'न': 34,\n",
              " 'प': 35,\n",
              " 'फ': 36,\n",
              " 'ब': 37,\n",
              " 'भ': 38,\n",
              " 'म': 39,\n",
              " 'य': 40,\n",
              " 'र': 41,\n",
              " 'ल': 42,\n",
              " 'व': 43,\n",
              " 'श': 44,\n",
              " 'ष': 45,\n",
              " 'स': 46,\n",
              " 'ह': 47,\n",
              " '़': 48,\n",
              " 'ा': 49,\n",
              " 'ि': 50,\n",
              " 'ी': 51,\n",
              " 'ु': 52,\n",
              " 'ू': 53,\n",
              " 'ृ': 54,\n",
              " 'े': 55,\n",
              " 'ै': 56,\n",
              " 'ॉ': 57,\n",
              " 'ो': 58,\n",
              " 'ौ': 59,\n",
              " '्': 60,\n",
              " 'ड़': 61,\n",
              " 'ढ़': 62,\n",
              " '।': 63,\n",
              " '–': 64,\n",
              " '‘': 65,\n",
              " '’': 66}"
            ]
          },
          "metadata": {},
          "execution_count": 19
        }
      ]
    },
    {
      "cell_type": "code",
      "source": [
        "# make seperate token for space ' '\n",
        "vocab_dict[\"|\"] = vocab_dict[\" \"]\n",
        "del vocab_dict[\" \"]"
      ],
      "metadata": {
        "execution": {
          "iopub.status.busy": "2024-09-28T03:27:58.406215Z",
          "iopub.execute_input": "2024-09-28T03:27:58.406658Z",
          "iopub.status.idle": "2024-09-28T03:27:58.41254Z",
          "shell.execute_reply.started": "2024-09-28T03:27:58.406618Z",
          "shell.execute_reply": "2024-09-28T03:27:58.411146Z"
        },
        "trusted": true,
        "id": "EzqMvEy3E8ud"
      },
      "execution_count": null,
      "outputs": []
    },
    {
      "cell_type": "code",
      "source": [
        "vocab_dict[\"[UNK]\"] = len(vocab_dict)\n",
        "vocab_dict[\"[PAD]\"] = len(vocab_dict)\n",
        "len(vocab_dict)"
      ],
      "metadata": {
        "execution": {
          "iopub.status.busy": "2024-09-28T03:27:58.898558Z",
          "iopub.execute_input": "2024-09-28T03:27:58.899044Z",
          "iopub.status.idle": "2024-09-28T03:27:58.907068Z",
          "shell.execute_reply.started": "2024-09-28T03:27:58.89898Z",
          "shell.execute_reply": "2024-09-28T03:27:58.9056Z"
        },
        "trusted": true,
        "id": "S37KlwdVE8ud",
        "colab": {
          "base_uri": "https://localhost:8080/"
        },
        "outputId": "63ba31be-cf40-4beb-f1b4-9e63a5feed01"
      },
      "execution_count": null,
      "outputs": [
        {
          "output_type": "execute_result",
          "data": {
            "text/plain": [
              "69"
            ]
          },
          "metadata": {},
          "execution_count": 21
        }
      ]
    },
    {
      "cell_type": "code",
      "source": [
        "import json\n",
        "import os\n",
        "\n",
        "# Create the 'working' directory if it doesn't exist\n",
        "os.makedirs('/kaggle/working', exist_ok=True)\n",
        "\n",
        "# Now you can safely open the file for writing\n",
        "with open('/kaggle/working/vocab.json', 'w') as vocab_file:\n",
        "    json.dump(vocab_dict, vocab_file)"
      ],
      "metadata": {
        "execution": {
          "iopub.status.busy": "2024-09-28T03:27:59.557848Z",
          "iopub.execute_input": "2024-09-28T03:27:59.558339Z",
          "iopub.status.idle": "2024-09-28T03:27:59.565556Z",
          "shell.execute_reply.started": "2024-09-28T03:27:59.558294Z",
          "shell.execute_reply": "2024-09-28T03:27:59.564176Z"
        },
        "trusted": true,
        "id": "Sn5SeXK-E8ud"
      },
      "execution_count": null,
      "outputs": []
    },
    {
      "cell_type": "markdown",
      "source": [
        "## Create Wav2Vec2CTCTokenizer\n",
        "\n",
        "In this section, we will create a **Wav2Vec2CTCTokenizer** for our speech recognition model. This tokenizer is essential for converting text into token IDs that the model can understand, enabling it to process and recognize speech effectively.\n",
        "\n",
        "### Objectives:\n",
        "\n",
        "1. **Understand Tokenization**: Tokenization is the process of converting text into a format suitable for the model. For speech recognition, this involves mapping characters in the vocabulary to unique integer IDs.\n",
        "\n",
        "2. **Create the Tokenizer**: We will instantiate the Wav2Vec2CTCTokenizer using our previously defined vocabulary. This tokenizer will facilitate the conversion of transcripts into token IDs during training and inference.\n",
        "\n",
        "3. **Test the Tokenizer**: After creating the tokenizer, we will run a few examples through it to ensure it is functioning correctly and producing the expected output.\n",
        "\n",
        "### Importance:\n",
        "\n",
        "Having a well-defined tokenizer is crucial for the training and evaluation of the model. It allows the model to interpret and generate text accurately based on the audio input. A tokenizer that aligns closely with the vocabulary used in the training data will enhance the model's performance in real-world applications."
      ],
      "metadata": {
        "id": "HhzE8rWxE8ud"
      }
    },
    {
      "cell_type": "code",
      "source": [
        "from transformers import Wav2Vec2CTCTokenizer\n",
        "\n",
        "tokenizer = Wav2Vec2CTCTokenizer.from_pretrained(\"/kaggle/working/\", unk_token=\"[UNK]\", pad_token=\"[PAD]\", word_delimiter_token=\"|\")"
      ],
      "metadata": {
        "execution": {
          "iopub.status.busy": "2024-09-28T03:28:07.190203Z",
          "iopub.execute_input": "2024-09-28T03:28:07.19069Z",
          "iopub.status.idle": "2024-09-28T03:28:11.755667Z",
          "shell.execute_reply.started": "2024-09-28T03:28:07.190644Z",
          "shell.execute_reply": "2024-09-28T03:28:11.754363Z"
        },
        "trusted": true,
        "id": "qBHaaVrZE8ud"
      },
      "execution_count": null,
      "outputs": []
    },
    {
      "cell_type": "code",
      "source": [
        "# save tokenizer\n",
        "output_dir = '/kaggle/working/tokenizer'\n",
        "tokenizer.save_pretrained(output_dir)\n",
        "\n",
        "print(f\"Tokenizer saved to {output_dir}\")"
      ],
      "metadata": {
        "execution": {
          "iopub.status.busy": "2024-09-28T03:28:15.893626Z",
          "iopub.execute_input": "2024-09-28T03:28:15.89412Z",
          "iopub.status.idle": "2024-09-28T03:28:15.903573Z",
          "shell.execute_reply.started": "2024-09-28T03:28:15.894073Z",
          "shell.execute_reply": "2024-09-28T03:28:15.902113Z"
        },
        "trusted": true,
        "id": "HYV-SXSuE8ue",
        "colab": {
          "base_uri": "https://localhost:8080/"
        },
        "outputId": "ceac793b-767e-46ac-afdf-6c343d8d2b69"
      },
      "execution_count": null,
      "outputs": [
        {
          "output_type": "stream",
          "name": "stdout",
          "text": [
            "Tokenizer saved to /kaggle/working/tokenizer\n"
          ]
        }
      ]
    },
    {
      "cell_type": "markdown",
      "source": [
        "## Create Wav2Vec2FeatureExtractor & Wav2Vec2Processor\n",
        "\n",
        "In this section, we will create a **Wav2Vec2FeatureExtractor** for our Wav2Vec model. The feature extractor is responsible for processing audio input and converting it into a suitable format for the model to work with. This step is essential for ensuring that the audio data is correctly preprocessed before being fed into the model.\n",
        "\n",
        "### Objectives:\n",
        "\n",
        "1. **Understand Feature Extraction**: Feature extraction involves transforming raw audio waveforms into a format that the model can understand. This typically includes steps like resampling, normalization, and potentially applying feature extraction techniques.\n",
        "\n",
        "2. **Instantiate the Feature Extractor**: We will create a Wav2Vec2FeatureExtractor using the appropriate parameters. This will configure the extractor to handle the audio inputs for our specific task.\n",
        "\n",
        "3. **Test the Feature Extractor**: After creating the feature extractor, we will run some sample audio data through it to verify that it produces the expected output.\n",
        "\n",
        "### Importance:\n",
        "\n",
        "A well-defined feature extractor is critical for the model's performance. It ensures that the input audio is in the right format and quality, which can significantly impact the model's ability to accurately recognize speech. The feature extractor will help in normalizing the audio data, making it consistent and ready for further processing."
      ],
      "metadata": {
        "id": "l2kxvm8EE8ue"
      }
    },
    {
      "cell_type": "code",
      "source": [
        "from transformers import Wav2Vec2FeatureExtractor\n",
        "\n",
        "feature_extractor = Wav2Vec2FeatureExtractor(feature_size=1, sampling_rate=16000, padding_value=0.0, do_normalize=True, return_attention_mask=True)"
      ],
      "metadata": {
        "execution": {
          "iopub.status.busy": "2024-09-28T03:28:58.954368Z",
          "iopub.execute_input": "2024-09-28T03:28:58.954838Z",
          "iopub.status.idle": "2024-09-28T03:28:58.965993Z",
          "shell.execute_reply.started": "2024-09-28T03:28:58.954793Z",
          "shell.execute_reply": "2024-09-28T03:28:58.964638Z"
        },
        "trusted": true,
        "id": "zEAQsZV4E8ue"
      },
      "execution_count": null,
      "outputs": []
    },
    {
      "cell_type": "code",
      "source": [
        "from transformers import Wav2Vec2Processor\n",
        "\n",
        "processor = Wav2Vec2Processor(feature_extractor=feature_extractor, tokenizer=tokenizer)"
      ],
      "metadata": {
        "execution": {
          "iopub.status.busy": "2024-09-28T03:28:59.912777Z",
          "iopub.execute_input": "2024-09-28T03:28:59.913267Z",
          "iopub.status.idle": "2024-09-28T03:29:01.809347Z",
          "shell.execute_reply.started": "2024-09-28T03:28:59.913221Z",
          "shell.execute_reply": "2024-09-28T03:29:01.80777Z"
        },
        "trusted": true,
        "id": "77i9vHBOE8ue"
      },
      "execution_count": null,
      "outputs": []
    },
    {
      "cell_type": "markdown",
      "source": [
        "## Preprocess Audio Data\n",
        "\n",
        "In this section, we will preprocess the audio data to prepare it for training our Wav2Vec model. Proper audio preprocessing is essential for effective speech recognition.\n",
        "\n",
        "### Objectives:\n",
        "\n",
        "1. **Load Audio Files**: Retrieve audio samples from the Common Voice Hindi dataset.\n",
        "2. **Apply Feature Extractor**: Use the Wav2Vec2FeatureExtractor to transform raw audio into feature representations.\n",
        "3. **Organize Data**: Structure the processed audio and corresponding transcripts for model training."
      ],
      "metadata": {
        "id": "0xwg_4NLE8ue"
      }
    },
    {
      "cell_type": "code",
      "source": [
        "common_voice['train'][0][\"path\"]"
      ],
      "metadata": {
        "execution": {
          "iopub.status.busy": "2024-09-28T03:29:07.177206Z",
          "iopub.execute_input": "2024-09-28T03:29:07.177932Z",
          "iopub.status.idle": "2024-09-28T03:29:07.196399Z",
          "shell.execute_reply.started": "2024-09-28T03:29:07.177881Z",
          "shell.execute_reply": "2024-09-28T03:29:07.1951Z"
        },
        "trusted": true,
        "id": "m3sKi57gE8ue",
        "colab": {
          "base_uri": "https://localhost:8080/",
          "height": 54
        },
        "outputId": "24979419-7e41-4d8b-f51c-6e0be523bd7f"
      },
      "execution_count": null,
      "outputs": [
        {
          "output_type": "execute_result",
          "data": {
            "text/plain": [
              "'/root/.cache/huggingface/datasets/downloads/extracted/78c49630508b7be55271aba28d40a2df4a31e54726d94dfd1b41088d7c35e337/hi_train_0/common_voice_hi_26008353.mp3'"
            ],
            "application/vnd.google.colaboratory.intrinsic+json": {
              "type": "string"
            }
          },
          "metadata": {},
          "execution_count": 27
        }
      ]
    },
    {
      "cell_type": "code",
      "source": [
        "common_voice['train'][0]['audio']"
      ],
      "metadata": {
        "execution": {
          "iopub.status.busy": "2024-09-28T03:29:07.399869Z",
          "iopub.execute_input": "2024-09-28T03:29:07.400314Z",
          "iopub.status.idle": "2024-09-28T03:29:07.420176Z",
          "shell.execute_reply.started": "2024-09-28T03:29:07.400273Z",
          "shell.execute_reply": "2024-09-28T03:29:07.41885Z"
        },
        "trusted": true,
        "id": "JdoM6zUiE8ue",
        "colab": {
          "base_uri": "https://localhost:8080/"
        },
        "outputId": "9c0a774b-556e-4510-b316-13bd6d2dc417"
      },
      "execution_count": null,
      "outputs": [
        {
          "output_type": "execute_result",
          "data": {
            "text/plain": [
              "{'path': '/root/.cache/huggingface/datasets/downloads/extracted/78c49630508b7be55271aba28d40a2df4a31e54726d94dfd1b41088d7c35e337/hi_train_0/common_voice_hi_26008353.mp3',\n",
              " 'array': array([ 5.81611368e-26, -1.48634016e-25, -9.37040538e-26, ...,\n",
              "         1.06425901e-07,  4.46416450e-08,  2.61450239e-09]),\n",
              " 'sampling_rate': 48000}"
            ]
          },
          "metadata": {},
          "execution_count": 28
        }
      ]
    },
    {
      "cell_type": "code",
      "source": [
        "# Downsample sampling rate\n",
        "common_voice['train'] = common_voice['train'].cast_column(\"audio\", Audio(sampling_rate=16_000))\n",
        "common_voice['test'] = common_voice['test'].cast_column(\"audio\", Audio(sampling_rate=16_000))"
      ],
      "metadata": {
        "execution": {
          "iopub.status.busy": "2024-09-28T03:29:07.606333Z",
          "iopub.execute_input": "2024-09-28T03:29:07.60678Z",
          "iopub.status.idle": "2024-09-28T03:29:07.621531Z",
          "shell.execute_reply.started": "2024-09-28T03:29:07.606736Z",
          "shell.execute_reply": "2024-09-28T03:29:07.620208Z"
        },
        "trusted": true,
        "id": "8_5qznnQE8ue"
      },
      "execution_count": null,
      "outputs": []
    },
    {
      "cell_type": "code",
      "source": [
        "# check audio\n",
        "common_voice['train'][0]['audio'] # sampling rate 16kHz"
      ],
      "metadata": {
        "execution": {
          "iopub.status.busy": "2024-09-28T03:29:08.887773Z",
          "iopub.execute_input": "2024-09-28T03:29:08.888261Z",
          "iopub.status.idle": "2024-09-28T03:29:08.905389Z",
          "shell.execute_reply.started": "2024-09-28T03:29:08.888216Z",
          "shell.execute_reply": "2024-09-28T03:29:08.904083Z"
        },
        "trusted": true,
        "id": "LWqQoAE2E8ue",
        "colab": {
          "base_uri": "https://localhost:8080/"
        },
        "outputId": "e4e7b59d-10da-430c-af87-bfaf5792449d"
      },
      "execution_count": null,
      "outputs": [
        {
          "output_type": "execute_result",
          "data": {
            "text/plain": [
              "{'path': '/root/.cache/huggingface/datasets/downloads/extracted/78c49630508b7be55271aba28d40a2df4a31e54726d94dfd1b41088d7c35e337/hi_train_0/common_voice_hi_26008353.mp3',\n",
              " 'array': array([ 3.81639165e-17,  2.42861287e-17, -1.73472348e-17, ...,\n",
              "        -1.30981789e-07,  2.63096808e-07,  4.77157300e-08]),\n",
              " 'sampling_rate': 16000}"
            ]
          },
          "metadata": {},
          "execution_count": 30
        }
      ]
    },
    {
      "cell_type": "markdown",
      "source": [
        "## Explore Audio Files\n",
        "\n",
        "In this section, we will explore the audio files from the Common Voice Hindi dataset. This exploration is crucial for understanding the quality and characteristics of the audio data we will be working with during model training.\n",
        "\n",
        "### Objectives:\n",
        "\n",
        "1. **Inspect Audio Samples**: We will listen to a selection of audio samples to evaluate their clarity, volume, and overall quality. This will help us identify any potential issues that may affect model performance.\n",
        "\n",
        "2. **Analyze Audio Properties**: We will examine key properties of the audio files, such as sample rate, duration, and format. Understanding these characteristics will inform our preprocessing steps and ensure consistency across the dataset.\n",
        "\n",
        "3. **Visualize Audio Waveforms**: By plotting waveforms of selected audio samples, we can visually assess variations in amplitude and frequency. This visualization will aid in identifying patterns and anomalies in the audio data.\n",
        "\n",
        "### Importance:\n",
        "\n",
        "Exploring the audio files is vital for ensuring that the dataset is suitable for training our Wav2Vec model. By understanding the quality and characteristics of the audio, we can make informed decisions about preprocessing and any necessary enhancements.\n"
      ],
      "metadata": {
        "id": "Rq3yKRAwE8uf"
      }
    },
    {
      "cell_type": "code",
      "source": [
        "import IPython.display as ipd\n",
        "import numpy as np\n",
        "import random\n",
        "\n",
        "rand_int = random.randint(0, len(common_voice['train'])-1)\n",
        "\n",
        "print(common_voice['train'][rand_int][\"sentence\"])\n",
        "ipd.Audio(data=common_voice['train'][rand_int][\"audio\"][\"array\"], autoplay=True, rate=16000)"
      ],
      "metadata": {
        "execution": {
          "iopub.status.busy": "2024-09-28T03:29:14.794894Z",
          "iopub.execute_input": "2024-09-28T03:29:14.795375Z",
          "iopub.status.idle": "2024-09-28T03:29:14.840838Z",
          "shell.execute_reply.started": "2024-09-28T03:29:14.795329Z",
          "shell.execute_reply": "2024-09-28T03:29:14.839659Z"
        },
        "trusted": true,
        "id": "CsqPziBpE8uf",
        "colab": {
          "base_uri": "https://localhost:8080/",
          "height": 93
        },
        "outputId": "00c055db-bf08-4b32-ed16-67a9e18ebac6"
      },
      "execution_count": null,
      "outputs": [
        {
          "output_type": "stream",
          "name": "stdout",
          "text": [
            "महाराष्ट्र में बीफ पर बैन बरकरार कोर्ट का दखल से इनकार\n"
          ]
        },
        {
          "output_type": "execute_result",
          "data": {
            "text/plain": [
              "<IPython.lib.display.Audio object>"
            ],
            "text/html": [
              "\n",
              "                <audio  controls=\"controls\" autoplay=\"autoplay\">\n",
              "                    <source src=\"data:audio/wav;base64,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\" type=\"audio/wav\" />\n",
              "                    Your browser does not support the audio element.\n",
              "                </audio>\n",
              "              "
            ]
          },
          "metadata": {},
          "execution_count": 31
        }
      ]
    },
    {
      "cell_type": "code",
      "source": [
        "rand_int = random.randint(0, len(common_voice['train'])-1)\n",
        "\n",
        "print(\"Target text:\", common_voice['train'][rand_int][\"sentence\"])\n",
        "print(\"Input array shape:\", common_voice['train'][rand_int][\"audio\"][\"array\"].shape)\n",
        "print(\"Sampling rate:\", common_voice['train'][rand_int][\"audio\"][\"sampling_rate\"])"
      ],
      "metadata": {
        "execution": {
          "iopub.status.busy": "2024-09-28T03:29:22.93851Z",
          "iopub.execute_input": "2024-09-28T03:29:22.939063Z",
          "iopub.status.idle": "2024-09-28T03:29:22.969736Z",
          "shell.execute_reply.started": "2024-09-28T03:29:22.938981Z",
          "shell.execute_reply": "2024-09-28T03:29:22.968346Z"
        },
        "trusted": true,
        "id": "KJNBIv2CE8uf",
        "colab": {
          "base_uri": "https://localhost:8080/"
        },
        "outputId": "89256f44-3311-42dc-ff16-d09984bdd41b"
      },
      "execution_count": null,
      "outputs": [
        {
          "output_type": "stream",
          "name": "stdout",
          "text": [
            "Target text: मुस्लिम युवकों की गिरफ्तारी पर लालू ने साधा नीतीश पर निशाना\n",
            "Input array shape: (84672,)\n",
            "Sampling rate: 16000\n"
          ]
        }
      ]
    },
    {
      "cell_type": "markdown",
      "source": [
        "## Visualize Audios"
      ],
      "metadata": {
        "id": "9dyZIGaGE8uj"
      }
    },
    {
      "cell_type": "code",
      "source": [
        "import librosa\n",
        "import librosa.display\n",
        "import matplotlib.pyplot as plt\n",
        "\n",
        "# Access audio data and sampling rate\n",
        "audio_data = common_voice['train'][0]['audio'][\"array\"]\n",
        "sampling_rate = common_voice['train'][0]['audio'][\"sampling_rate\"]  # Extract the sampling rate value\n",
        "\n",
        "# Create a spectrogram\n",
        "D = librosa.stft(audio_data)  # Short-time Fourier transform\n",
        "S_db = librosa.amplitude_to_db(abs(D), ref=np.max)  # Convert to decibels\n",
        "\n",
        "# Plotting the spectrogram\n",
        "plt.figure(figsize=(10, 4))\n",
        "librosa.display.specshow(S_db, sr=sampling_rate, x_axis='time', y_axis='log', cmap='viridis')\n",
        "plt.colorbar(format='%+2.0f dB')\n",
        "plt.title('Spectrogram')\n",
        "plt.tight_layout()\n",
        "plt.show()\n"
      ],
      "metadata": {
        "execution": {
          "iopub.status.busy": "2024-09-28T03:29:28.554549Z",
          "iopub.execute_input": "2024-09-28T03:29:28.555082Z",
          "iopub.status.idle": "2024-09-28T03:29:29.272461Z",
          "shell.execute_reply.started": "2024-09-28T03:29:28.555027Z",
          "shell.execute_reply": "2024-09-28T03:29:29.271217Z"
        },
        "trusted": true,
        "id": "c0LpLVhWE8uj",
        "colab": {
          "base_uri": "https://localhost:8080/",
          "height": 407
        },
        "outputId": "c96717ea-efcf-476e-bc66-df1ebf04480f"
      },
      "execution_count": null,
      "outputs": [
        {
          "output_type": "display_data",
          "data": {
            "text/plain": [
              "<Figure size 1000x400 with 2 Axes>"
            ],
            "image/png": "[encoded data removed]"
          },
          "metadata": {}
        }
      ]
    },
    {
      "cell_type": "code",
      "source": [
        "# # Compute the chromagram\n",
        "# chromagram = librosa.feature.chroma_stft(y=audio_data, sr=sampling_rate)\n",
        "\n",
        "# # Plotting the chromagram\n",
        "# plt.figure(figsize=(10, 4))\n",
        "# librosa.display.specshow(chromagram, sr=sampling_rate, x_axis='time', y_axis='chroma', cmap='viridis')\n",
        "# plt.colorbar()\n",
        "# plt.title('Chromagram')\n",
        "# plt.tight_layout()\n",
        "# plt.show()\n"
      ],
      "metadata": {
        "execution": {
          "iopub.status.busy": "2024-09-28T03:29:29.833053Z",
          "iopub.execute_input": "2024-09-28T03:29:29.833524Z",
          "iopub.status.idle": "2024-09-28T03:29:32.300697Z",
          "shell.execute_reply.started": "2024-09-28T03:29:29.833478Z",
          "shell.execute_reply": "2024-09-28T03:29:32.299277Z"
        },
        "trusted": true,
        "id": "_z5rD1DXE8uj"
      },
      "execution_count": null,
      "outputs": []
    },
    {
      "cell_type": "code",
      "source": [
        "# zero_crossing_rate = librosa.feature.zero_crossing_rate(y=audio_data)\n",
        "\n",
        "# plt.figure(figsize=(10, 4))\n",
        "# plt.plot(zero_crossing_rate[0])\n",
        "# plt.title('Zero-Crossing Rate')\n",
        "# plt.xlabel('Frames')\n",
        "# plt.ylabel('Rate')\n",
        "# plt.grid()\n",
        "# plt.show()"
      ],
      "metadata": {
        "execution": {
          "iopub.status.busy": "2024-09-28T03:29:33.25649Z",
          "iopub.execute_input": "2024-09-28T03:29:33.256927Z",
          "iopub.status.idle": "2024-09-28T03:29:33.551086Z",
          "shell.execute_reply.started": "2024-09-28T03:29:33.256887Z",
          "shell.execute_reply": "2024-09-28T03:29:33.549848Z"
        },
        "trusted": true,
        "id": "CV-9nKLCE8uj"
      },
      "execution_count": null,
      "outputs": []
    },
    {
      "cell_type": "code",
      "source": [
        "# spectral_centroid = librosa.feature.spectral_centroid(y=audio_data, sr=sampling_rate)\n",
        "\n",
        "# plt.figure(figsize=(10, 4))\n",
        "# plt.semilogy(spectral_centroid[0], label='Spectral Centroid', color='r')\n",
        "# plt.title('Spectral Centroid')\n",
        "# plt.ylabel('Hz')\n",
        "# plt.xticks([])\n",
        "# plt.xlim([0, spectral_centroid.shape[-1]])\n",
        "# plt.legend(loc='upper right')\n",
        "# plt.tight_layout()\n",
        "# plt.show()\n"
      ],
      "metadata": {
        "execution": {
          "iopub.status.busy": "2024-09-28T03:29:34.442198Z",
          "iopub.execute_input": "2024-09-28T03:29:34.442717Z",
          "iopub.status.idle": "2024-09-28T03:29:35.150308Z",
          "shell.execute_reply.started": "2024-09-28T03:29:34.442668Z",
          "shell.execute_reply": "2024-09-28T03:29:35.148954Z"
        },
        "trusted": true,
        "id": "tmRkoIpLE8uj"
      },
      "execution_count": null,
      "outputs": []
    },
    {
      "cell_type": "code",
      "source": [
        "# # Create a Log-Mel spectrogram\n",
        "# S_mel = librosa.feature.melspectrogram(y=audio_data, sr=sampling_rate, n_mels=128, fmax=8000)\n",
        "# S_log_mel_db = librosa.amplitude_to_db(S_mel, ref=np.max)\n",
        "\n",
        "# # Plotting the Log-Mel spectrogram\n",
        "# plt.figure(figsize=(10, 4))\n",
        "# librosa.display.specshow(S_log_mel_db, sr=sampling_rate, x_axis='time', y_axis='mel', fmax=8000, cmap='viridis')\n",
        "# plt.colorbar(format='%+2.0f dB')\n",
        "# plt.title('Log-Mel Spectrogram')\n",
        "# plt.tight_layout()\n",
        "# plt.show()"
      ],
      "metadata": {
        "execution": {
          "iopub.status.busy": "2024-09-28T03:29:35.849501Z",
          "iopub.execute_input": "2024-09-28T03:29:35.850605Z",
          "iopub.status.idle": "2024-09-28T03:29:36.361618Z",
          "shell.execute_reply.started": "2024-09-28T03:29:35.850552Z",
          "shell.execute_reply": "2024-09-28T03:29:36.360222Z"
        },
        "trusted": true,
        "id": "gYgTBsLFE8uj"
      },
      "execution_count": null,
      "outputs": []
    },
    {
      "cell_type": "code",
      "source": [
        "# # Compute the CQT\n",
        "# C = librosa.cqt(audio_data, sr=sampling_rate)\n",
        "# C_db = librosa.amplitude_to_db(np.abs(C), ref=np.max)\n",
        "\n",
        "# # Plotting the CQT spectrogram\n",
        "# plt.figure(figsize=(10, 4))\n",
        "# librosa.display.specshow(C_db, sr=sampling_rate, x_axis='time', y_axis='cqt_hz', cmap='viridis')\n",
        "# plt.colorbar(format='%+2.0f dB')\n",
        "# plt.title('Constant-Q Transform (CQT) Spectrogram')\n",
        "# plt.tight_layout()\n",
        "# plt.show()"
      ],
      "metadata": {
        "execution": {
          "iopub.status.busy": "2024-09-28T03:29:36.537175Z",
          "iopub.execute_input": "2024-09-28T03:29:36.537672Z",
          "iopub.status.idle": "2024-09-28T03:29:38.250714Z",
          "shell.execute_reply.started": "2024-09-28T03:29:36.537624Z",
          "shell.execute_reply": "2024-09-28T03:29:38.249301Z"
        },
        "trusted": true,
        "id": "klpDuiURE8uj"
      },
      "execution_count": null,
      "outputs": []
    },
    {
      "cell_type": "code",
      "source": [
        "# # Create an STFT spectrogram with custom parameters\n",
        "# D = librosa.stft(audio_data, n_fft=2048, hop_length=512)  # Adjust n_fft and hop_length as needed\n",
        "# S_db_stft = librosa.amplitude_to_db(abs(D), ref=np.max)\n",
        "\n",
        "# # Plotting the STFT spectrogram\n",
        "# plt.figure(figsize=(10, 4))\n",
        "# librosa.display.specshow(S_db_stft, sr=sampling_rate, x_axis='time', y_axis='linear', cmap='viridis')\n",
        "# plt.colorbar(format='%+2.0f dB')\n",
        "# plt.title('Short-Time Fourier Transform (STFT) Spectrogram')\n",
        "# plt.tight_layout()\n",
        "# plt.show()"
      ],
      "metadata": {
        "execution": {
          "iopub.status.busy": "2024-09-28T03:29:38.253087Z",
          "iopub.execute_input": "2024-09-28T03:29:38.253624Z",
          "iopub.status.idle": "2024-09-28T03:29:38.789022Z",
          "shell.execute_reply.started": "2024-09-28T03:29:38.253563Z",
          "shell.execute_reply": "2024-09-28T03:29:38.787714Z"
        },
        "trusted": true,
        "id": "82M48jyVE8uj"
      },
      "execution_count": null,
      "outputs": []
    },
    {
      "cell_type": "code",
      "source": [
        "# # Compute the spectral contrast\n",
        "# spectral_contrast = librosa.feature.spectral_contrast(y=audio_data, sr=sampling_rate)\n",
        "\n",
        "# # Plotting the spectral contrast\n",
        "# plt.figure(figsize=(10, 4))\n",
        "# plt.semilogy(spectral_contrast[0], label='Spectral Contrast', color='r')\n",
        "# plt.title('Spectral Contrast')\n",
        "# plt.ylabel('Spectral Contrast')\n",
        "# plt.xticks([])\n",
        "# plt.xlim([0, spectral_contrast.shape[-1]])\n",
        "# plt.legend(loc='upper right')\n",
        "# plt.tight_layout()\n",
        "# plt.show()\n"
      ],
      "metadata": {
        "execution": {
          "iopub.status.busy": "2024-09-28T03:29:38.790649Z",
          "iopub.execute_input": "2024-09-28T03:29:38.791107Z",
          "iopub.status.idle": "2024-09-28T03:29:39.395451Z",
          "shell.execute_reply.started": "2024-09-28T03:29:38.791063Z",
          "shell.execute_reply": "2024-09-28T03:29:39.39402Z"
        },
        "trusted": true,
        "id": "Gvvnw1MyE8uk"
      },
      "execution_count": null,
      "outputs": []
    },
    {
      "cell_type": "code",
      "source": [
        "# # Compute MFCCs\n",
        "# mfccs = librosa.feature.mfcc(y=audio_data, sr=sampling_rate, n_mfcc=13)\n",
        "\n",
        "# # Plotting the MFCCs\n",
        "# plt.figure(figsize=(10, 4))\n",
        "# librosa.display.specshow(mfccs, sr=sampling_rate, x_axis='time')\n",
        "# plt.colorbar()\n",
        "# plt.title('MFCC')\n",
        "# plt.tight_layout()\n",
        "# plt.show()"
      ],
      "metadata": {
        "execution": {
          "iopub.status.busy": "2024-09-28T03:29:39.398962Z",
          "iopub.execute_input": "2024-09-28T03:29:39.399537Z",
          "iopub.status.idle": "2024-09-28T03:29:39.786831Z",
          "shell.execute_reply.started": "2024-09-28T03:29:39.399474Z",
          "shell.execute_reply": "2024-09-28T03:29:39.785306Z"
        },
        "trusted": true,
        "id": "_jged50JE8uk"
      },
      "execution_count": null,
      "outputs": []
    },
    {
      "cell_type": "code",
      "source": [
        "# import numpy as np\n",
        "\n",
        "# # Compute the Short-Time Fourier Transform (STFT)\n",
        "# D = librosa.stft(audio_data)\n",
        "\n",
        "# # Get the pitch tracking\n",
        "# pitches, magnitudes = librosa.piptrack(y=audio_data, sr=sampling_rate)\n",
        "\n",
        "# # Select the maximum pitch for each time frame\n",
        "# pitch_values = np.array([p[np.argmax(m)] if np.max(m) > 0 else 0 for p, m in zip(pitches.T, magnitudes.T)])\n",
        "\n",
        "# # Plotting the pitch over time\n",
        "# plt.figure(figsize=(10, 4))\n",
        "# plt.plot(pitch_values, label='Pitch', color='r')\n",
        "# plt.title('Pitch Tracking')\n",
        "# plt.xlabel('Frames')\n",
        "# plt.ylabel('Frequency (Hz)')\n",
        "# plt.legend()\n",
        "# plt.grid()\n",
        "# plt.show()"
      ],
      "metadata": {
        "execution": {
          "iopub.status.busy": "2024-09-28T03:29:39.788424Z",
          "iopub.execute_input": "2024-09-28T03:29:39.788829Z",
          "iopub.status.idle": "2024-09-28T03:29:40.068047Z",
          "shell.execute_reply.started": "2024-09-28T03:29:39.788787Z",
          "shell.execute_reply": "2024-09-28T03:29:40.066811Z"
        },
        "trusted": true,
        "id": "s1meUpsJE8uk"
      },
      "execution_count": null,
      "outputs": []
    },
    {
      "cell_type": "code",
      "source": [
        "# # Compute spectral flatness\n",
        "# spectral_flatness = librosa.feature.spectral_flatness(y=audio_data)\n",
        "\n",
        "# # Plotting spectral flatness\n",
        "# plt.figure(figsize=(10, 4))\n",
        "# plt.semilogy(spectral_flatness[0], label='Spectral Flatness', color='b')\n",
        "# plt.title('Spectral Flatness')\n",
        "# plt.ylabel('Spectral Flatness')\n",
        "# plt.xlabel('Frames')\n",
        "# plt.xlim([0, spectral_flatness.shape[-1]])\n",
        "# plt.legend(loc='upper right')\n",
        "# plt.grid()\n",
        "# plt.tight_layout()\n",
        "# plt.show()"
      ],
      "metadata": {
        "execution": {
          "iopub.status.busy": "2024-09-28T03:29:40.069853Z",
          "iopub.execute_input": "2024-09-28T03:29:40.070444Z",
          "iopub.status.idle": "2024-09-28T03:29:40.954786Z",
          "shell.execute_reply.started": "2024-09-28T03:29:40.070387Z",
          "shell.execute_reply": "2024-09-28T03:29:40.9536Z"
        },
        "trusted": true,
        "id": "soqowz87E8uk"
      },
      "execution_count": null,
      "outputs": []
    },
    {
      "cell_type": "code",
      "source": [
        "# # Compute the spectrogram for a specific segment\n",
        "# D = librosa.stft(audio_data)\n",
        "# S_db = librosa.amplitude_to_db(np.abs(D), ref=np.max)\n",
        "\n",
        "# # Plotting the spectrogram with highlighted formants\n",
        "# plt.figure(figsize=(10, 4))\n",
        "# librosa.display.specshow(S_db, sr=sampling_rate, x_axis='time', y_axis='log', cmap='viridis')\n",
        "# plt.colorbar(format='%+2.0f dB')\n",
        "# plt.title('Spectrogram with Formants')\n",
        "# plt.tight_layout()\n",
        "# plt.show()"
      ],
      "metadata": {
        "execution": {
          "iopub.status.busy": "2024-09-28T03:29:40.956508Z",
          "iopub.execute_input": "2024-09-28T03:29:40.95704Z",
          "iopub.status.idle": "2024-09-28T03:29:41.603636Z",
          "shell.execute_reply.started": "2024-09-28T03:29:40.956958Z",
          "shell.execute_reply": "2024-09-28T03:29:41.602338Z"
        },
        "trusted": true,
        "id": "4z2RXsGqE8uk"
      },
      "execution_count": null,
      "outputs": []
    },
    {
      "cell_type": "code",
      "source": [
        "# plt.figure(figsize=(10, 4))\n",
        "# plt.plot(audio_data, label='Audio Waveform')\n",
        "# plt.title('Audio Waveform')\n",
        "# plt.xlabel('Samples')\n",
        "# plt.ylabel('Amplitude')\n",
        "# plt.legend()\n",
        "# plt.grid()\n",
        "# plt.show()"
      ],
      "metadata": {
        "execution": {
          "iopub.status.busy": "2024-09-28T03:29:41.606775Z",
          "iopub.execute_input": "2024-09-28T03:29:41.607309Z",
          "iopub.status.idle": "2024-09-28T03:29:41.964827Z",
          "shell.execute_reply.started": "2024-09-28T03:29:41.607253Z",
          "shell.execute_reply": "2024-09-28T03:29:41.963583Z"
        },
        "trusted": true,
        "id": "4gF830wOE8uk"
      },
      "execution_count": null,
      "outputs": []
    },
    {
      "cell_type": "code",
      "source": [
        "# # Define a threshold to distinguish between signal and noise\n",
        "# threshold = 0.05  # Adjust based on your audio data\n",
        "\n",
        "# # Compute the noise level\n",
        "# noise = audio_data[audio_data < threshold]\n",
        "# signal = audio_data[audio_data >= threshold]\n",
        "\n",
        "# noise_level = np.mean(np.abs(noise)) if len(noise) > 0 else 0\n",
        "# signal_level = np.mean(np.abs(signal)) if len(signal) > 0 else 0\n",
        "\n",
        "# nsr = noise_level / signal_level if signal_level > 0 else float('inf')\n",
        "# print(f\"Noise-to-Signal Ratio: {nsr:.4f}\")"
      ],
      "metadata": {
        "execution": {
          "iopub.status.busy": "2024-09-28T03:29:48.186919Z",
          "iopub.execute_input": "2024-09-28T03:29:48.187977Z",
          "iopub.status.idle": "2024-09-28T03:29:48.197434Z",
          "shell.execute_reply.started": "2024-09-28T03:29:48.187909Z",
          "shell.execute_reply": "2024-09-28T03:29:48.196227Z"
        },
        "trusted": true,
        "id": "kVcGb25FE8uk"
      },
      "execution_count": null,
      "outputs": []
    },
    {
      "cell_type": "code",
      "source": [
        "# # Compute the FFT\n",
        "# fft_values = np.fft.fft(audio_data)\n",
        "# frequencies = np.fft.fftfreq(len(fft_values), 1/sampling_rate)\n",
        "\n",
        "# # Plotting the frequency components\n",
        "# plt.figure(figsize=(10, 4))\n",
        "# plt.plot(frequencies[:len(frequencies)//2], np.abs(fft_values)[:len(fft_values)//2])\n",
        "# plt.title('Frequency Domain')\n",
        "# plt.xlabel('Frequency (Hz)')\n",
        "# plt.ylabel('Amplitude')\n",
        "# plt.xlim(0, 8000)  # Limit x-axis to relevant frequencies\n",
        "# plt.grid()\n",
        "# plt.show()"
      ],
      "metadata": {
        "execution": {
          "iopub.status.busy": "2024-09-28T03:29:48.570307Z",
          "iopub.execute_input": "2024-09-28T03:29:48.571124Z",
          "iopub.status.idle": "2024-09-28T03:29:48.955177Z",
          "shell.execute_reply.started": "2024-09-28T03:29:48.571075Z",
          "shell.execute_reply": "2024-09-28T03:29:48.953801Z"
        },
        "trusted": true,
        "id": "7JG8efA5E8uk"
      },
      "execution_count": null,
      "outputs": []
    },
    {
      "cell_type": "code",
      "source": [
        "# # Compute spectral flatness\n",
        "# spectral_flatness = librosa.feature.spectral_flatness(y=audio_data)\n",
        "\n",
        "# # Plotting spectral flatness\n",
        "# plt.figure(figsize=(10, 4))\n",
        "# plt.semilogy(spectral_flatness[0], label='Spectral Flatness', color='b')\n",
        "# plt.title('Spectral Flatness')\n",
        "# plt.ylabel('Spectral Flatness')\n",
        "# plt.xlabel('Frames')\n",
        "# plt.xlim([0, spectral_flatness.shape[-1]])\n",
        "# plt.legend(loc='upper right')\n",
        "# plt.grid()\n",
        "# plt.tight_layout()\n",
        "# plt.show()"
      ],
      "metadata": {
        "execution": {
          "iopub.status.busy": "2024-09-28T03:29:50.075178Z",
          "iopub.execute_input": "2024-09-28T03:29:50.076083Z",
          "iopub.status.idle": "2024-09-28T03:29:50.950842Z",
          "shell.execute_reply.started": "2024-09-28T03:29:50.075985Z",
          "shell.execute_reply": "2024-09-28T03:29:50.949312Z"
        },
        "trusted": true,
        "id": "A1oBIhUhE8uk"
      },
      "execution_count": null,
      "outputs": []
    },
    {
      "cell_type": "code",
      "source": [
        "# # Simulated example for spatial audio\n",
        "# x = np.linspace(-1, 1, 100)\n",
        "# y = np.linspace(-1, 1, 100)\n",
        "# X, Y = np.meshgrid(x, y)\n",
        "# Z = np.sin(2 * np.pi * (X**2 + Y**2))  # Example data\n",
        "\n",
        "# fig = plt.figure(figsize=(10, 6))\n",
        "# ax = fig.add_subplot(111, projection='3d')\n",
        "# ax.plot_surface(X, Y, Z, cmap='viridis')\n",
        "# ax.set_title('3D Soundfield Visualization')\n",
        "# ax.set_xlabel('X-axis')\n",
        "# ax.set_ylabel('Y-axis')\n",
        "# ax.set_zlabel('Amplitude')\n",
        "# plt.show()\n"
      ],
      "metadata": {
        "execution": {
          "iopub.status.busy": "2024-09-28T03:29:50.953036Z",
          "iopub.execute_input": "2024-09-28T03:29:50.953461Z",
          "iopub.status.idle": "2024-09-28T03:29:51.726407Z",
          "shell.execute_reply.started": "2024-09-28T03:29:50.953417Z",
          "shell.execute_reply": "2024-09-28T03:29:51.724883Z"
        },
        "trusted": true,
        "id": "t0sD5sbwE8ul"
      },
      "execution_count": null,
      "outputs": []
    },
    {
      "cell_type": "code",
      "source": [
        "/"
      ],
      "metadata": {
        "execution": {
          "iopub.status.busy": "2024-09-28T03:29:51.728711Z",
          "iopub.execute_input": "2024-09-28T03:29:51.729224Z",
          "iopub.status.idle": "2024-09-28T03:30:43.686692Z",
          "shell.execute_reply.started": "2024-09-28T03:29:51.729173Z",
          "shell.execute_reply": "2024-09-28T03:30:43.685283Z"
        },
        "trusted": true,
        "id": "DZKXDj2KE8ul",
        "colab": {
          "base_uri": "https://localhost:8080/"
        },
        "outputId": "78778901-3e26-4788-8d6a-4b8f88c89dc6"
      },
      "execution_count": null,
      "outputs": [
        {
          "output_type": "execute_result",
          "data": {
            "text/plain": [
              "()"
            ]
          },
          "metadata": {},
          "execution_count": 50
        }
      ]
    },
    {
      "cell_type": "markdown",
      "source": [
        "## Prepare Dataset"
      ],
      "metadata": {
        "id": "LjGIXH9kE8ul"
      }
    },
    {
      "cell_type": "code",
      "source": [
        "def prepare_dataset(batch):\n",
        "    audio = batch[\"audio\"]\n",
        "\n",
        "    # batched output is \"un-batched\"\n",
        "    batch[\"input_values\"] = processor(audio[\"array\"], sampling_rate=audio[\"sampling_rate\"]).input_values[0]\n",
        "    batch[\"input_length\"] = len(batch[\"input_values\"])\n",
        "\n",
        "    with processor.as_target_processor():\n",
        "        batch[\"labels\"] = processor(batch[\"sentence\"]).input_ids\n",
        "    return batch"
      ],
      "metadata": {
        "execution": {
          "iopub.status.busy": "2024-09-28T03:30:43.689257Z",
          "iopub.execute_input": "2024-09-28T03:30:43.689747Z",
          "iopub.status.idle": "2024-09-28T03:30:43.697412Z",
          "shell.execute_reply.started": "2024-09-28T03:30:43.689693Z",
          "shell.execute_reply": "2024-09-28T03:30:43.696095Z"
        },
        "trusted": true,
        "id": "8GtbyMguE8ul"
      },
      "execution_count": null,
      "outputs": []
    },
    {
      "cell_type": "code",
      "source": [
        "common_voice['train'] = common_voice['train'].map(prepare_dataset, remove_columns=common_voice['train'].column_names)\n",
        "common_voice['test'] = common_voice['test'].map(prepare_dataset, remove_columns=common_voice['test'].column_names)"
      ],
      "metadata": {
        "execution": {
          "iopub.status.busy": "2024-09-28T03:30:43.699121Z",
          "iopub.execute_input": "2024-09-28T03:30:43.699632Z",
          "iopub.status.idle": "2024-09-28T03:32:23.292427Z",
          "shell.execute_reply.started": "2024-09-28T03:30:43.699571Z",
          "shell.execute_reply": "2024-09-28T03:32:23.290233Z"
        },
        "trusted": true,
        "id": "xW78k323E8ul",
        "colab": {
          "base_uri": "https://localhost:8080/",
          "height": 137,
          "referenced_widgets": [
            "3eee6903de714769a681c99b2eb7fb31",
            "33701e914c6b4023b9b6942ff1c8a1b2",
            "aca2e4419d124d28853483f595099496",
            "aac54c8c9827480bbb9beaa0ac8e3605",
            "e7b2b2096e0144a3b172c4b4ed0cd06f",
            "589009ecbea4467699c694d395ddbbd9",
            "b27b5b99662646e6ae8ce59f97f54850",
            "27d0513bb703422fbc8b3761ad3cad70",
            "278c7b30ab8f4bd48d3178c6e5c8ea38",
            "b44d2df9a469461695197df0ffd658bf",
            "7a7a3197dc534f38a6f47ccacdd405ec",
            "8df01b5d71164905b7401a74c93f7e4d",
            "aaf1091d4617416aa99c219c3a7cb30f",
            "52f4dad7e7b64fec917adb16e90b509e",
            "bbdd3525cd8f42d4802f8a7fab122144",
            "3f3094300edc49ef8fdbb24876d35806",
            "45b0d9ee358b4c349b071af43e0bc6db",
            "d4dc04dbc3224cf9b235e3ef0474b861",
            "c122b214c9b24c82b803899103328480",
            "44dfc79a49c34f1b8bd0a40aa6af6f9c",
            "bd16d6ad79af40f8817bd4988d347b42",
            "9bbfe273bded4e65820bd30f9346fb2c"
          ]
        },
        "outputId": "19850033-4465-4dad-c199-6a6d776233e6"
      },
      "execution_count": null,
      "outputs": [
        {
          "output_type": "display_data",
          "data": {
            "text/plain": [
              "Map:   0%|          | 0/469 [00:00<?, ? examples/s]"
            ],
            "application/vnd.jupyter.widget-view+json": {
              "version_major": 2,
              "version_minor": 0,
              "model_id": "3eee6903de714769a681c99b2eb7fb31"
            }
          },
          "metadata": {}
        },
        {
          "output_type": "stream",
          "name": "stderr",
          "text": [
            "/usr/local/lib/python3.11/dist-packages/transformers/models/wav2vec2/processing_wav2vec2.py:174: UserWarning: `as_target_processor` is deprecated and will be removed in v5 of Transformers. You can process your labels by using the argument `text` of the regular `__call__` method (either in the same call as your audio inputs, or in a separate call.\n",
            "  warnings.warn(\n"
          ]
        },
        {
          "output_type": "display_data",
          "data": {
            "text/plain": [
              "Map:   0%|          | 0/315 [00:00<?, ? examples/s]"
            ],
            "application/vnd.jupyter.widget-view+json": {
              "version_major": 2,
              "version_minor": 0,
              "model_id": "8df01b5d71164905b7401a74c93f7e4d"
            }
          },
          "metadata": {}
        }
      ]
    },
    {
      "cell_type": "markdown",
      "source": [
        "## Training Pipeline Setup\n",
        "\n",
        "We are now ready to set up the training pipeline using Hugging Face's Trainer for fine-tuning the Wav2Vec model. The steps involved include:\n",
        "\n",
        "1. **Define a Data Collator**: Given the large input sizes of XLS-R, we'll implement a data collator that dynamically pads training batches to the length of the longest sample in each batch, rather than the overall longest sample. This is essential for efficient training.\n",
        "\n",
        "2. **Evaluation Metric**: We'll establish a `compute_metrics` function to evaluate the model using the word error rate (WER) during training.\n",
        "\n",
        "3. **Load Pretrained Checkpoint**: A pretrained checkpoint will be loaded and configured properly for our training task.\n",
        "\n",
        "4. **Training Configuration**: Define the training parameters, including learning rate, batch size, and number of epochs.\n",
        "\n",
        "5. **Model Evaluation**: After fine-tuning the model, we will evaluate it on the test dataset to confirm its accuracy in transcribing speech.\n",
        "\n",
        "### Data Collator Setup\n",
        "We'll begin by implementing the data collator. This specialized collator treats `input_values` and `labels` separately, applying distinct padding methods for each. Labels will use a padding token of `-100` to exclude those tokens from loss calculations.\n",
        "\n",
        "This structured approach will ensure an efficient and effective training process for the Wav2Vec model."
      ],
      "metadata": {
        "id": "cmStQZUQE8ul"
      }
    },
    {
      "cell_type": "code",
      "source": [
        "import torch\n",
        "\n",
        "from dataclasses import dataclass, field\n",
        "from typing import Any, Dict, List, Optional, Union\n",
        "\n",
        "@dataclass\n",
        "class DataCollatorCTCWithPadding:\n",
        "    \"\"\"\n",
        "    Data collator that will dynamically pad the inputs received.\n",
        "    Args:\n",
        "        processor (:class:`~transformers.Wav2Vec2Processor`)\n",
        "            The processor used for proccessing the data.\n",
        "        padding (:obj:`bool`, :obj:`str` or :class:`~transformers.tokenization_utils_base.PaddingStrategy`, `optional`, defaults to :obj:`True`):\n",
        "            Select a strategy to pad the returned sequences (according to the model's padding side and padding index)\n",
        "            among:\n",
        "            * :obj:`True` or :obj:`'longest'`: Pad to the longest sequence in the batch (or no padding if only a single\n",
        "              sequence if provided).\n",
        "            * :obj:`'max_length'`: Pad to a maximum length specified with the argument :obj:`max_length` or to the\n",
        "              maximum acceptable input length for the model if that argument is not provided.\n",
        "            * :obj:`False` or :obj:`'do_not_pad'` (default): No padding (i.e., can output a batch with sequences of\n",
        "              different lengths).\n",
        "    \"\"\"\n",
        "\n",
        "    processor: Wav2Vec2Processor\n",
        "    padding: Union[bool, str] = True\n",
        "\n",
        "    def __call__(self, features: List[Dict[str, Union[List[int], torch.Tensor]]]) -> Dict[str, torch.Tensor]:\n",
        "        # split inputs and labels since they have to be of different lengths and need\n",
        "        # different padding methods\n",
        "        input_features = [{\"input_values\": feature[\"input_values\"]} for feature in features]\n",
        "        label_features = [{\"input_ids\": feature[\"labels\"]} for feature in features]\n",
        "\n",
        "        batch = self.processor.pad(\n",
        "            input_features,\n",
        "            padding=self.padding,\n",
        "            return_tensors=\"pt\",\n",
        "        )\n",
        "        with self.processor.as_target_processor():\n",
        "            labels_batch = self.processor.pad(\n",
        "                label_features,\n",
        "                padding=self.padding,\n",
        "                return_tensors=\"pt\",\n",
        "            )\n",
        "\n",
        "        # replace padding with -100 to ignore loss correctly\n",
        "        labels = labels_batch[\"input_ids\"].masked_fill(labels_batch.attention_mask.ne(1), -100)\n",
        "\n",
        "        batch[\"labels\"] = labels\n",
        "\n",
        "        return batch"
      ],
      "metadata": {
        "execution": {
          "iopub.status.busy": "2024-09-28T03:32:28.310381Z",
          "iopub.execute_input": "2024-09-28T03:32:28.311958Z",
          "iopub.status.idle": "2024-09-28T03:32:28.328895Z",
          "shell.execute_reply.started": "2024-09-28T03:32:28.311892Z",
          "shell.execute_reply": "2024-09-28T03:32:28.327375Z"
        },
        "trusted": true,
        "id": "HHQJvskCE8ul"
      },
      "execution_count": null,
      "outputs": []
    },
    {
      "cell_type": "code",
      "source": [
        "data_collator = DataCollatorCTCWithPadding(processor=processor, padding=True)"
      ],
      "metadata": {
        "execution": {
          "iopub.status.busy": "2024-09-28T03:32:31.219232Z",
          "iopub.execute_input": "2024-09-28T03:32:31.219723Z",
          "iopub.status.idle": "2024-09-28T03:32:31.22666Z",
          "shell.execute_reply.started": "2024-09-28T03:32:31.219676Z",
          "shell.execute_reply": "2024-09-28T03:32:31.22498Z"
        },
        "trusted": true,
        "id": "7JZhUrSEE8ul"
      },
      "execution_count": null,
      "outputs": []
    },
    {
      "cell_type": "code",
      "source": [
        "!pip install evaluate\n",
        "!pip install jiwer"
      ],
      "metadata": {
        "execution": {
          "iopub.status.busy": "2024-09-28T03:32:32.162945Z",
          "iopub.execute_input": "2024-09-28T03:32:32.163464Z",
          "iopub.status.idle": "2024-09-28T03:33:05.877659Z",
          "shell.execute_reply.started": "2024-09-28T03:32:32.163418Z",
          "shell.execute_reply": "2024-09-28T03:33:05.876018Z"
        },
        "trusted": true,
        "id": "s7LlxfuSE8um",
        "colab": {
          "base_uri": "https://localhost:8080/"
        },
        "outputId": "e72812c7-07e1-4fa7-9fbb-b3c9cf460f0b"
      },
      "execution_count": null,
      "outputs": [
        {
          "output_type": "stream",
          "name": "stdout",
          "text": [
            "Requirement already satisfied: evaluate in /usr/local/lib/python3.11/dist-packages (0.4.3)\n",
            "Requirement already satisfied: datasets>=2.0.0 in /usr/local/lib/python3.11/dist-packages (from evaluate) (3.2.0)\n",
            "Requirement already satisfied: numpy>=1.17 in /usr/local/lib/python3.11/dist-packages (from evaluate) (1.26.4)\n",
            "Requirement already satisfied: dill in /usr/local/lib/python3.11/dist-packages (from evaluate) (0.3.8)\n",
            "Requirement already satisfied: pandas in /usr/local/lib/python3.11/dist-packages (from evaluate) (2.2.2)\n",
            "Requirement already satisfied: requests>=2.19.0 in /usr/local/lib/python3.11/dist-packages (from evaluate) (2.32.3)\n",
            "Requirement already satisfied: tqdm>=4.62.1 in /usr/local/lib/python3.11/dist-packages (from evaluate) (4.67.1)\n",
            "Requirement already satisfied: xxhash in /usr/local/lib/python3.11/dist-packages (from evaluate) (3.5.0)\n",
            "Requirement already satisfied: multiprocess in /usr/local/lib/python3.11/dist-packages (from evaluate) (0.70.16)\n",
            "Requirement already satisfied: fsspec>=2021.05.0 in /usr/local/lib/python3.11/dist-packages (from fsspec[http]>=2021.05.0->evaluate) (2024.9.0)\n",
            "Requirement already satisfied: huggingface-hub>=0.7.0 in /usr/local/lib/python3.11/dist-packages (from evaluate) (0.27.1)\n",
            "Requirement already satisfied: packaging in /usr/local/lib/python3.11/dist-packages (from evaluate) (24.2)\n",
            "Requirement already satisfied: filelock in /usr/local/lib/python3.11/dist-packages (from datasets>=2.0.0->evaluate) (3.17.0)\n",
            "Requirement already satisfied: pyarrow>=15.0.0 in /usr/local/lib/python3.11/dist-packages (from datasets>=2.0.0->evaluate) (17.0.0)\n",
            "Requirement already satisfied: aiohttp in /usr/local/lib/python3.11/dist-packages (from datasets>=2.0.0->evaluate) (3.11.11)\n",
            "Requirement already satisfied: pyyaml>=5.1 in /usr/local/lib/python3.11/dist-packages (from datasets>=2.0.0->evaluate) (6.0.2)\n",
            "Requirement already satisfied: typing-extensions>=3.7.4.3 in /usr/local/lib/python3.11/dist-packages (from huggingface-hub>=0.7.0->evaluate) (4.12.2)\n",
            "Requirement already satisfied: charset-normalizer<4,>=2 in /usr/local/lib/python3.11/dist-packages (from requests>=2.19.0->evaluate) (3.4.1)\n",
            "Requirement already satisfied: idna<4,>=2.5 in /usr/local/lib/python3.11/dist-packages (from requests>=2.19.0->evaluate) (3.10)\n",
            "Requirement already satisfied: urllib3<3,>=1.21.1 in /usr/local/lib/python3.11/dist-packages (from requests>=2.19.0->evaluate) (2.3.0)\n",
            "Requirement already satisfied: certifi>=2017.4.17 in /usr/local/lib/python3.11/dist-packages (from requests>=2.19.0->evaluate) (2024.12.14)\n",
            "Requirement already satisfied: python-dateutil>=2.8.2 in /usr/local/lib/python3.11/dist-packages (from pandas->evaluate) (2.8.2)\n",
            "Requirement already satisfied: pytz>=2020.1 in /usr/local/lib/python3.11/dist-packages (from pandas->evaluate) (2024.2)\n",
            "Requirement already satisfied: tzdata>=2022.7 in /usr/local/lib/python3.11/dist-packages (from pandas->evaluate) (2025.1)\n",
            "Requirement already satisfied: aiohappyeyeballs>=2.3.0 in /usr/local/lib/python3.11/dist-packages (from aiohttp->datasets>=2.0.0->evaluate) (2.4.4)\n",
            "Requirement already satisfied: aiosignal>=1.1.2 in /usr/local/lib/python3.11/dist-packages (from aiohttp->datasets>=2.0.0->evaluate) (1.3.2)\n",
            "Requirement already satisfied: attrs>=17.3.0 in /usr/local/lib/python3.11/dist-packages (from aiohttp->datasets>=2.0.0->evaluate) (25.1.0)\n",
            "Requirement already satisfied: frozenlist>=1.1.1 in /usr/local/lib/python3.11/dist-packages (from aiohttp->datasets>=2.0.0->evaluate) (1.5.0)\n",
            "Requirement already satisfied: multidict<7.0,>=4.5 in /usr/local/lib/python3.11/dist-packages (from aiohttp->datasets>=2.0.0->evaluate) (6.1.0)\n",
            "Requirement already satisfied: propcache>=0.2.0 in /usr/local/lib/python3.11/dist-packages (from aiohttp->datasets>=2.0.0->evaluate) (0.2.1)\n",
            "Requirement already satisfied: yarl<2.0,>=1.17.0 in /usr/local/lib/python3.11/dist-packages (from aiohttp->datasets>=2.0.0->evaluate) (1.18.3)\n",
            "Requirement already satisfied: six>=1.5 in /usr/local/lib/python3.11/dist-packages (from python-dateutil>=2.8.2->pandas->evaluate) (1.17.0)\n",
            "Requirement already satisfied: jiwer in /usr/local/lib/python3.11/dist-packages (3.1.0)\n",
            "Requirement already satisfied: click>=8.1.8 in /usr/local/lib/python3.11/dist-packages (from jiwer) (8.1.8)\n",
            "Requirement already satisfied: rapidfuzz>=3.9.7 in /usr/local/lib/python3.11/dist-packages (from jiwer) (3.12.1)\n"
          ]
        }
      ]
    },
    {
      "cell_type": "code",
      "source": [
        "from evaluate import load\n",
        "\n",
        "wer_metric = load(\"wer\")"
      ],
      "metadata": {
        "execution": {
          "iopub.status.busy": "2024-09-28T03:33:05.880665Z",
          "iopub.execute_input": "2024-09-28T03:33:05.881155Z",
          "iopub.status.idle": "2024-09-28T03:33:07.320894Z",
          "shell.execute_reply.started": "2024-09-28T03:33:05.881105Z",
          "shell.execute_reply": "2024-09-28T03:33:07.319601Z"
        },
        "trusted": true,
        "id": "X_FIv2k0E8um"
      },
      "execution_count": null,
      "outputs": []
    },
    {
      "cell_type": "code",
      "source": [
        "def compute_metrics(pred):\n",
        "    pred_logits = pred.predictions\n",
        "    pred_ids = np.argmax(pred_logits, axis=-1)\n",
        "\n",
        "    pred.label_ids[pred.label_ids == -100] = processor.tokenizer.pad_token_id\n",
        "\n",
        "    pred_str = processor.batch_decode(pred_ids)\n",
        "    # we do not want to group tokens when computing the metrics\n",
        "    label_str = processor.batch_decode(pred.label_ids, group_tokens=False)\n",
        "\n",
        "    wer = wer_metric.compute(predictions=pred_str, references=label_str)\n",
        "\n",
        "    return {\"wer\": wer}"
      ],
      "metadata": {
        "execution": {
          "iopub.status.busy": "2024-09-28T03:33:07.322612Z",
          "iopub.execute_input": "2024-09-28T03:33:07.323092Z",
          "iopub.status.idle": "2024-09-28T03:33:07.331096Z",
          "shell.execute_reply.started": "2024-09-28T03:33:07.323045Z",
          "shell.execute_reply": "2024-09-28T03:33:07.329775Z"
        },
        "trusted": true,
        "id": "HHCvb488E8um"
      },
      "execution_count": null,
      "outputs": []
    },
    {
      "cell_type": "code",
      "source": [
        "from transformers import Wav2Vec2ForCTC\n",
        "\n",
        "model = Wav2Vec2ForCTC.from_pretrained(\n",
        "    \"facebook/wav2vec2-xls-r-300m\",\n",
        "    attention_dropout=0.0,\n",
        "    hidden_dropout=0.0,\n",
        "    feat_proj_dropout=0.0,\n",
        "    mask_time_prob=0.05,\n",
        "    layerdrop=0.0,\n",
        "    ctc_loss_reduction=\"mean\",\n",
        "    pad_token_id=processor.tokenizer.pad_token_id,\n",
        "    vocab_size=len(processor.tokenizer),\n",
        ")"
      ],
      "metadata": {
        "execution": {
          "iopub.status.busy": "2024-09-28T03:33:07.33452Z",
          "iopub.execute_input": "2024-09-28T03:33:07.335106Z",
          "iopub.status.idle": "2024-09-28T03:33:21.551503Z",
          "shell.execute_reply.started": "2024-09-28T03:33:07.335049Z",
          "shell.execute_reply": "2024-09-28T03:33:21.550265Z"
        },
        "trusted": true,
        "id": "p9zHdxgAE8um",
        "colab": {
          "base_uri": "https://localhost:8080/"
        },
        "outputId": "55a45ba6-f7d7-4c13-8ff4-160a670a3dd0"
      },
      "execution_count": null,
      "outputs": [
        {
          "output_type": "stream",
          "name": "stderr",
          "text": [
            "Some weights of Wav2Vec2ForCTC were not initialized from the model checkpoint at facebook/wav2vec2-xls-r-300m and are newly initialized: ['lm_head.bias', 'lm_head.weight']\n",
            "You should probably TRAIN this model on a down-stream task to be able to use it for predictions and inference.\n"
          ]
        }
      ]
    },
    {
      "cell_type": "code",
      "source": [
        "model.freeze_feature_extractor()"
      ],
      "metadata": {
        "execution": {
          "iopub.status.busy": "2024-09-28T03:33:21.553576Z",
          "iopub.execute_input": "2024-09-28T03:33:21.554128Z",
          "iopub.status.idle": "2024-09-28T03:33:21.564384Z",
          "shell.execute_reply.started": "2024-09-28T03:33:21.554067Z",
          "shell.execute_reply": "2024-09-28T03:33:21.562874Z"
        },
        "trusted": true,
        "id": "OeeolWx7E8um",
        "colab": {
          "base_uri": "https://localhost:8080/"
        },
        "outputId": "04599448-ca14-406a-8ca4-f0be974471fd"
      },
      "execution_count": null,
      "outputs": [
        {
          "output_type": "stream",
          "name": "stderr",
          "text": [
            "/usr/local/lib/python3.11/dist-packages/transformers/models/wav2vec2/modeling_wav2vec2.py:2178: FutureWarning: The method `freeze_feature_extractor` is deprecated and will be removed in Transformers v5. Please use the equivalent `freeze_feature_encoder` method instead.\n",
            "  warnings.warn(\n"
          ]
        }
      ]
    },
    {
      "cell_type": "code",
      "source": [
        "from transformers import TrainingArguments\n",
        "\n",
        "training_args = TrainingArguments(\n",
        "  output_dir='/kaggle/working/models/',\n",
        "  run_name=\"finetuned_wav2vec_hindi\",\n",
        "  group_by_length=True,\n",
        "  report_to=\"none\",\n",
        "  per_device_train_batch_size=16,\n",
        "  gradient_accumulation_steps=2,\n",
        "  eval_strategy=\"steps\",\n",
        "  num_train_epochs=30,\n",
        "  gradient_checkpointing=True,\n",
        "  fp16=True,\n",
        "  save_steps=400,\n",
        "  eval_steps=400,\n",
        "  logging_steps=400,\n",
        "  learning_rate=3e-4,\n",
        "  warmup_steps=500,\n",
        "  save_total_limit=2,\n",
        "  push_to_hub=False,\n",
        ")"
      ],
      "metadata": {
        "execution": {
          "iopub.status.busy": "2024-09-28T03:33:21.565987Z",
          "iopub.execute_input": "2024-09-28T03:33:21.566436Z",
          "iopub.status.idle": "2024-09-28T03:33:21.585637Z",
          "shell.execute_reply.started": "2024-09-28T03:33:21.566391Z",
          "shell.execute_reply": "2024-09-28T03:33:21.584117Z"
        },
        "trusted": true,
        "id": "_qkE5jneE8um"
      },
      "execution_count": null,
      "outputs": []
    },
    {
      "cell_type": "code",
      "source": [
        "from transformers import Trainer\n",
        "\n",
        "trainer = Trainer(\n",
        "    model=model,\n",
        "    data_collator=data_collator,\n",
        "    args=training_args,\n",
        "    compute_metrics=compute_metrics,\n",
        "    train_dataset=common_voice['train'],\n",
        "    eval_dataset=common_voice['test'],\n",
        "    tokenizer=processor.feature_extractor,\n",
        ")"
      ],
      "metadata": {
        "execution": {
          "iopub.status.busy": "2024-09-28T03:33:21.587353Z",
          "iopub.execute_input": "2024-09-28T03:33:21.587774Z",
          "iopub.status.idle": "2024-09-28T03:33:23.169694Z",
          "shell.execute_reply.started": "2024-09-28T03:33:21.587731Z",
          "shell.execute_reply": "2024-09-28T03:33:23.168489Z"
        },
        "trusted": true,
        "id": "zx6AeaisE8um",
        "colab": {
          "base_uri": "https://localhost:8080/"
        },
        "outputId": "6b3e74e9-10f2-494e-ff0a-a9187751b960"
      },
      "execution_count": null,
      "outputs": [
        {
          "output_type": "stream",
          "name": "stderr",
          "text": [
            "<ipython-input-61-7b22e7e3531b>:3: FutureWarning: `tokenizer` is deprecated and will be removed in version 5.0.0 for `Trainer.__init__`. Use `processing_class` instead.\n",
            "  trainer = Trainer(\n"
          ]
        }
      ]
    },
    {
      "cell_type": "code",
      "source": [
        "trainer.train()"
      ],
      "metadata": {
        "execution": {
          "iopub.status.busy": "2024-09-27T07:30:40.713962Z",
          "iopub.execute_input": "2024-09-27T07:30:40.714492Z"
        },
        "trusted": true,
        "id": "INoBMGCPE8um",
        "colab": {
          "base_uri": "https://localhost:8080/",
          "height": 272
        },
        "outputId": "3cc3a9b5-3d9f-4b06-e2c1-9f79ea5d394e"
      },
      "execution_count": null,
      "outputs": [
        {
          "output_type": "stream",
          "name": "stderr",
          "text": [
            "/usr/local/lib/python3.11/dist-packages/transformers/models/wav2vec2/processing_wav2vec2.py:174: UserWarning: `as_target_processor` is deprecated and will be removed in v5 of Transformers. You can process your labels by using the argument `text` of the regular `__call__` method (either in the same call as your audio inputs, or in a separate call.\n",
            "  warnings.warn(\n"
          ]
        },
        {
          "output_type": "display_data",
          "data": {
            "text/plain": [
              "<IPython.core.display.HTML object>"
            ],
            "text/html": [
              "\n",
              "    <div>\n",
              "      \n",
              "      <progress value='450' max='450' style='width:300px; height:20px; vertical-align: middle;'></progress>\n",
              "      [450/450 24:55, Epoch 30/30]\n",
              "    </div>\n",
              "    <table border=\"1\" class=\"dataframe\">\n",
              "  <thead>\n",
              " <tr style=\"text-align: left;\">\n",
              "      <th>Step</th>\n",
              "      <th>Training Loss</th>\n",
              "      <th>Validation Loss</th>\n",
              "      <th>Wer</th>\n",
              "    </tr>\n",
              "  </thead>\n",
              "  <tbody>\n",
              "    <tr>\n",
              "      <td>400</td>\n",
              "      <td>11.881100</td>\n",
              "      <td>1.809914</td>\n",
              "      <td>0.922875</td>\n",
              "    </tr>\n",
              "  </tbody>\n",
              "</table><p>"
            ]
          },
          "metadata": {}
        },
        {
          "output_type": "stream",
          "name": "stderr",
          "text": [
            "Trainer.tokenizer is now deprecated. You should use Trainer.processing_class instead.\n",
            "Trainer.tokenizer is now deprecated. You should use Trainer.processing_class instead.\n",
            "/usr/local/lib/python3.11/dist-packages/transformers/models/wav2vec2/processing_wav2vec2.py:174: UserWarning: `as_target_processor` is deprecated and will be removed in v5 of Transformers. You can process your labels by using the argument `text` of the regular `__call__` method (either in the same call as your audio inputs, or in a separate call.\n",
            "  warnings.warn(\n"
          ]
        },
        {
          "output_type": "execute_result",
          "data": {
            "text/plain": [
              "TrainOutput(global_step=450, training_loss=10.770843082004124, metrics={'train_runtime': 1501.4172, 'train_samples_per_second': 9.371, 'train_steps_per_second': 0.3, 'total_flos': 2.1513493654408456e+18, 'train_loss': 10.770843082004124, 'epoch': 30.0})"
            ]
          },
          "metadata": {},
          "execution_count": 62
        }
      ]
    },
    {
      "cell_type": "markdown",
      "source": [
        "## Saving Models"
      ],
      "metadata": {
        "id": "Gcsy2rHFE8un"
      }
    },
    {
      "cell_type": "code",
      "source": [
        "model.save_pretrained('/kaggle/working/models/finetuned_wav2vec_hindi')\n",
        "processor.save_pretrained('/kaggle/working/processor/finetuned_wav2vec_hindi')"
      ],
      "metadata": {
        "execution": {
          "iopub.status.busy": "2024-09-28T03:33:32.308751Z",
          "iopub.execute_input": "2024-09-28T03:33:32.309283Z",
          "iopub.status.idle": "2024-09-28T03:33:37.430325Z",
          "shell.execute_reply.started": "2024-09-28T03:33:32.309237Z",
          "shell.execute_reply": "2024-09-28T03:33:37.429075Z"
        },
        "trusted": true,
        "id": "_yRTd3-fE8un",
        "colab": {
          "base_uri": "https://localhost:8080/"
        },
        "outputId": "6dbd8a2a-1e75-48e9-96a5-189ef734b7b9"
      },
      "execution_count": null,
      "outputs": [
        {
          "output_type": "execute_result",
          "data": {
            "text/plain": [
              "[]"
            ]
          },
          "metadata": {},
          "execution_count": 63
        }
      ]
    },
    {
      "cell_type": "markdown",
      "source": [
        "## Evaluation of model"
      ],
      "metadata": {
        "id": "fn5Zxz0AE8un"
      }
    },
    {
      "cell_type": "code",
      "source": [
        "# if loading model from pretrained checkpoints\n",
        "# model = Wav2Vec2ForCTC.from_pretrained(repo_name).to(\"cuda\")\n",
        "# processor = Wav2Vec2Processor.from_pretrained(repo_name)"
      ],
      "metadata": {
        "execution": {
          "iopub.status.busy": "2024-09-27T08:45:33.203827Z",
          "iopub.execute_input": "2024-09-27T08:45:33.204252Z",
          "iopub.status.idle": "2024-09-27T08:45:33.227676Z",
          "shell.execute_reply.started": "2024-09-27T08:45:33.20421Z",
          "shell.execute_reply": "2024-09-27T08:45:33.226295Z"
        },
        "trusted": true,
        "id": "42SUKWPfE8un"
      },
      "execution_count": null,
      "outputs": []
    },
    {
      "cell_type": "code",
      "source": [
        "device = 'cuda' if torch.cuda.is_available() else 'cpu'\n",
        "print(device)"
      ],
      "metadata": {
        "execution": {
          "iopub.status.busy": "2024-09-28T03:38:36.601754Z",
          "iopub.execute_input": "2024-09-28T03:38:36.602222Z",
          "iopub.status.idle": "2024-09-28T03:38:36.609529Z",
          "shell.execute_reply.started": "2024-09-28T03:38:36.602176Z",
          "shell.execute_reply": "2024-09-28T03:38:36.608267Z"
        },
        "trusted": true,
        "id": "oi3rsTc2E8un",
        "colab": {
          "base_uri": "https://localhost:8080/"
        },
        "outputId": "6e7ff168-c9a9-4e08-8768-03303449885a"
      },
      "execution_count": null,
      "outputs": [
        {
          "output_type": "stream",
          "name": "stdout",
          "text": [
            "cuda\n"
          ]
        }
      ]
    },
    {
      "cell_type": "code",
      "source": [
        "input_dict = processor(common_voice['test'][5][\"input_values\"],sampling_rate=16000, return_tensors=\"pt\", padding=True)\n",
        "\n",
        "logits = model(input_dict.input_values.to(device)).logits\n",
        "\n",
        "pred_ids = torch.argmax(logits, dim=-1)[0]"
      ],
      "metadata": {
        "execution": {
          "iopub.status.busy": "2024-09-28T03:38:44.7588Z",
          "iopub.execute_input": "2024-09-28T03:38:44.759296Z",
          "iopub.status.idle": "2024-09-28T03:38:48.645122Z",
          "shell.execute_reply.started": "2024-09-28T03:38:44.759249Z",
          "shell.execute_reply": "2024-09-28T03:38:48.643984Z"
        },
        "trusted": true,
        "id": "jFue-GnXE8un"
      },
      "execution_count": null,
      "outputs": []
    },
    {
      "cell_type": "code",
      "source": [
        "# get original dataset back\n",
        "common_voice_test_transcription = load_dataset(\"mozilla-foundation/common_voice_17_0\", \"hi\", split=\"test[:1%]\")"
      ],
      "metadata": {
        "execution": {
          "iopub.status.busy": "2024-09-28T03:38:50.822482Z",
          "iopub.execute_input": "2024-09-28T03:38:50.823461Z",
          "iopub.status.idle": "2024-09-28T03:38:51.791159Z",
          "shell.execute_reply.started": "2024-09-28T03:38:50.823404Z",
          "shell.execute_reply": "2024-09-28T03:38:51.790092Z"
        },
        "trusted": true,
        "id": "u1-7g4sbE8un"
      },
      "execution_count": null,
      "outputs": []
    },
    {
      "cell_type": "code",
      "source": [
        "print(\"Prediction:\")\n",
        "print(processor.decode(pred_ids))\n",
        "\n",
        "print(\"\\nReference:\")\n",
        "print(common_voice_test_transcription[5][\"sentence\"].lower())"
      ],
      "metadata": {
        "execution": {
          "iopub.status.busy": "2024-09-28T03:38:52.998639Z",
          "iopub.execute_input": "2024-09-28T03:38:52.999158Z",
          "iopub.status.idle": "2024-09-28T03:38:53.033655Z",
          "shell.execute_reply.started": "2024-09-28T03:38:52.999103Z",
          "shell.execute_reply": "2024-09-28T03:38:53.032323Z"
        },
        "trusted": true,
        "id": "IRBXIDb1E8un",
        "colab": {
          "base_uri": "https://localhost:8080/"
        },
        "outputId": "4a1d744e-1abe-4b4f-b4f8-e063dedc5c62"
      },
      "execution_count": null,
      "outputs": [
        {
          "output_type": "stream",
          "name": "stdout",
          "text": [
            "Prediction:\n",
            "वीप्शी दतनें मनाय काला दीबस\n",
            "\n",
            "Reference:\n",
            "विपक्षी दलों ने मनाया काला दिवस\n"
          ]
        }
      ]
    }
  ]
}