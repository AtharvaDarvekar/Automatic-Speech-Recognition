{
  "cells": [
    {
      "cell_type": "markdown",
      "metadata": {
        "id": "s_X_qL9aE8uZ"
      },
      "source": [
        "# Fine-Tuning Wav2Vec XLSR on Common Voice Hindi Dataset\n",
        "\n",
        "We will fine-tune the **Wav2Vec XLSR** model on the **Common Voice Hindi** dataset. Wav2Vec XLSR is a powerful speech representation model that can be adapted for various speech recognition tasks. By fine-tuning it on a specific dataset, we aim to improve its performance on Hindi language speech recognition."
      ]
    },
    {
      "cell_type": "markdown",
      "metadata": {
        "id": "FaOlI2XSE8ua"
      },
      "source": [
        "## Getting Started\n",
        "\n",
        "In this section, we will:\n",
        "\n",
        "1. **Login to Hugging Face**: Authenticate our session to access models and datasets.\n",
        "\n",
        "2. **Download the Common Voice Hindi Dataset**: Acquire the dataset necessary for fine-tuning the Wav2Vec model.\n",
        "\n",
        "### Step 1: Login to Hugging Face\n",
        "\n",
        "To access Hugging Face resources, log in using your access token.\n",
        "\n",
        "### Step 2: Download the Common Voice Hindi Dataset\n",
        "\n",
        "Next, we will download the Common Voice Hindi dataset, which contains audio samples of spoken Hindi, essential for our fine-tuning process."
      ]
    },
    {
      "cell_type": "code",
      "execution_count": null,
      "metadata": {
        "id": "4JQ-fItrHYsQ"
      },
      "outputs": [],
      "source": [
        "!pip install datasets"
      ]
    },
    {
      "cell_type": "code",
      "execution_count": null,
      "metadata": {
        "id": "FE5UDgNYE8ub"
      },
      "outputs": [],
      "source": [
        "from huggingface_hub import login\n",
        "\n",
        "# write your own secret key or token\n",
        "login('your_token')"
      ]
    },
    {
      "cell_type": "code",
      "execution_count": null,
      "metadata": {
        "id": "zvKR0SRcE8ub"
      },
      "outputs": [],
      "source": [
        "# download dataset\n",
        "\n",
        "from datasets import load_dataset, Audio\n",
        "\n",
        "common_voice = {}\n",
        "\n",
        "common_voice['train'] = load_dataset(\"mozilla-foundation/common_voice_17_0\", \"hi\", split=\"train\",trust_remote_code=True)\n",
        "common_voice['test'] = load_dataset(\"mozilla-foundation/common_voice_17_0\", \"hi\", split=\"test\",trust_remote_code=True)\n"
      ]
    },
    {
      "cell_type": "code",
      "execution_count": null,
      "metadata": {
        "id": "U80veW-IE8ub"
      },
      "outputs": [],
      "source": [
        "print(common_voice)"
      ]
    },
    {
      "cell_type": "markdown",
      "metadata": {
        "id": "gR3kd8gFE8ub"
      },
      "source": [
        "## Preprocessing and Exploring the Dataset\n",
        "\n",
        "In this section, we will preprocess the Common Voice Hindi dataset by removing unnecessary columns and exploring the transcripts. This step is crucial for preparing the data for training our Wav2Vec model.\n",
        "\n",
        "### Steps:\n",
        "\n",
        "1. **Remove Unnecessary Columns**: We will identify and drop any columns that are not needed for our speech recognition task. This will help streamline the dataset and reduce processing time.\n",
        "\n",
        "2. **Explore Transcripts**: We will take a closer look at the transcripts in the dataset, examining their content, length, and any notable characteristics. This exploration will help us understand the data better and inform our training strategy.\n",
        "\n",
        "### Step 1: Remove Unnecessary Columns\n",
        "\n",
        "We'll start by examining the dataset structure and removing any columns that do not contribute to our model training.\n",
        "\n",
        "### Step 2: Explore Transcripts\n",
        "\n",
        "Next, we will explore the transcripts to gain insights into the language patterns, vocabulary, and overall dataset characteristics. This exploration will be valuable for evaluating the quality of our data and preparing for effective model training.\n",
        "\n",
        "By completing these steps, we will have a cleaner dataset that is ready for further processing and model training."
      ]
    },
    {
      "cell_type": "code",
      "execution_count": null,
      "metadata": {
        "id": "PIn-7gKAE8ub"
      },
      "outputs": [],
      "source": [
        "# remove unnecessary columns\n",
        "common_voice['train'] = common_voice['train'].remove_columns([\"accent\", \"age\", \"client_id\", \"down_votes\", \"gender\", \"locale\", \"segment\", \"up_votes\"])\n",
        "common_voice['test'] = common_voice['test'].remove_columns([\"accent\", \"age\", \"client_id\", \"down_votes\", \"gender\", \"locale\", \"segment\", \"up_votes\"])"
      ]
    },
    {
      "cell_type": "code",
      "execution_count": null,
      "metadata": {
        "id": "1hxaUUfpE8ub"
      },
      "outputs": [],
      "source": [
        "print(f\"Columns in train: {common_voice['train'].column_names}\")\n",
        "print(f\"Columns in test: {common_voice['test'].column_names}\")"
      ]
    },
    {
      "cell_type": "code",
      "execution_count": null,
      "metadata": {
        "id": "xdUU0I8qE8uc"
      },
      "outputs": [],
      "source": [
        "import random\n",
        "import pandas as pd\n",
        "from IPython.display import display, HTML\n",
        "\n",
        "def show_random_elements(dataset, num_examples=10):\n",
        "    assert num_examples <= len(dataset), \"Can't pick more elements than there are in the dataset.\"\n",
        "\n",
        "    # Randomly sample unique indices\n",
        "    picks = random.sample(range(len(dataset)), num_examples)\n",
        "\n",
        "    # Create a DataFrame with a new 'id' column and 'sentence' column\n",
        "    df = pd.DataFrame({\n",
        "        'id': picks,  # Use the sampled indices as IDs\n",
        "        'sentence': [dataset[i]['sentence'] for i in picks]  # Extract sentences\n",
        "    })\n",
        "\n",
        "    # Display the DataFrame without the default index\n",
        "    display(HTML(df.to_html(index=False)))"
      ]
    },
    {
      "cell_type": "code",
      "execution_count": null,
      "metadata": {
        "id": "7K1cz9rfE8uc"
      },
      "outputs": [],
      "source": [
        "show_random_elements(common_voice['train'], num_examples=10)"
      ]
    },
    {
      "cell_type": "code",
      "execution_count": null,
      "metadata": {
        "id": "qOdz4mHcE8uc"
      },
      "outputs": [],
      "source": [
        "show_random_elements(common_voice['test'], num_examples=10)"
      ]
    },
    {
      "cell_type": "markdown",
      "metadata": {
        "id": "_pElBYBNE8uc"
      },
      "source": [
        "## Preprocessing Transcripts\n",
        "\n",
        "In this section, we will focus on cleaning the transcripts from the Common Voice Hindi dataset. Specifically, we will remove special characters that are not relevant to the Hindi language. This preprocessing step is crucial for improving the quality of the data and enhancing the model's performance during training.\n",
        "\n",
        "### Objectives:\n",
        "\n",
        "1. **Identify Special Characters**: We'll define a set of special characters that need to be removed from the transcripts. This may include punctuation, digits, and any non-Hindi characters.\n",
        "\n",
        "2. **Clean the Transcripts**: We will implement a function to process each transcript, removing the identified special characters and ensuring that the text is in a format suitable for training.\n",
        "\n",
        "3. **Verify the Cleaned Data**: After cleaning, we'll take a look at a few samples to confirm that the preprocessing has been executed correctly.\n",
        "\n",
        "By the end of this section, we will have a set of clean transcripts that are better suited for training the Wav2Vec model, thereby enhancing the overall performance of our speech recognition system."
      ]
    },
    {
      "cell_type": "code",
      "execution_count": null,
      "metadata": {
        "id": "In8hiiopE8uc"
      },
      "outputs": [],
      "source": [
        "import re\n",
        "\n",
        "# Define the characters to remove (only English letters and specific punctuation)\n",
        "chars_to_remove_regex = r'[a-zA-Z!\"#$%&\\'()*+,./:;<=>?@[\\\\\\]^_`{|}~]'\n",
        "\n",
        "def remove_special_characters(batch):\n",
        "    # Remove English alphabets and specified punctuation\n",
        "    batch[\"sentence\"] = re.sub(chars_to_remove_regex, '', batch[\"sentence\"])\n",
        "    return batch"
      ]
    },
    {
      "cell_type": "code",
      "execution_count": null,
      "metadata": {
        "id": "4DWmCi8KE8uc"
      },
      "outputs": [],
      "source": [
        "common_voice['train'] = common_voice['train'].map(remove_special_characters)\n",
        "common_voice['test'] = common_voice['test'].map(remove_special_characters)"
      ]
    },
    {
      "cell_type": "code",
      "execution_count": null,
      "metadata": {
        "id": "OPAW7EpkE8uc"
      },
      "outputs": [],
      "source": [
        "show_random_elements(common_voice['train'], num_examples=10)"
      ]
    },
    {
      "cell_type": "code",
      "execution_count": null,
      "metadata": {
        "id": "dNYjRwzgE8ud"
      },
      "outputs": [],
      "source": [
        "show_random_elements(common_voice['test'], num_examples=10)"
      ]
    },
    {
      "cell_type": "markdown",
      "metadata": {
        "id": "Qv_w2QK5E8ud"
      },
      "source": [
        "## Character Extraction and Vocabulary Creation\n",
        "\n",
        "In this section, we will extract characters from the cleaned transcripts and create a vocabulary for the Hindi language. This vocabulary will be essential for training our Wav2Vec model, as it defines the set of symbols the model will recognize during speech recognition tasks.\n",
        "\n",
        "### Objectives:\n",
        "\n",
        "1. **Extract Unique Characters**: We will analyze the cleaned transcripts to identify all unique characters used in the Hindi language. This will include vowels, consonants, and any relevant symbols.\n",
        "\n",
        "2. **Create Vocabulary**: Based on the unique characters extracted, we will construct a vocabulary list. This vocabulary will serve as the foundation for our model, enabling it to map audio features to corresponding textual representations.\n",
        "\n",
        "3. **Save Vocabulary for Future Use**: Finally, we will save the created vocabulary to a file for easy access during model training and evaluation.\n",
        "\n",
        "### Importance:\n",
        "\n",
        "Having a well-defined vocabulary is crucial for effective speech recognition. It not only helps in accurately mapping audio to text but also ensures that the model understands the structure and nuances of the Hindi language."
      ]
    },
    {
      "cell_type": "code",
      "execution_count": null,
      "metadata": {
        "id": "A3Lho7lKE8ud"
      },
      "outputs": [],
      "source": [
        "def extract_all_chars(batch):\n",
        "  all_text = \" \".join(batch[\"sentence\"])\n",
        "  vocab = list(set(all_text))\n",
        "  return {\"vocab\": [vocab], \"all_text\": [all_text]}"
      ]
    },
    {
      "cell_type": "code",
      "execution_count": null,
      "metadata": {
        "id": "JXGGdn3OE8ud"
      },
      "outputs": [],
      "source": [
        "vocab_train = common_voice['train'].map(extract_all_chars, batched=True, batch_size=-1, keep_in_memory=True, remove_columns=common_voice['train'].column_names)\n",
        "vocab_test = common_voice['test'].map(extract_all_chars, batched=True, batch_size=-1, keep_in_memory=True, remove_columns=common_voice['test'].column_names)"
      ]
    },
    {
      "cell_type": "code",
      "execution_count": null,
      "metadata": {
        "id": "_rGqAvOIE8ud"
      },
      "outputs": [],
      "source": [
        "vocab_list = list(set(vocab_train[\"vocab\"][0]) | set(vocab_test[\"vocab\"][0]))"
      ]
    },
    {
      "cell_type": "code",
      "execution_count": null,
      "metadata": {
        "id": "c2oy0_D-E8ud"
      },
      "outputs": [],
      "source": [
        "vocab_dict = {v: k for k, v in enumerate(sorted(vocab_list))}\n",
        "vocab_dict\n"
      ]
    },
    {
      "cell_type": "code",
      "execution_count": null,
      "metadata": {
        "id": "EzqMvEy3E8ud"
      },
      "outputs": [],
      "source": [
        "# make seperate token for space ' '\n",
        "vocab_dict[\"|\"] = vocab_dict[\" \"]\n",
        "del vocab_dict[\" \"]"
      ]
    },
    {
      "cell_type": "code",
      "execution_count": null,
      "metadata": {
        "id": "S37KlwdVE8ud"
      },
      "outputs": [],
      "source": [
        "vocab_dict[\"[UNK]\"] = len(vocab_dict)\n",
        "vocab_dict[\"[PAD]\"] = len(vocab_dict)\n",
        "len(vocab_dict)"
      ]
    },
    {
      "cell_type": "code",
      "execution_count": null,
      "metadata": {
        "id": "tW22x5V3_7BA"
      },
      "outputs": [],
      "source": [
        "import json\n",
        "with open('vocab.json', 'w') as vocab_file:\n",
        "    json.dump(vocab_dict, vocab_file)"
      ]
    },
    {
      "cell_type": "markdown",
      "metadata": {
        "id": "HhzE8rWxE8ud"
      },
      "source": [
        "## Create Wav2Vec2CTCTokenizer\n",
        "\n",
        "In this section, we will create a **Wav2Vec2CTCTokenizer** for our speech recognition model. This tokenizer is essential for converting text into token IDs that the model can understand, enabling it to process and recognize speech effectively.\n",
        "\n",
        "### Objectives:\n",
        "\n",
        "1. **Understand Tokenization**: Tokenization is the process of converting text into a format suitable for the model. For speech recognition, this involves mapping characters in the vocabulary to unique integer IDs.\n",
        "\n",
        "2. **Create the Tokenizer**: We will instantiate the Wav2Vec2CTCTokenizer using our previously defined vocabulary. This tokenizer will facilitate the conversion of transcripts into token IDs during training and inference.\n",
        "\n",
        "3. **Test the Tokenizer**: After creating the tokenizer, we will run a few examples through it to ensure it is functioning correctly and producing the expected output.\n",
        "\n",
        "### Importance:\n",
        "\n",
        "Having a well-defined tokenizer is crucial for the training and evaluation of the model. It allows the model to interpret and generate text accurately based on the audio input. A tokenizer that aligns closely with the vocabulary used in the training data will enhance the model's performance in real-world applications."
      ]
    },
    {
      "cell_type": "code",
      "execution_count": null,
      "metadata": {
        "id": "qBHaaVrZE8ud"
      },
      "outputs": [],
      "source": [
        "from transformers import Wav2Vec2CTCTokenizer\n",
        "\n",
        "tokenizer = Wav2Vec2CTCTokenizer.from_pretrained(\"./\", unk_token=\"[UNK]\", pad_token=\"[PAD]\", word_delimiter_token=\"|\")"
      ]
    },
    {
      "cell_type": "code",
      "execution_count": null,
      "metadata": {
        "id": "QK-oiiR7BI3x"
      },
      "outputs": [],
      "source": [
        "from huggingface_hub import login\n",
        "\n",
        "# write your own secret key or token\n",
        "login('your_token')"
      ]
    },
    {
      "cell_type": "code",
      "execution_count": null,
      "metadata": {
        "id": "5Pyaf9CDAkah"
      },
      "outputs": [],
      "source": [
        "repo_name = \"wav2vec2-large-xls-r-300m-hindi-colab-total\""
      ]
    },
    {
      "cell_type": "code",
      "execution_count": null,
      "metadata": {
        "id": "1Q1vspYEAnnG"
      },
      "outputs": [],
      "source": [
        "tokenizer.push_to_hub(repo_name)"
      ]
    },
    {
      "cell_type": "markdown",
      "metadata": {
        "id": "l2kxvm8EE8ue"
      },
      "source": [
        "## Create Wav2Vec2FeatureExtractor & Wav2Vec2Processor\n",
        "\n",
        "In this section, we will create a **Wav2Vec2FeatureExtractor** for our Wav2Vec model. The feature extractor is responsible for processing audio input and converting it into a suitable format for the model to work with. This step is essential for ensuring that the audio data is correctly preprocessed before being fed into the model.\n",
        "\n",
        "### Objectives:\n",
        "\n",
        "1. **Understand Feature Extraction**: Feature extraction involves transforming raw audio waveforms into a format that the model can understand. This typically includes steps like resampling, normalization, and potentially applying feature extraction techniques.\n",
        "\n",
        "2. **Instantiate the Feature Extractor**: We will create a Wav2Vec2FeatureExtractor using the appropriate parameters. This will configure the extractor to handle the audio inputs for our specific task.\n",
        "\n",
        "3. **Test the Feature Extractor**: After creating the feature extractor, we will run some sample audio data through it to verify that it produces the expected output.\n",
        "\n",
        "### Importance:\n",
        "\n",
        "A well-defined feature extractor is critical for the model's performance. It ensures that the input audio is in the right format and quality, which can significantly impact the model's ability to accurately recognize speech. The feature extractor will help in normalizing the audio data, making it consistent and ready for further processing."
      ]
    },
    {
      "cell_type": "code",
      "execution_count": null,
      "metadata": {
        "id": "zEAQsZV4E8ue"
      },
      "outputs": [],
      "source": [
        "from transformers import Wav2Vec2FeatureExtractor\n",
        "\n",
        "feature_extractor = Wav2Vec2FeatureExtractor(feature_size=1, sampling_rate=16000, padding_value=0.0, do_normalize=True, return_attention_mask=True)"
      ]
    },
    {
      "cell_type": "code",
      "execution_count": null,
      "metadata": {
        "id": "77i9vHBOE8ue"
      },
      "outputs": [],
      "source": [
        "from transformers import Wav2Vec2Processor\n",
        "\n",
        "processor = Wav2Vec2Processor(feature_extractor=feature_extractor, tokenizer=tokenizer)"
      ]
    },
    {
      "cell_type": "markdown",
      "metadata": {
        "id": "0xwg_4NLE8ue"
      },
      "source": [
        "## Preprocess Audio Data\n",
        "\n",
        "In this section, we will preprocess the audio data to prepare it for training our Wav2Vec model. Proper audio preprocessing is essential for effective speech recognition.\n",
        "\n",
        "### Objectives:\n",
        "\n",
        "1. **Load Audio Files**: Retrieve audio samples from the Common Voice Hindi dataset.\n",
        "2. **Apply Feature Extractor**: Use the Wav2Vec2FeatureExtractor to transform raw audio into feature representations.\n",
        "3. **Organize Data**: Structure the processed audio and corresponding transcripts for model training."
      ]
    },
    {
      "cell_type": "code",
      "execution_count": null,
      "metadata": {
        "id": "m3sKi57gE8ue"
      },
      "outputs": [],
      "source": [
        "common_voice['train'][0][\"path\"]"
      ]
    },
    {
      "cell_type": "code",
      "execution_count": null,
      "metadata": {
        "id": "JdoM6zUiE8ue"
      },
      "outputs": [],
      "source": [
        "common_voice['train'][0]['audio']"
      ]
    },
    {
      "cell_type": "code",
      "execution_count": null,
      "metadata": {
        "id": "8_5qznnQE8ue"
      },
      "outputs": [],
      "source": [
        "# Downsample sampling rate\n",
        "common_voice['train'] = common_voice['train'].cast_column(\"audio\", Audio(sampling_rate=16_000))\n",
        "common_voice['test'] = common_voice['test'].cast_column(\"audio\", Audio(sampling_rate=16_000))"
      ]
    },
    {
      "cell_type": "code",
      "execution_count": null,
      "metadata": {
        "id": "LWqQoAE2E8ue"
      },
      "outputs": [],
      "source": [
        "# check audio\n",
        "common_voice['train'][0]['audio'] # sampling rate 16kHz"
      ]
    },
    {
      "cell_type": "markdown",
      "metadata": {
        "id": "Rq3yKRAwE8uf"
      },
      "source": [
        "## Explore Audio Files\n",
        "\n",
        "In this section, we will explore the audio files from the Common Voice Hindi dataset. This exploration is crucial for understanding the quality and characteristics of the audio data we will be working with during model training.\n",
        "\n",
        "### Objectives:\n",
        "\n",
        "1. **Inspect Audio Samples**: We will listen to a selection of audio samples to evaluate their clarity, volume, and overall quality. This will help us identify any potential issues that may affect model performance.\n",
        "\n",
        "2. **Analyze Audio Properties**: We will examine key properties of the audio files, such as sample rate, duration, and format. Understanding these characteristics will inform our preprocessing steps and ensure consistency across the dataset.\n",
        "\n",
        "3. **Visualize Audio Waveforms**: By plotting waveforms of selected audio samples, we can visually assess variations in amplitude and frequency. This visualization will aid in identifying patterns and anomalies in the audio data.\n",
        "\n",
        "### Importance:\n",
        "\n",
        "Exploring the audio files is vital for ensuring that the dataset is suitable for training our Wav2Vec model. By understanding the quality and characteristics of the audio, we can make informed decisions about preprocessing and any necessary enhancements.\n"
      ]
    },
    {
      "cell_type": "code",
      "execution_count": null,
      "metadata": {
        "id": "CsqPziBpE8uf"
      },
      "outputs": [],
      "source": [
        "import IPython.display as ipd\n",
        "import numpy as np\n",
        "import random\n",
        "\n",
        "rand_int = random.randint(0, len(common_voice['train'])-1)\n",
        "\n",
        "print(common_voice['train'][rand_int][\"sentence\"])\n",
        "ipd.Audio(data=common_voice['train'][rand_int][\"audio\"][\"array\"], autoplay=True, rate=16000)"
      ]
    },
    {
      "cell_type": "code",
      "execution_count": null,
      "metadata": {
        "id": "KJNBIv2CE8uf"
      },
      "outputs": [],
      "source": [
        "rand_int = random.randint(0, len(common_voice['train'])-1)\n",
        "\n",
        "print(\"Target text:\", common_voice['train'][rand_int][\"sentence\"])\n",
        "print(\"Input array shape:\", common_voice['train'][rand_int][\"audio\"][\"array\"].shape)\n",
        "print(\"Sampling rate:\", common_voice['train'][rand_int][\"audio\"][\"sampling_rate\"])"
      ]
    },
    {
      "cell_type": "markdown",
      "metadata": {
        "id": "9dyZIGaGE8uj"
      },
      "source": [
        "## Visualize Audios"
      ]
    },
    {
      "cell_type": "code",
      "execution_count": null,
      "metadata": {
        "id": "c0LpLVhWE8uj"
      },
      "outputs": [],
      "source": [
        "import librosa\n",
        "import librosa.display\n",
        "import matplotlib.pyplot as plt\n",
        "\n",
        "# Access audio data and sampling rate\n",
        "audio_data = common_voice['train'][0]['audio'][\"array\"]\n",
        "sampling_rate = common_voice['train'][0]['audio'][\"sampling_rate\"]  # Extract the sampling rate value\n",
        "\n",
        "# Create a spectrogram\n",
        "D = librosa.stft(audio_data)  # Short-time Fourier transform\n",
        "S_db = librosa.amplitude_to_db(abs(D), ref=np.max)  # Convert to decibels\n",
        "\n",
        "# Plotting the spectrogram\n",
        "plt.figure(figsize=(10, 4))\n",
        "librosa.display.specshow(S_db, sr=sampling_rate, x_axis='time', y_axis='log', cmap='viridis')\n",
        "plt.colorbar(format='%+2.0f dB')\n",
        "plt.title('Spectrogram')\n",
        "plt.tight_layout()\n",
        "plt.show()\n"
      ]
    },
    {
      "cell_type": "code",
      "execution_count": null,
      "metadata": {
        "id": "_z5rD1DXE8uj"
      },
      "outputs": [],
      "source": [
        "# Compute the chromagram\n",
        "chromagram = librosa.feature.chroma_stft(y=audio_data, sr=sampling_rate)\n",
        "\n",
        "# Plotting the chromagram\n",
        "plt.figure(figsize=(10, 4))\n",
        "librosa.display.specshow(chromagram, sr=sampling_rate, x_axis='time', y_axis='chroma', cmap='viridis')\n",
        "plt.colorbar()\n",
        "plt.title('Chromagram')\n",
        "plt.tight_layout()\n",
        "plt.show()\n"
      ]
    },
    {
      "cell_type": "code",
      "execution_count": null,
      "metadata": {
        "id": "CV-9nKLCE8uj"
      },
      "outputs": [],
      "source": [
        "zero_crossing_rate = librosa.feature.zero_crossing_rate(y=audio_data)\n",
        "\n",
        "plt.figure(figsize=(10, 4))\n",
        "plt.plot(zero_crossing_rate[0])\n",
        "plt.title('Zero-Crossing Rate')\n",
        "plt.xlabel('Frames')\n",
        "plt.ylabel('Rate')\n",
        "plt.grid()\n",
        "plt.show()"
      ]
    },
    {
      "cell_type": "code",
      "execution_count": null,
      "metadata": {
        "id": "tmRkoIpLE8uj"
      },
      "outputs": [],
      "source": [
        "spectral_centroid = librosa.feature.spectral_centroid(y=audio_data, sr=sampling_rate)\n",
        "\n",
        "plt.figure(figsize=(10, 4))\n",
        "plt.semilogy(spectral_centroid[0], label='Spectral Centroid', color='r')\n",
        "plt.title('Spectral Centroid')\n",
        "plt.ylabel('Hz')\n",
        "plt.xticks([])\n",
        "plt.xlim([0, spectral_centroid.shape[-1]])\n",
        "plt.legend(loc='upper right')\n",
        "plt.tight_layout()\n",
        "plt.show()"
      ]
    },
    {
      "cell_type": "code",
      "execution_count": null,
      "metadata": {
        "id": "gYgTBsLFE8uj"
      },
      "outputs": [],
      "source": [
        "# Create a Log-Mel spectrogram\n",
        "S_mel = librosa.feature.melspectrogram(y=audio_data, sr=sampling_rate, n_mels=128, fmax=8000)\n",
        "S_log_mel_db = librosa.amplitude_to_db(S_mel, ref=np.max)\n",
        "\n",
        "# Plotting the Log-Mel spectrogram\n",
        "plt.figure(figsize=(10, 4))\n",
        "librosa.display.specshow(S_log_mel_db, sr=sampling_rate, x_axis='time', y_axis='mel', fmax=8000, cmap='viridis')\n",
        "plt.colorbar(format='%+2.0f dB')\n",
        "plt.title('Log-Mel Spectrogram')\n",
        "plt.tight_layout()\n",
        "plt.show()"
      ]
    },
    {
      "cell_type": "code",
      "execution_count": null,
      "metadata": {
        "id": "klpDuiURE8uj"
      },
      "outputs": [],
      "source": [
        "# Compute the CQT\n",
        "C = librosa.cqt(audio_data, sr=sampling_rate)\n",
        "C_db = librosa.amplitude_to_db(np.abs(C), ref=np.max)\n",
        "\n",
        "# Plotting the CQT spectrogram\n",
        "plt.figure(figsize=(10, 4))\n",
        "librosa.display.specshow(C_db, sr=sampling_rate, x_axis='time', y_axis='cqt_hz', cmap='viridis')\n",
        "plt.colorbar(format='%+2.0f dB')\n",
        "plt.title('Constant-Q Transform (CQT) Spectrogram')\n",
        "plt.tight_layout()\n",
        "plt.show()"
      ]
    },
    {
      "cell_type": "code",
      "execution_count": null,
      "metadata": {
        "id": "82M48jyVE8uj"
      },
      "outputs": [],
      "source": [
        "# Create an STFT spectrogram with custom parameters\n",
        "D = librosa.stft(audio_data, n_fft=2048, hop_length=512)  # Adjust n_fft and hop_length as needed\n",
        "S_db_stft = librosa.amplitude_to_db(abs(D), ref=np.max)\n",
        "\n",
        "# Plotting the STFT spectrogram\n",
        "plt.figure(figsize=(10, 4))\n",
        "librosa.display.specshow(S_db_stft, sr=sampling_rate, x_axis='time', y_axis='linear', cmap='viridis')\n",
        "plt.colorbar(format='%+2.0f dB')\n",
        "plt.title('Short-Time Fourier Transform (STFT) Spectrogram')\n",
        "plt.tight_layout()\n",
        "plt.show()"
      ]
    },
    {
      "cell_type": "code",
      "execution_count": null,
      "metadata": {
        "id": "Gvvnw1MyE8uk"
      },
      "outputs": [],
      "source": [
        "# Compute the spectral contrast\n",
        "spectral_contrast = librosa.feature.spectral_contrast(y=audio_data, sr=sampling_rate)\n",
        "\n",
        "# Plotting the spectral contrast\n",
        "plt.figure(figsize=(10, 4))\n",
        "plt.semilogy(spectral_contrast[0], label='Spectral Contrast', color='r')\n",
        "plt.title('Spectral Contrast')\n",
        "plt.ylabel('Spectral Contrast')\n",
        "plt.xticks([])\n",
        "plt.xlim([0, spectral_contrast.shape[-1]])\n",
        "plt.legend(loc='upper right')\n",
        "plt.tight_layout()\n",
        "plt.show()"
      ]
    },
    {
      "cell_type": "code",
      "execution_count": null,
      "metadata": {
        "id": "_jged50JE8uk"
      },
      "outputs": [],
      "source": [
        "# Compute MFCCs\n",
        "mfccs = librosa.feature.mfcc(y=audio_data, sr=sampling_rate, n_mfcc=13)\n",
        "\n",
        "# Plotting the MFCCs\n",
        "plt.figure(figsize=(10, 4))\n",
        "librosa.display.specshow(mfccs, sr=sampling_rate, x_axis='time')\n",
        "plt.colorbar()\n",
        "plt.title('MFCC')\n",
        "plt.tight_layout()\n",
        "plt.show()"
      ]
    },
    {
      "cell_type": "code",
      "execution_count": null,
      "metadata": {
        "id": "s1meUpsJE8uk"
      },
      "outputs": [],
      "source": [
        "import numpy as np\n",
        "\n",
        "# Compute the Short-Time Fourier Transform (STFT)\n",
        "D = librosa.stft(audio_data)\n",
        "\n",
        "# Get the pitch tracking\n",
        "pitches, magnitudes = librosa.piptrack(y=audio_data, sr=sampling_rate)\n",
        "\n",
        "# Select the maximum pitch for each time frame\n",
        "pitch_values = np.array([p[np.argmax(m)] if np.max(m) > 0 else 0 for p, m in zip(pitches.T, magnitudes.T)])\n",
        "\n",
        "# Plotting the pitch over time\n",
        "plt.figure(figsize=(10, 4))\n",
        "plt.plot(pitch_values, label='Pitch', color='r')\n",
        "plt.title('Pitch Tracking')\n",
        "plt.xlabel('Frames')\n",
        "plt.ylabel('Frequency (Hz)')\n",
        "plt.legend()\n",
        "plt.grid()\n",
        "plt.show()"
      ]
    },
    {
      "cell_type": "code",
      "execution_count": null,
      "metadata": {
        "id": "soqowz87E8uk"
      },
      "outputs": [],
      "source": [
        "# Compute spectral flatness\n",
        "spectral_flatness = librosa.feature.spectral_flatness(y=audio_data)\n",
        "\n",
        "# Plotting spectral flatness\n",
        "plt.figure(figsize=(10, 4))\n",
        "plt.semilogy(spectral_flatness[0], label='Spectral Flatness', color='b')\n",
        "plt.title('Spectral Flatness')\n",
        "plt.ylabel('Spectral Flatness')\n",
        "plt.xlabel('Frames')\n",
        "plt.xlim([0, spectral_flatness.shape[-1]])\n",
        "plt.legend(loc='upper right')\n",
        "plt.grid()\n",
        "plt.tight_layout()\n",
        "plt.show()"
      ]
    },
    {
      "cell_type": "code",
      "execution_count": null,
      "metadata": {
        "id": "4z2RXsGqE8uk"
      },
      "outputs": [],
      "source": [
        "# Compute the spectrogram for a specific segment\n",
        "D = librosa.stft(audio_data)\n",
        "S_db = librosa.amplitude_to_db(np.abs(D), ref=np.max)\n",
        "\n",
        "# Plotting the spectrogram with highlighted formants\n",
        "plt.figure(figsize=(10, 4))\n",
        "librosa.display.specshow(S_db, sr=sampling_rate, x_axis='time', y_axis='log', cmap='viridis')\n",
        "plt.colorbar(format='%+2.0f dB')\n",
        "plt.title('Spectrogram with Formants')\n",
        "plt.tight_layout()\n",
        "plt.show()"
      ]
    },
    {
      "cell_type": "code",
      "execution_count": null,
      "metadata": {
        "id": "4gF830wOE8uk"
      },
      "outputs": [],
      "source": [
        "plt.figure(figsize=(10, 4))\n",
        "plt.plot(audio_data, label='Audio Waveform')\n",
        "plt.title('Audio Waveform')\n",
        "plt.xlabel('Samples')\n",
        "plt.ylabel('Amplitude')\n",
        "plt.legend()\n",
        "plt.grid()\n",
        "plt.show()"
      ]
    },
    {
      "cell_type": "code",
      "execution_count": null,
      "metadata": {
        "id": "kVcGb25FE8uk"
      },
      "outputs": [],
      "source": [
        "# Define a threshold to distinguish between signal and noise\n",
        "threshold = 0.05  # Adjust based on your audio data\n",
        "\n",
        "# Compute the noise level\n",
        "noise = audio_data[audio_data < threshold]\n",
        "signal = audio_data[audio_data >= threshold]\n",
        "\n",
        "noise_level = np.mean(np.abs(noise)) if len(noise) > 0 else 0\n",
        "signal_level = np.mean(np.abs(signal)) if len(signal) > 0 else 0\n",
        "\n",
        "nsr = noise_level / signal_level if signal_level > 0 else float('inf')\n",
        "print(f\"Noise-to-Signal Ratio: {nsr:.4f}\")"
      ]
    },
    {
      "cell_type": "code",
      "execution_count": null,
      "metadata": {
        "id": "7JG8efA5E8uk"
      },
      "outputs": [],
      "source": [
        "# Compute the FFT\n",
        "fft_values = np.fft.fft(audio_data)\n",
        "frequencies = np.fft.fftfreq(len(fft_values), 1/sampling_rate)\n",
        "\n",
        "# Plotting the frequency components\n",
        "plt.figure(figsize=(10, 4))\n",
        "plt.plot(frequencies[:len(frequencies)//2], np.abs(fft_values)[:len(fft_values)//2])\n",
        "plt.title('Frequency Domain')\n",
        "plt.xlabel('Frequency (Hz)')\n",
        "plt.ylabel('Amplitude')\n",
        "plt.xlim(0, 8000)  # Limit x-axis to relevant frequencies\n",
        "plt.grid()\n",
        "plt.show()"
      ]
    },
    {
      "cell_type": "code",
      "execution_count": null,
      "metadata": {
        "id": "A1oBIhUhE8uk"
      },
      "outputs": [],
      "source": [
        "# Compute spectral flatness\n",
        "spectral_flatness = librosa.feature.spectral_flatness(y=audio_data)\n",
        "\n",
        "# Plotting spectral flatness\n",
        "plt.figure(figsize=(10, 4))\n",
        "plt.semilogy(spectral_flatness[0], label='Spectral Flatness', color='b')\n",
        "plt.title('Spectral Flatness')\n",
        "plt.ylabel('Spectral Flatness')\n",
        "plt.xlabel('Frames')\n",
        "plt.xlim([0, spectral_flatness.shape[-1]])\n",
        "plt.legend(loc='upper right')\n",
        "plt.grid()\n",
        "plt.tight_layout()\n",
        "plt.show()"
      ]
    },
    {
      "cell_type": "code",
      "execution_count": null,
      "metadata": {
        "id": "t0sD5sbwE8ul"
      },
      "outputs": [],
      "source": [
        "# Simulated example for spatial audio\n",
        "x = np.linspace(-1, 1, 100)\n",
        "y = np.linspace(-1, 1, 100)\n",
        "X, Y = np.meshgrid(x, y)\n",
        "Z = np.sin(2 * np.pi * (X**2 + Y**2))  # Example data\n",
        "\n",
        "fig = plt.figure(figsize=(10, 6))\n",
        "ax = fig.add_subplot(111, projection='3d')\n",
        "ax.plot_surface(X, Y, Z, cmap='viridis')\n",
        "ax.set_title('3D Soundfield Visualization')\n",
        "ax.set_xlabel('X-axis')\n",
        "ax.set_ylabel('Y-axis')\n",
        "ax.set_zlabel('Amplitude')\n",
        "plt.show()"
      ]
    },
    {
      "cell_type": "markdown",
      "metadata": {
        "id": "LjGIXH9kE8ul"
      },
      "source": [
        "## Prepare Dataset"
      ]
    },
    {
      "cell_type": "code",
      "execution_count": null,
      "metadata": {
        "id": "8GtbyMguE8ul"
      },
      "outputs": [],
      "source": [
        "def prepare_dataset(batch):\n",
        "    audio = batch[\"audio\"]\n",
        "\n",
        "    # batched output is \"un-batched\"\n",
        "    batch[\"input_values\"] = processor(audio[\"array\"], sampling_rate=audio[\"sampling_rate\"]).input_values[0]\n",
        "    batch[\"input_length\"] = len(batch[\"input_values\"])\n",
        "\n",
        "    with processor.as_target_processor():\n",
        "        batch[\"labels\"] = processor(batch[\"sentence\"]).input_ids\n",
        "    return batch"
      ]
    },
    {
      "cell_type": "code",
      "execution_count": null,
      "metadata": {
        "id": "xW78k323E8ul"
      },
      "outputs": [],
      "source": [
        "common_voice['train'] = common_voice['train'].map(prepare_dataset, remove_columns=common_voice['train'].column_names)\n",
        "common_voice['test'] = common_voice['test'].map(prepare_dataset, remove_columns=common_voice['test'].column_names)"
      ]
    },
    {
      "cell_type": "markdown",
      "metadata": {
        "id": "cmStQZUQE8ul"
      },
      "source": [
        "## Training Pipeline Setup\n",
        "\n",
        "We are now ready to set up the training pipeline using Hugging Face's Trainer for fine-tuning the Wav2Vec model. The steps involved include:\n",
        "\n",
        "1. **Define a Data Collator**: Given the large input sizes of XLS-R, we'll implement a data collator that dynamically pads training batches to the length of the longest sample in each batch, rather than the overall longest sample. This is essential for efficient training.\n",
        "\n",
        "2. **Evaluation Metric**: We'll establish a `compute_metrics` function to evaluate the model using the word error rate (WER) during training.\n",
        "\n",
        "3. **Load Pretrained Checkpoint**: A pretrained checkpoint will be loaded and configured properly for our training task.\n",
        "\n",
        "4. **Training Configuration**: Define the training parameters, including learning rate, batch size, and number of epochs.\n",
        "\n",
        "5. **Model Evaluation**: After fine-tuning the model, we will evaluate it on the test dataset to confirm its accuracy in transcribing speech.\n",
        "\n",
        "### Data Collator Setup\n",
        "We'll begin by implementing the data collator. This specialized collator treats `input_values` and `labels` separately, applying distinct padding methods for each. Labels will use a padding token of `-100` to exclude those tokens from loss calculations.\n",
        "\n",
        "This structured approach will ensure an efficient and effective training process for the Wav2Vec model."
      ]
    },
    {
      "cell_type": "code",
      "execution_count": null,
      "metadata": {
        "id": "HHQJvskCE8ul"
      },
      "outputs": [],
      "source": [
        "import torch\n",
        "\n",
        "from dataclasses import dataclass, field\n",
        "from typing import Any, Dict, List, Optional, Union\n",
        "\n",
        "@dataclass\n",
        "class DataCollatorCTCWithPadding:\n",
        "    \"\"\"\n",
        "    Data collator that will dynamically pad the inputs received.\n",
        "    Args:\n",
        "        processor (:class:`~transformers.Wav2Vec2Processor`)\n",
        "            The processor used for proccessing the data.\n",
        "        padding (:obj:`bool`, :obj:`str` or :class:`~transformers.tokenization_utils_base.PaddingStrategy`, `optional`, defaults to :obj:`True`):\n",
        "            Select a strategy to pad the returned sequences (according to the model's padding side and padding index)\n",
        "            among:\n",
        "            * :obj:`True` or :obj:`'longest'`: Pad to the longest sequence in the batch (or no padding if only a single\n",
        "              sequence if provided).\n",
        "            * :obj:`'max_length'`: Pad to a maximum length specified with the argument :obj:`max_length` or to the\n",
        "              maximum acceptable input length for the model if that argument is not provided.\n",
        "            * :obj:`False` or :obj:`'do_not_pad'` (default): No padding (i.e., can output a batch with sequences of\n",
        "              different lengths).\n",
        "    \"\"\"\n",
        "\n",
        "    processor: Wav2Vec2Processor\n",
        "    padding: Union[bool, str] = True\n",
        "\n",
        "    def __call__(self, features: List[Dict[str, Union[List[int], torch.Tensor]]]) -> Dict[str, torch.Tensor]:\n",
        "        # split inputs and labels since they have to be of different lengths and need\n",
        "        # different padding methods\n",
        "        input_features = [{\"input_values\": feature[\"input_values\"]} for feature in features]\n",
        "        label_features = [{\"input_ids\": feature[\"labels\"]} for feature in features]\n",
        "\n",
        "        batch = self.processor.pad(\n",
        "            input_features,\n",
        "            padding=self.padding,\n",
        "            return_tensors=\"pt\",\n",
        "        )\n",
        "        with self.processor.as_target_processor():\n",
        "            labels_batch = self.processor.pad(\n",
        "                label_features,\n",
        "                padding=self.padding,\n",
        "                return_tensors=\"pt\",\n",
        "            )\n",
        "\n",
        "        # replace padding with -100 to ignore loss correctly\n",
        "        labels = labels_batch[\"input_ids\"].masked_fill(labels_batch.attention_mask.ne(1), -100)\n",
        "\n",
        "        batch[\"labels\"] = labels\n",
        "\n",
        "        return batch"
      ]
    },
    {
      "cell_type": "code",
      "execution_count": null,
      "metadata": {
        "id": "7JZhUrSEE8ul"
      },
      "outputs": [],
      "source": [
        "data_collator = DataCollatorCTCWithPadding(processor=processor, padding=True)"
      ]
    },
    {
      "cell_type": "code",
      "execution_count": null,
      "metadata": {
        "id": "s7LlxfuSE8um"
      },
      "outputs": [],
      "source": [
        "!pip install evaluate\n",
        "!pip install jiwer"
      ]
    },
    {
      "cell_type": "code",
      "execution_count": null,
      "metadata": {
        "id": "X_FIv2k0E8um"
      },
      "outputs": [],
      "source": [
        "from evaluate import load\n",
        "\n",
        "wer_metric = load(\"wer\")"
      ]
    },
    {
      "cell_type": "code",
      "execution_count": null,
      "metadata": {
        "id": "HHCvb488E8um"
      },
      "outputs": [],
      "source": [
        "def compute_metrics(pred):\n",
        "    pred_logits = pred.predictions\n",
        "    pred_ids = np.argmax(pred_logits, axis=-1)\n",
        "\n",
        "    pred.label_ids[pred.label_ids == -100] = processor.tokenizer.pad_token_id\n",
        "\n",
        "    pred_str = processor.batch_decode(pred_ids)\n",
        "    # we do not want to group tokens when computing the metrics\n",
        "    label_str = processor.batch_decode(pred.label_ids, group_tokens=False)\n",
        "\n",
        "    wer = wer_metric.compute(predictions=pred_str, references=label_str)\n",
        "\n",
        "    return {\"wer\": wer}"
      ]
    },
    {
      "cell_type": "code",
      "execution_count": null,
      "metadata": {
        "id": "p9zHdxgAE8um"
      },
      "outputs": [],
      "source": [
        "from transformers import Wav2Vec2ForCTC\n",
        "\n",
        "model = Wav2Vec2ForCTC.from_pretrained(\n",
        "    \"facebook/wav2vec2-xls-r-300m\",\n",
        "    attention_dropout=0.0,\n",
        "    hidden_dropout=0.0,\n",
        "    feat_proj_dropout=0.0,\n",
        "    mask_time_prob=0.05,\n",
        "    layerdrop=0.0,\n",
        "    ctc_loss_reduction=\"mean\",\n",
        "    pad_token_id=processor.tokenizer.pad_token_id,\n",
        "    vocab_size=len(processor.tokenizer),\n",
        ")"
      ]
    },
    {
      "cell_type": "code",
      "execution_count": null,
      "metadata": {
        "id": "OeeolWx7E8um"
      },
      "outputs": [],
      "source": [
        "model.freeze_feature_extractor()"
      ]
    },
    {
      "cell_type": "code",
      "execution_count": null,
      "metadata": {
        "id": "_qkE5jneE8um"
      },
      "outputs": [],
      "source": [
        "from transformers import TrainingArguments\n",
        "\n",
        "training_args = TrainingArguments(\n",
        "  output_dir=repo_name,\n",
        "  # run_name=\"finetuned_wav2vec_hindi\",\n",
        "  group_by_length=True,\n",
        "  report_to=\"none\",\n",
        "  per_device_train_batch_size=16,\n",
        "  gradient_accumulation_steps=2,\n",
        "  eval_strategy=\"steps\",\n",
        "  num_train_epochs=30,\n",
        "  gradient_checkpointing=True,\n",
        "  fp16=True,\n",
        "  save_steps=400,\n",
        "  eval_steps=400,\n",
        "  logging_steps=400,\n",
        "  learning_rate=3e-4,\n",
        "  warmup_steps=500,\n",
        "  save_total_limit=2,\n",
        "  push_to_hub=False,\n",
        ")"
      ]
    },
    {
      "cell_type": "code",
      "execution_count": null,
      "metadata": {
        "id": "zx6AeaisE8um"
      },
      "outputs": [],
      "source": [
        "from transformers import Trainer\n",
        "\n",
        "trainer = Trainer(\n",
        "    model=model,\n",
        "    data_collator=data_collator,\n",
        "    args=training_args,\n",
        "    compute_metrics=compute_metrics,\n",
        "    train_dataset=common_voice['train'],\n",
        "    eval_dataset=common_voice['test'],\n",
        "    tokenizer=processor.feature_extractor,\n",
        ")"
      ]
    },
    {
      "cell_type": "code",
      "execution_count": null,
      "metadata": {
        "colab": {
          "background_save": true
        },
        "id": "INoBMGCPE8um"
      },
      "outputs": [],
      "source": [
        "trainer.train()"
      ]
    },
    {
      "cell_type": "code",
      "execution_count": null,
      "metadata": {
        "colab": {
          "background_save": true
        },
        "id": "CVHIJSgrDEfc"
      },
      "outputs": [],
      "source": [
        "trainer.push_to_hub()"
      ]
    },
    {
      "cell_type": "markdown",
      "metadata": {
        "id": "fn5Zxz0AE8un"
      },
      "source": [
        "## Evaluation of model"
      ]
    },
    {
      "cell_type": "code",
      "execution_count": null,
      "metadata": {
        "colab": {
          "background_save": true
        },
        "id": "42SUKWPfE8un"
      },
      "outputs": [],
      "source": [
        "# if loading model from pretrained checkpoints\n",
        "model = Wav2Vec2ForCTC.from_pretrained('Athrensis/wav2vec2-large-xls-r-300m-hindi-colab-total').to(\"cuda\")\n",
        "processor = Wav2Vec2Processor.from_pretrained('Athrensis/wav2vec2-large-xls-r-300m-hindi-colab-total', use_auth_token='your_token')"
      ]
    },
    {
      "cell_type": "code",
      "execution_count": null,
      "metadata": {
        "colab": {
          "background_save": true
        },
        "id": "oi3rsTc2E8un"
      },
      "outputs": [],
      "source": [
        "device = 'cuda' if torch.cuda.is_available() else 'cpu'\n",
        "print(device)"
      ]
    },
    {
      "cell_type": "code",
      "execution_count": null,
      "metadata": {
        "colab": {
          "background_save": true
        },
        "id": "jFue-GnXE8un"
      },
      "outputs": [],
      "source": [
        "input_dict = processor(common_voice['test'][5][\"input_values\"],sampling_rate=16000, return_tensors=\"pt\", padding=True)\n",
        "\n",
        "logits = model(input_dict.input_values.to(device)).logits\n",
        "\n",
        "pred_ids = torch.argmax(logits, dim=-1)[0]"
      ]
    },
    {
      "cell_type": "code",
      "execution_count": null,
      "metadata": {
        "colab": {
          "background_save": true
        },
        "id": "u1-7g4sbE8un"
      },
      "outputs": [],
      "source": [
        "# get original dataset back\n",
        "common_voice_test_transcription = load_dataset(\"mozilla-foundation/common_voice_17_0\", \"hi\", split=\"test\")"
      ]
    },
    {
      "cell_type": "code",
      "execution_count": null,
      "metadata": {
        "colab": {
          "background_save": true
        },
        "id": "IRBXIDb1E8un"
      },
      "outputs": [],
      "source": [
        "print(\"Prediction:\")\n",
        "print(processor.decode(pred_ids))\n",
        "\n",
        "print(\"\\nReference:\")\n",
        "print(common_voice_test_transcription[5][\"sentence\"].lower())"
      ]
    },
    {
      "cell_type": "markdown",
      "source": [
        "## WER graph"
      ],
      "metadata": {
        "id": "qSmVgO6Y9xn1"
      }
    },
    {
      "cell_type": "code",
      "source": [
        "import matplotlib.pyplot as plt\n",
        "\n",
        "# Data\n",
        "steps = [400, 800, 1200, 1600, 2000, 2400, 2800, 3200, 3600, 4000, 4400]\n",
        "training_loss = [5.2118, 0.6184, 0.3282, 0.2173, 0.1643, 0.1302, 0.1076, 0.0923, 0.0754, 0.0646, 0.0575]\n",
        "validation_loss = [1.325244, 0.885186, 0.848446, 0.840873, 0.908178, 0.925040, 0.956912, 0.985446, 0.963144, 0.982244, 0.968380]\n",
        "wer = [0.815215, 0.635927, 0.563966, 0.534866, 0.520566, 0.510379, 0.505728, 0.503998, 0.484585, 0.473284, 0.466902]\n",
        "\n",
        "# Create plot\n",
        "fig, ax1 = plt.subplots()\n",
        "\n",
        "# Plot Training Loss and Validation Loss\n",
        "ax1.set_xlabel('Steps')\n",
        "ax1.set_ylabel('Loss', color='tab:blue')\n",
        "ax1.plot(steps, training_loss, marker='o', linestyle='-', color='tab:blue', label='Training Loss')\n",
        "ax1.plot(steps, validation_loss, marker='s', linestyle='--', color='tab:green', label='Validation Loss')\n",
        "ax1.tick_params(axis='y', labelcolor='tab:blue')\n",
        "ax1.legend(loc='upper left')\n",
        "\n",
        "# Create a secondary y-axis for WER\n",
        "ax2 = ax1.twinx()\n",
        "ax2.set_ylabel('WER', color='tab:red')\n",
        "ax2.plot(steps, wer, marker='d', linestyle='-.', color='tab:red', label='WER')\n",
        "ax2.tick_params(axis='y', labelcolor='tab:red')\n",
        "ax2.legend(loc='upper right')\n",
        "\n",
        "# Title and Grid\n",
        "plt.title('Training Loss, Validation Loss, and WER over Steps')\n",
        "plt.grid()\n",
        "\n",
        "# Show plot\n",
        "plt.show()"
      ],
      "metadata": {
        "colab": {
          "base_uri": "https://localhost:8080/",
          "height": 472
        },
        "id": "C6C9Jhrx4yA1",
        "outputId": "4866e160-24fe-4c00-d45f-89a9459cfafc"
      },
      "execution_count": 4,
      "outputs": [
        {
          "output_type": "display_data",
          "data": {
            "text/plain": [
              "<Figure size 640x480 with 2 Axes>"
            ],
            "image/png": "[encoded data removed]"
          },
          "metadata": {}
        }
      ]
    }
  ],
  "metadata": {
    "colab": {
      "provenance": []
    },
    "kaggle": {
      "accelerator": "gpu",
      "dataSources": [],
      "dockerImageVersionId": 30776,
      "isGpuEnabled": true,
      "isInternetEnabled": true,
      "language": "python",
      "sourceType": "notebook"
    },
    "kernelspec": {
      "display_name": "Python 3",
      "name": "python3"
    },
    "language_info": {
      "codemirror_mode": {
        "name": "ipython",
        "version": 3
      },
      "file_extension": ".py",
      "mimetype": "text/x-python",
      "name": "python",
      "nbconvert_exporter": "python",
      "pygments_lexer": "ipython3",
      "version": "3.10.14"
    }
  },
  "nbformat": 4,
  "nbformat_minor": 0
}